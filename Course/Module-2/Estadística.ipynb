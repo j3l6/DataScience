{
  "nbformat": 4,
  "nbformat_minor": 0,
  "metadata": {
    "colab": {
      "provenance": []
    },
    "kernelspec": {
      "name": "python3",
      "display_name": "Python 3"
    },
    "language_info": {
      "name": "python"
    }
  },
  "cells": [
    {
      "cell_type": "markdown",
      "source": [
        "# **Estadística**\n",
        "\n",
        "**La estadística** es una rama de las matemáticas que se encarga de recolectar, organizar, analizar, interpretar y presentar datos. **Su objetivo** principal es ayudarnos a **tomar decisiones** informadas a partir de la información que obtenemos del mundo real.\n",
        "\n",
        "Se divide en dos grandes áreas:\n",
        "\n",
        "### **Estadística descriptiva:**\n",
        "\n",
        "La estadística descriptiva se encarga de recoger, organizar, representar y resumir los datos de manera que sea fácil entenderlos. Se centra solamente en los datos observados y no busca hacer predicciones ni generalizar a otras situaciones.\n",
        "\n",
        "### **Estadística inferencial:**\n",
        "\n",
        "La estadística inferencial toma los datos de una muestra (una parte de la población) para hacer generalizaciones, estimaciones o predicciones sobre toda la población.\n",
        "\n",
        "Como en la vida real muchas veces no se puede encuestar a todos, la estadística inferencial nos da herramientas para sacar conclusiones confiables a partir de una muestra, incluyendo el grado de certeza o error de esas conclusiones.\n",
        "\n"
      ],
      "metadata": {
        "id": "tjsSEIwKRcls"
      }
    },
    {
      "cell_type": "markdown",
      "source": [
        "# **Varibled en estadística**\n",
        "\n",
        "En estadística, **una variable** es cualquier característica o propiedad que puede medirse, contarse o clasificarse y que puede tomar diferentes valores entre los individuos de una población o muestra.\n",
        "\n",
        "Las variables se clasifican de diferentes maneras\n",
        "\n",
        "### **Variables cualitativas (o categóricas)**\n",
        "\n",
        "Describen atributos o cualidades, no se expresan numéricamente.\n",
        "\n",
        "**Nominales:** No tienen orden.\\\n",
        "Ejemplos:\n",
        "* Color de ojos: azul, café, verde\n",
        "* Estado civil: soltero, casado, divorciado\n",
        "\n",
        "**Ordinales:** Tienen un orden o jerarquía, pero las diferencias entre valores no son medibles con precisión.\\\n",
        "Ejemplos:\n",
        "* Nivel educativo: primaria, secundaria, licenciatura\n",
        "* Talla de ropa: S, M, L, XL\n",
        "\n",
        "### **Variables cuantitativas (o numéricas)**\n",
        "\n",
        "Representan cantidades y se pueden medir numéricamente.\n",
        "\n",
        "**Discretas:** Toman valores enteros, generalmente contables.\\\n",
        "Ejemplos:\n",
        "* Cantidad de libros leídos\n",
        "* Número de autos por familia\n",
        "\n",
        "**Continuas:** Pueden tomar infinitos valores dentro de un rango (decimales incluidos).\\\n",
        "Ejemplos:\n",
        "* Altura (1.75 m)\n",
        "* Edad en años con decimales (23.5 años)"
      ],
      "metadata": {
        "id": "lxUhlB3qUx_2"
      }
    },
    {
      "cell_type": "markdown",
      "source": [
        "# **Medidas de tendencia central:**\n",
        "\n",
        "Las m**edidas de tendencia central** son herramientas estadísticas que nos ayudan a resumir un conjunto de datos con un solo valor que represente el **“centro”** o el comportamiento más típico o representativo de esos datos.\n",
        "\n",
        "Estas medidas nos sirven para:\n",
        "\n",
        "* Resumir datos complejos de manera simple.\n",
        "* Comparar distintos conjuntos de datos.\n",
        "* Identificar el valor más representativo de un grupo."
      ],
      "metadata": {
        "id": "a9VvzP1BaLuP"
      }
    },
    {
      "cell_type": "markdown",
      "source": [
        "### **Media (promedio)**\n",
        "\n",
        "Es la suma de todos los valores dividida entre la cantidad de datos. Es la medida más común para representar el \"valor medio\".\n",
        "\n",
        "Formula:\n",
        "\n",
        "$$Media = \\frac{Suma\\,de\\,todos\\,los\\,datos}{Número\\,total\\,de\\,datos}$$"
      ],
      "metadata": {
        "id": "t9kU5240aych"
      }
    },
    {
      "cell_type": "code",
      "source": [
        "#Función para encontrar la media"
      ],
      "metadata": {
        "id": "2sh7IIx1ax2j"
      },
      "execution_count": null,
      "outputs": []
    },
    {
      "cell_type": "code",
      "source": [
        "numeros = [5,8,5,9,5,8]\n",
        "\n",
        "promedio = sum(numeros)/len(numeros)\n",
        "print(promedio)"
      ],
      "metadata": {
        "id": "DkWOBhoKhWsy"
      },
      "execution_count": null,
      "outputs": []
    },
    {
      "cell_type": "markdown",
      "source": [
        "### **Mediana**\n",
        "\n",
        "Es el valor que está justo en el medio cuando los datos están ordenados. Si hay número impar de datos, es el del centro. Si es par, se promedian los dos del centro."
      ],
      "metadata": {
        "id": "5-DqXqH5eJYC"
      }
    },
    {
      "cell_type": "code",
      "source": [
        "# Funcion para encontrar la Media\n",
        "numeros = [10,20,30,40,50]\n",
        "numeros.sort()\n",
        "n=len(numeros)\n",
        "\n",
        "if n%2 == 1:\n",
        "  mediana = numeros[n//2]\n",
        "else:\n",
        "  mediana = (numero[n//2-1] + numeros[n//2])/2\n",
        "\n",
        "print(f\"La mediana de la lista de numero es: {mediana}\")"
      ],
      "metadata": {
        "colab": {
          "base_uri": "https://localhost:8080/"
        },
        "id": "yXZI6m1yhZIX",
        "outputId": "44f817ed-905e-40d4-c4c8-ed569bd608ea"
      },
      "execution_count": null,
      "outputs": [
        {
          "output_type": "stream",
          "name": "stdout",
          "text": [
            "La mediana de la lista de numero es: 30\n"
          ]
        }
      ]
    },
    {
      "cell_type": "markdown",
      "source": [
        "### **Moda**\n",
        "\n",
        "Es el valor que más se repite en un conjunto de datos. Puede haber más de una moda o ninguna si todos los valores son diferentes."
      ],
      "metadata": {
        "id": "iMqgwMDHejqJ"
      }
    },
    {
      "cell_type": "code",
      "source": [
        "#Función para encontrar la Moda\n",
        "numeros = [12,20,20,30,40,50,50,50]\n",
        "\n",
        "frecuencias = {}\n",
        "\n",
        "for numero in numeros:\n",
        "  if numero in frecuencias:\n",
        "    frecuencias[numero] += 1\n",
        "  else:\n",
        "    frecuencias[numero] = 1\n",
        "\n",
        "print(frecuencias)\n",
        "\n",
        "max_frecuencia = max(frecuencias.values())\n",
        "\n",
        "print(max_frecuencia)\n",
        "\n",
        "moda = [num for num, freq in frecuencias.items() if freq == max_frecuencia]\n",
        "print(moda)\n",
        "\n"
      ],
      "metadata": {
        "id": "bc5Kw5bpecnM",
        "colab": {
          "base_uri": "https://localhost:8080/"
        },
        "outputId": "3cd72917-c26f-44a3-9a4b-e646c88744a6"
      },
      "execution_count": null,
      "outputs": [
        {
          "output_type": "stream",
          "name": "stdout",
          "text": [
            "{12: 1, 20: 2, 30: 1, 40: 1, 50: 3}\n",
            "3\n",
            "[50]\n"
          ]
        }
      ]
    },
    {
      "cell_type": "markdown",
      "source": [
        "# **Varianza y Desviación estándar**\n",
        "\n",
        "La varianza y la desviación estándar son dos medidas estadísticas que nos dicen qué tan dispersos están los datos respecto a su media.\n",
        "\n",
        "Se interpretan de la siguiente manera:\n",
        "\n",
        "* Si la desviación estándar es pequeña, los datos están cerca de la media.\n",
        "\n",
        "* Si es grande, los datos están más dispersos."
      ],
      "metadata": {
        "id": "FzJDWNd6pUK3"
      }
    },
    {
      "cell_type": "code",
      "source": [
        "# Comparacion: varianza pequeña vs varianza grande\n",
        "\n",
        "import numpy as np\n",
        "import matplotlib.pyplot as plt\n",
        "\n",
        "#Semilla\n",
        "np.random.seed(87)\n",
        "\n",
        "# Datos con menor varianza\n",
        "media1 = 50\n",
        "varianza_menor = 2\n",
        "datos_vmenor = np.random.normal(media1, np.sqrt(varianza_menor), 100)\n",
        "\n",
        "# Datos con mayor varianza\n",
        "media2 = 50\n",
        "varianza_mayor = 40\n",
        "datos_vmayor = np.random.normal(media2, np.sqrt(varianza_mayor), 100)\n",
        "\n",
        "# Calcular medias reales\n",
        "media_real_menor = np.mean(datos_vmenor)\n",
        "media_real_mayor = np.mean(datos_vmayor)\n",
        "\n",
        "# Mostrar varianzas y medias\n",
        "print(f\"Varianza (menor): {np.var(datos_vmenor):.2f}\")\n",
        "print(f\"Media (menor): {media_real_menor:.2f}\")\n",
        "print(f\"Varianza (Mayor): {np.var(datos_vmayor):.2f}\")\n",
        "print(f\"Media (Mayor): {media_real_mayor:.2f}\")\n",
        "\n",
        "# Crear el scatter plot\n",
        "plt.figure(figsize=(10, 5))\n",
        "\n",
        "x = np.arange(100)\n",
        "\n",
        "# Puntos\n",
        "plt.scatter(x, datos_vmenor, color='blue', label='Datos con varianza menor')\n",
        "plt.scatter(x, datos_vmayor, color='red', label='Datos con varianza mayor')\n",
        "\n",
        "# Líneas de media\n",
        "plt.axhline(media_real_menor, color='blue', linestyle='--', linewidth=1.5, label='Media datos con menor varianza')\n",
        "plt.axhline(media_real_mayor, color='red', linestyle='--', linewidth=1.5, label='Media datos con mayor varianza')\n",
        "\n",
        "plt.title('Dispersión y Media de Datos con menor y mayor varianza')\n",
        "plt.xlabel('Índice')\n",
        "plt.ylabel('Valor')\n",
        "plt.legend()\n",
        "plt.grid(True)\n",
        "plt.show()"
      ],
      "metadata": {
        "id": "xLYx9NezilaY",
        "colab": {
          "base_uri": "https://localhost:8080/",
          "height": 557
        },
        "outputId": "aae432f4-52b3-490c-b781-7df36c92b836"
      },
      "execution_count": null,
      "outputs": [
        {
          "output_type": "stream",
          "name": "stdout",
          "text": [
            "Varianza (menor): 1.89\n",
            "Media (menor): 50.03\n",
            "Varianza (Mayor): 41.89\n",
            "Media (Mayor): 50.01\n"
          ]
        },
        {
          "output_type": "display_data",
          "data": {
            "text/plain": [
              "<Figure size 1000x500 with 1 Axes>"
            ],
            "image/png": "[encoded data removed]"
          },
          "metadata": {}
        }
      ]
    },
    {
      "cell_type": "markdown",
      "source": [
        "### **Varianza** ($\\sigma^2$ o $s^2$)\n",
        "\n",
        "Es el promedio de las diferencias al cuadrado entre cada dato y la media.\n",
        "\n",
        "Fórmula para **población**:\n",
        "$$ \\sigma^2 = \\frac{1}{N}\\sum_{i=1}^{N}(x_{i} - \\bar{x})^2 $$\n",
        "\n",
        "Fórmula para **muestra**:\n",
        "$$ s^2 = \\frac{1}{n-1}\\sum_{i=1}^{n}(x_{i} - \\bar{x})^2 $$"
      ],
      "metadata": {
        "id": "rzK4xfsIrjZ0"
      }
    },
    {
      "cell_type": "code",
      "source": [
        "# Ejemplo del calculo de la Varianza\n"
      ],
      "metadata": {
        "id": "lmOqec1jLqrz"
      },
      "execution_count": null,
      "outputs": []
    },
    {
      "cell_type": "markdown",
      "source": [
        "### **Desviación estándar** ($\\sigma$ o $s$)\n",
        "Es simplemente la raíz cuadrada de la varianza.\\\n",
        "Es más fácil de interpretar porque está en las mismas unidades que los datos originales.\n",
        "\n",
        "Fórmula para **población**:\n",
        "$$\\sigma = \\sqrt{\\sigma^2}$$\n",
        "\n",
        "Fórmula para **muestra**:\n",
        "$$s = \\sqrt{s^2}$$\n"
      ],
      "metadata": {
        "id": "6ThQWeWJqWH8"
      }
    },
    {
      "cell_type": "code",
      "source": [
        "# Ejemplo del cálculo de la desviación estándar\n"
      ],
      "metadata": {
        "id": "XD7negsgrYzi"
      },
      "execution_count": null,
      "outputs": []
    },
    {
      "cell_type": "markdown",
      "source": [
        "# Distribuciones de Probablidad\n",
        "\n",
        "Las distribuciones de probabilidad son funciones matemáticas que describen cómo se distribuyen los resultados de un experimento aleatorio. Es decir, especifican la probabilidad de que ocurra cada uno de los posibles resultados o eventos.\n",
        "\n",
        "Características principales:\n",
        "\n",
        "**Función de Probabilidad** (o de densidad):\n",
        "Para variables aleatorias discretas se utiliza la función de masa de probabilidad, que asigna a cada valor posible una probabilidad. Para variables continuas se utiliza la función de densidad de probabilidad, donde la probabilidad de que la variable tome un valor específico se obtiene integrando la funcion de probabilidad sobre un intervalo.\n",
        "\n",
        "**Propiedades fundamentales:**\n",
        "\n",
        "**No negatividad**:\n",
        "\n",
        "La probabilidad asignada a cualquier evento es mayor o igual que cero.\n",
        "\n",
        "**Normalización**:\n",
        "\n",
        "La suma de las probabilidades de todos los eventos (o la integral de la pdf en el caso continuo) es igual a 1.\n",
        "\n",
        "**Función de distribución acumulada**:\n",
        "\n",
        "Es una función que, para cada valor, indica la probabilidad de que la variable aleatoria tome un valor menor o igual a ese valor. Se define tanto para variables discretas como continuas.\n",
        "\n",
        "**Para discretas**: con una función de probabilidad \\( P(X = x) \\)\n",
        "\n",
        "\n",
        "**Para continuas**: con una función de densidad de probabilidad \\( f(x) \\), y se usa:\n",
        "\n",
        "$$P(a \\leq X \\leq b) = \\int^b_a f(x)dx$$\n",
        "\n",
        "\n",
        "Estas distribuciones de probabilidad se utilizan para:\n",
        "\n",
        "**Predicción y modelado**: Permiten modelar situaciones del mundo real que involucran incertidumbre, como el tiempo de espera en una fila, la variación de ingresos, o el comportamiento de sistemas complejos.\n",
        "\n",
        "**Inferencia estadística**: La elección de una distribución de probabilidad es esencial para estimar parámetros de una población o realizar pruebas de hipótesis.\n",
        "\n",
        "**Simulaciones**: Se usan en métodos como el de Monte Carlo para simular sistemas complejos y estudiar su comportamiento en diferentes escenarios."
      ],
      "metadata": {
        "id": "eBubc82XxD3D"
      }
    },
    {
      "cell_type": "markdown",
      "source": [
        "# Eventos\n",
        "\n",
        "Un **evento** es: un conjunto de resultados posibles de un experimento aleatorio (proceso cuyo resultado no se puede predecir con certeza).\n",
        "\n",
        "### Tipos de Eventos:\n"
      ],
      "metadata": {
        "id": "I2opsuOOy0Iv"
      }
    },
    {
      "cell_type": "markdown",
      "source": [
        "**Evento simple:**\n",
        "\n",
        "Un evento simple es un solo resultado posible de un experimento aleatorio.\n",
        "\n"
      ],
      "metadata": {
        "id": "5DagfowPzuiW"
      }
    },
    {
      "cell_type": "markdown",
      "source": [
        "**Evento compuesto**:\n",
        "\n",
        "Un evento compuesto está formado por dos o más eventos simples.\n",
        "\n"
      ],
      "metadata": {
        "id": "5MohuaBHzu8X"
      }
    },
    {
      "cell_type": "markdown",
      "source": [
        "**Evento continuo**:\n",
        "\n",
        "Cuando trabajamos con variables continuas (como altura, peso, tiempo), no se pueden contar los resultados individualmente, porque hay infinitos posibles valores. En este caso, hablamos de eventos que ocurren dentro de un intervalo."
      ],
      "metadata": {
        "id": "1doBDu-lzvQo"
      }
    },
    {
      "cell_type": "markdown",
      "source": [
        "## **Ejercicio:**\n",
        "## **Investigar las siguientes distribuciones y dar un ejeplo de como se pueden utilizan cada una de ellas.**"
      ],
      "metadata": {
        "id": "HdzGg2FZy-yo"
      }
    },
    {
      "cell_type": "markdown",
      "source": [
        "### **Distribuciones Discretas**\n",
        "Son para variables que toman valores contables, como 0, 1, 2, 3...\n",
        "\n",
        "1. **Distribución Bernoulli**\n",
        "\n",
        "2. **Distribución Binomial**\n",
        "\n",
        "3. **Distribución Poisson**\n",
        "\n",
        "4. **Distribución Geométrica**\n",
        "\n",
        "5. **Distribución Hipergeométrica**\n"
      ],
      "metadata": {
        "id": "CBVKddRg2dt1"
      }
    },
    {
      "cell_type": "markdown",
      "source": [
        "### Distribuciones Continuas\n",
        "Son para variables que pueden tomar infinitos valores en un intervalo (como peso, altura, tiempo...).\n",
        "\n",
        "1. **Distribución Normal (o Gaussiana)**\n",
        "\n",
        "2. **Distribución Uniforme (continua)**\n",
        "\n",
        "3. **Distribución Exponencial**\n",
        "\n",
        "4. **Distribución t de Student**\n",
        "\n",
        "5. **Distribución Chi-cuadrado (χ²)**\n",
        "\n",
        "6. **Distribución F de Fisher**"
      ],
      "metadata": {
        "id": "xiYgUHXZ2yfZ"
      }
    }
  ]
}
