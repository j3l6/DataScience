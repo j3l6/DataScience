{
  "nbformat": 4,
  "nbformat_minor": 0,
  "metadata": {
    "colab": {
      "provenance": []
    },
    "kernelspec": {
      "name": "python3",
      "display_name": "Python 3"
    },
    "language_info": {
      "name": "python"
    }
  },
  "cells": [
    {
      "cell_type": "markdown",
      "source": [
        "## Actividades Limpieza de Datos."
      ],
      "metadata": {
        "id": "UEeI6420yDDv"
      }
    },
    {
      "cell_type": "markdown",
      "source": [
        "**Ejercicio 1:**\n",
        "\n",
        "Importa lalibreria de Pandas y carga los siguientes archivos:\n",
        "\n",
        "* haloween_candy.csv\n",
        "* kc_house_data.csv\n",
        "* mount_everest_deaths.csv\n",
        "* titanic.csv\n",
        "* netflix_titles.csv (el separador tiene que ser | y utilizar index_col=0 para que utilice la columna 0 como indice.)\n",
        "* nst-est2020.csv\n",
        "* movie_titles.tsv (el ceparador tiene que ser \\t (tabulador) )"
      ],
      "metadata": {
        "id": "qlkhsP1Tn6Io"
      }
    },
    {
      "cell_type": "code",
      "source": [
        "import pandas as pd\n",
        "import numpy as np"
      ],
      "metadata": {
        "id": "xoMSHAsWyOnO"
      },
      "execution_count": 1,
      "outputs": []
    },
    {
      "cell_type": "code",
      "source": [
        "from google.colab import drive\n",
        "drive.mount('/content/drive')"
      ],
      "metadata": {
        "colab": {
          "base_uri": "https://localhost:8080/"
        },
        "id": "vDoBqQdPaZOg",
        "outputId": "027ed222-f074-427a-8436-7f14c69f47f1"
      },
      "execution_count": 2,
      "outputs": [
        {
          "output_type": "stream",
          "name": "stdout",
          "text": [
            "Drive already mounted at /content/drive; to attempt to forcibly remount, call drive.mount(\"/content/drive\", force_remount=True).\n"
          ]
        }
      ]
    },
    {
      "cell_type": "code",
      "source": [
        "df_haloween_candy = pd.read_csv(\n",
        "'/content/drive/MyDrive/CIENCIA DE DATOS/2DO MODULO/Datos/haloween_candy.csv')\n",
        "\n",
        "df_kc_house_data = pd.read_csv(\n",
        "'/content/drive/MyDrive/CIENCIA DE DATOS/2DO MODULO/Datos/kc_house_data.csv')\n",
        "\n",
        "df_mount_everest_deaths = pd.read_csv(\n",
        "'/content/drive/MyDrive/CIENCIA DE DATOS/2DO MODULO/Datos/mount_everest_deaths.csv')\n",
        "\n",
        "df_titanic = pd.read_csv(\n",
        "'/content/drive/MyDrive/CIENCIA DE DATOS/2DO MODULO/Datos/titanic.csv')\n",
        "\n",
        "df_netflix_titles = pd.read_csv(\n",
        "'/content/drive/MyDrive/CIENCIA DE DATOS/2DO MODULO/Datos/netflix_titles.csv', sep=\"|\", index_col=0, encoding=\"utf-8\")\n",
        "\n",
        "df_nst_est2020 = pd.read_csv(\n",
        "'/content/drive/MyDrive/CIENCIA DE DATOS/2DO MODULO/Datos/nst-est2020.csv')\n",
        "\n",
        "df_movie_titles = pd.read_csv(\n",
        "'/content/drive/MyDrive/CIENCIA DE DATOS/2DO MODULO/Datos/movie_titles.tsv', sep=\"\\t\", index_col=0)\n",
        "\n"
      ],
      "metadata": {
        "id": "JZGapi57aXsH"
      },
      "execution_count": 61,
      "outputs": []
    },
    {
      "cell_type": "code",
      "source": [
        "print(df_haloween_candy)"
      ],
      "metadata": {
        "colab": {
          "base_uri": "https://localhost:8080/"
        },
        "id": "setgpZbPcsZ8",
        "outputId": "9d5d0614-5de6-4468-cf86-0c9fe38a02e1"
      },
      "execution_count": 4,
      "outputs": [
        {
          "output_type": "stream",
          "name": "stdout",
          "text": [
            "                competitorname  chocolate  fruity  caramel  peanutyalmondy  \\\n",
            "0                    100 Grand          1       0        1               0   \n",
            "1                 3 Musketeers          1       0        0               0   \n",
            "2                     One dime          0       0        0               0   \n",
            "3                  One quarter          0       0        0               0   \n",
            "4                    Air Heads          0       1        0               0   \n",
            "..                         ...        ...     ...      ...             ...   \n",
            "80                   Twizzlers          0       1        0               0   \n",
            "81                    Warheads          0       1        0               0   \n",
            "82        WelchÕs Fruit Snacks          0       1        0               0   \n",
            "83  WertherÕs Original Caramel          0       0        1               0   \n",
            "84                    Whoppers          1       0        0               0   \n",
            "\n",
            "    nougat  crispedricewafer  hard  bar  pluribus  sugarpercent  pricepercent  \\\n",
            "0        0                 1     0    1         0         0.732         0.860   \n",
            "1        1                 0     0    1         0         0.604         0.511   \n",
            "2        0                 0     0    0         0         0.011         0.116   \n",
            "3        0                 0     0    0         0         0.011         0.511   \n",
            "4        0                 0     0    0         0         0.906         0.511   \n",
            "..     ...               ...   ...  ...       ...           ...           ...   \n",
            "80       0                 0     0    0         0         0.220         0.116   \n",
            "81       0                 0     1    0         0         0.093         0.116   \n",
            "82       0                 0     0    0         1         0.313         0.313   \n",
            "83       0                 0     1    0         0         0.186         0.267   \n",
            "84       0                 1     0    0         1         0.872         0.848   \n",
            "\n",
            "    winpercent  \n",
            "0    66.971725  \n",
            "1    67.602936  \n",
            "2    32.261086  \n",
            "3    46.116505  \n",
            "4    52.341465  \n",
            "..         ...  \n",
            "80   45.466282  \n",
            "81   39.011898  \n",
            "82   44.375519  \n",
            "83   41.904308  \n",
            "84   49.524113  \n",
            "\n",
            "[85 rows x 13 columns]\n"
          ]
        }
      ]
    },
    {
      "cell_type": "code",
      "source": [
        "print(df_kc_house_data)"
      ],
      "metadata": {
        "colab": {
          "base_uri": "https://localhost:8080/"
        },
        "id": "-yqzvXF7csVi",
        "outputId": "b3736fa2-ca50-4c42-cf57-3b127cc431df"
      },
      "execution_count": 5,
      "outputs": [
        {
          "output_type": "stream",
          "name": "stdout",
          "text": [
            "               id             date     price  bedrooms  bathrooms  \\\n",
            "0      7129300520  20141013T000000  221900.0         3       1.00   \n",
            "1      6414100192  20141209T000000  538000.0         3       2.25   \n",
            "2      5631500400  20150225T000000  180000.0         2       1.00   \n",
            "3      2487200875  20141209T000000  604000.0         4       3.00   \n",
            "4      1954400510  20150218T000000  510000.0         3       2.00   \n",
            "...           ...              ...       ...       ...        ...   \n",
            "21608   263000018  20140521T000000  360000.0         3       2.50   \n",
            "21609  6600060120  20150223T000000  400000.0         4       2.50   \n",
            "21610  1523300141  20140623T000000  402101.0         2       0.75   \n",
            "21611   291310100  20150116T000000  400000.0         3       2.50   \n",
            "21612  1523300157  20141015T000000  325000.0         2       0.75   \n",
            "\n",
            "       sqft_living  sqft_lot  floors  waterfront  view  ...  grade  \\\n",
            "0             1180      5650     1.0           0     0  ...      7   \n",
            "1             2570      7242     2.0           0     0  ...      7   \n",
            "2              770     10000     1.0           0     0  ...      6   \n",
            "3             1960      5000     1.0           0     0  ...      7   \n",
            "4             1680      8080     1.0           0     0  ...      8   \n",
            "...            ...       ...     ...         ...   ...  ...    ...   \n",
            "21608         1530      1131     3.0           0     0  ...      8   \n",
            "21609         2310      5813     2.0           0     0  ...      8   \n",
            "21610         1020      1350     2.0           0     0  ...      7   \n",
            "21611         1600      2388     2.0           0     0  ...      8   \n",
            "21612         1020      1076     2.0           0     0  ...      7   \n",
            "\n",
            "       sqft_above  sqft_basement  yr_built  yr_renovated  zipcode      lat  \\\n",
            "0            1180              0      1955             0    98178  47.5112   \n",
            "1            2170            400      1951          1991    98125  47.7210   \n",
            "2             770              0      1933             0    98028  47.7379   \n",
            "3            1050            910      1965             0    98136  47.5208   \n",
            "4            1680              0      1987             0    98074  47.6168   \n",
            "...           ...            ...       ...           ...      ...      ...   \n",
            "21608        1530              0      2009             0    98103  47.6993   \n",
            "21609        2310              0      2014             0    98146  47.5107   \n",
            "21610        1020              0      2009             0    98144  47.5944   \n",
            "21611        1600              0      2004             0    98027  47.5345   \n",
            "21612        1020              0      2008             0    98144  47.5941   \n",
            "\n",
            "          long  sqft_living15  sqft_lot15  \n",
            "0     -122.257           1340        5650  \n",
            "1     -122.319           1690        7639  \n",
            "2     -122.233           2720        8062  \n",
            "3     -122.393           1360        5000  \n",
            "4     -122.045           1800        7503  \n",
            "...        ...            ...         ...  \n",
            "21608 -122.346           1530        1509  \n",
            "21609 -122.362           1830        7200  \n",
            "21610 -122.299           1020        2007  \n",
            "21611 -122.069           1410        1287  \n",
            "21612 -122.299           1020        1357  \n",
            "\n",
            "[21613 rows x 21 columns]\n"
          ]
        }
      ]
    },
    {
      "cell_type": "code",
      "source": [
        "print(df_mount_everest_deaths)"
      ],
      "metadata": {
        "colab": {
          "base_uri": "https://localhost:8080/"
        },
        "id": "EM7k8byZcsQb",
        "outputId": "460f20b2-b383-4c10-96cb-6b29eeb2ba36"
      },
      "execution_count": 6,
      "outputs": [
        {
          "output_type": "stream",
          "name": "stdout",
          "text": [
            "     No.                    Name          Date   Age  \\\n",
            "0      1                   Dorje  June 7, 1922   NaN   \n",
            "1      2                  Lhakpa  June 7, 1922   NaN   \n",
            "2      3                   Norbu  June 7, 1922   NaN   \n",
            "3      4                  Pasang  June 7, 1922   NaN   \n",
            "4      5                    Pema  June 7, 1922   NaN   \n",
            "..   ...                     ...           ...   ...   \n",
            "305  306  Christopher Jon Kulish  May 27, 2019  62.0   \n",
            "306  307               Puwei Liu  May 12, 2021  55.0   \n",
            "307  308           Abdul Waraich  May 12, 2021  41.0   \n",
            "308  309      Pemba Tashi Sherpa  May 18, 2021  28.0   \n",
            "309  310      Wong Dorchi Sherpa  May 23, 2021   NaN   \n",
            "\n",
            "                                Expedition    Nationality  \\\n",
            "0    1922 British Mount Everest Expedition          Nepal   \n",
            "1    1922 British Mount Everest Expedition          Nepal   \n",
            "2    1922 British Mount Everest Expedition          Nepal   \n",
            "3    1922 British Mount Everest Expedition          Nepal   \n",
            "4    1922 British Mount Everest Expedition          Nepal   \n",
            "..                                     ...            ...   \n",
            "305             Climbing the Seven Summits  United States   \n",
            "306                     Seven Summit Treks  United States   \n",
            "307                     Seven Summit Treks    Switzerland   \n",
            "308             Climbing the Seven Summits          Nepal   \n",
            "309                         7 Summits Club          Nepal   \n",
            "\n",
            "                   Cause of death                  Location  \n",
            "0                       Avalanche           Below North Col  \n",
            "1                       Avalanche           Below North Col  \n",
            "2                       Avalanche           Below North Col  \n",
            "3                       Avalanche           Below North Col  \n",
            "4                       Avalanche           Below North Col  \n",
            "..                            ...                       ...  \n",
            "305  Cardiac event during descent                 South Col  \n",
            "306                    Exhaustion         Near South Summit  \n",
            "307                    Exhaustion         Near South Summit  \n",
            "308          Fall into a crevasse  Between Camp I & Camp II  \n",
            "309                           NaN            near South Col  \n",
            "\n",
            "[310 rows x 8 columns]\n"
          ]
        }
      ]
    },
    {
      "cell_type": "code",
      "source": [
        "print(df_titanic)"
      ],
      "metadata": {
        "colab": {
          "base_uri": "https://localhost:8080/"
        },
        "id": "KLPqwQuEcsKj",
        "outputId": "4e2ca2de-9678-4cc8-c2b3-44941b72216e"
      },
      "execution_count": 63,
      "outputs": [
        {
          "output_type": "stream",
          "name": "stdout",
          "text": [
            "      pclass  survived                                             name  \\\n",
            "0          1         1                    Allen, Miss. Elisabeth Walton   \n",
            "1          1         1                   Allison, Master. Hudson Trevor   \n",
            "2          1         0                     Allison, Miss. Helen Loraine   \n",
            "3          1         0             Allison, Mr. Hudson Joshua Creighton   \n",
            "4          1         0  Allison, Mrs. Hudson J C (Bessie Waldo Daniels)   \n",
            "...      ...       ...                                              ...   \n",
            "1304       3         0                             Zabour, Miss. Hileni   \n",
            "1305       3         0                            Zabour, Miss. Thamine   \n",
            "1306       3         0                        Zakarian, Mr. Mapriededer   \n",
            "1307       3         0                              Zakarian, Mr. Ortin   \n",
            "1308       3         0                               Zimmerman, Mr. Leo   \n",
            "\n",
            "         sex     age  sibsp  parch  ticket      fare    cabin embarked boat  \\\n",
            "0     female      29      0      0   24160  211.3375       B5        S    2   \n",
            "1       male  0.9167      1      2  113781    151.55  C22 C26        S   11   \n",
            "2     female       2      1      2  113781    151.55  C22 C26        S    ?   \n",
            "3       male      30      1      2  113781    151.55  C22 C26        S    ?   \n",
            "4     female      25      1      2  113781    151.55  C22 C26        S    ?   \n",
            "...      ...     ...    ...    ...     ...       ...      ...      ...  ...   \n",
            "1304  female    14.5      1      0    2665   14.4542        ?        C    ?   \n",
            "1305  female       ?      1      0    2665   14.4542        ?        C    ?   \n",
            "1306    male    26.5      0      0    2656     7.225        ?        C    ?   \n",
            "1307    male      27      0      0    2670     7.225        ?        C    ?   \n",
            "1308    male      29      0      0  315082     7.875        ?        S    ?   \n",
            "\n",
            "     body                        home.dest  \n",
            "0       ?                     St Louis, MO  \n",
            "1       ?  Montreal, PQ / Chesterville, ON  \n",
            "2       ?  Montreal, PQ / Chesterville, ON  \n",
            "3     135  Montreal, PQ / Chesterville, ON  \n",
            "4       ?  Montreal, PQ / Chesterville, ON  \n",
            "...   ...                              ...  \n",
            "1304  328                                ?  \n",
            "1305    ?                                ?  \n",
            "1306  304                                ?  \n",
            "1307    ?                                ?  \n",
            "1308    ?                                ?  \n",
            "\n",
            "[1309 rows x 14 columns]\n"
          ]
        }
      ]
    },
    {
      "cell_type": "code",
      "source": [
        "print(df_netflix_titles)"
      ],
      "metadata": {
        "colab": {
          "base_uri": "https://localhost:8080/"
        },
        "id": "F-ib01nZcsDi",
        "outputId": "369c893d-46d5-435b-ffe9-c7aebb16dfa5"
      },
      "execution_count": 8,
      "outputs": [
        {
          "output_type": "stream",
          "name": "stdout",
          "text": [
            "     show_id     type                  title         director  \\\n",
            "0         s1    Movie   Dick Johnson Is Dead  Kirsten Johnson   \n",
            "1         s2  TV Show          Blood & Water              NaN   \n",
            "2         s3  TV Show              Ganglands  Julien Leclercq   \n",
            "3         s4  TV Show  Jailbirds New Orleans              NaN   \n",
            "4         s5  TV Show           Kota Factory              NaN   \n",
            "...      ...      ...                    ...              ...   \n",
            "8802   s8803    Movie                 Zodiac    David Fincher   \n",
            "8803   s8804  TV Show            Zombie Dumb              NaN   \n",
            "8804   s8805    Movie             Zombieland  Ruben Fleischer   \n",
            "8805   s8806    Movie                   Zoom     Peter Hewitt   \n",
            "8806   s8807    Movie                 Zubaan      Mozez Singh   \n",
            "\n",
            "                                                   cast        country  \\\n",
            "0                                                   NaN  United States   \n",
            "1     Ama Qamata, Khosi Ngema, Gail Mabalane, Thaban...   South Africa   \n",
            "2     Sami Bouajila, Tracy Gotoas, Samuel Jouy, Nabi...            NaN   \n",
            "3                                                   NaN            NaN   \n",
            "4     Mayur More, Jitendra Kumar, Ranjan Raj, Alam K...          India   \n",
            "...                                                 ...            ...   \n",
            "8802  Mark Ruffalo, Jake Gyllenhaal, Robert Downey J...  United States   \n",
            "8803                                                NaN            NaN   \n",
            "8804  Jesse Eisenberg, Woody Harrelson, Emma Stone, ...  United States   \n",
            "8805  Tim Allen, Courteney Cox, Chevy Chase, Kate Ma...  United States   \n",
            "8806  Vicky Kaushal, Sarah-Jane Dias, Raaghav Chanan...          India   \n",
            "\n",
            "              date_added  release_year rating   duration  \\\n",
            "0     September 25, 2021          2020  PG-13     90 min   \n",
            "1     September 24, 2021          2021  TV-MA  2 Seasons   \n",
            "2     September 24, 2021          2021  TV-MA   1 Season   \n",
            "3     September 24, 2021          2021  TV-MA   1 Season   \n",
            "4     September 24, 2021          2021  TV-MA  2 Seasons   \n",
            "...                  ...           ...    ...        ...   \n",
            "8802   November 20, 2019          2007      R    158 min   \n",
            "8803        July 1, 2019          2018  TV-Y7  2 Seasons   \n",
            "8804    November 1, 2019          2009      R     88 min   \n",
            "8805    January 11, 2020          2006     PG     88 min   \n",
            "8806       March 2, 2019          2015  TV-14    111 min   \n",
            "\n",
            "                                              listed_in  \\\n",
            "0                                         Documentaries   \n",
            "1       International TV Shows, TV Dramas, TV Mysteries   \n",
            "2     Crime TV Shows, International TV Shows, TV Act...   \n",
            "3                                Docuseries, Reality TV   \n",
            "4     International TV Shows, Romantic TV Shows, TV ...   \n",
            "...                                                 ...   \n",
            "8802                     Cult Movies, Dramas, Thrillers   \n",
            "8803             Kids' TV, Korean TV Shows, TV Comedies   \n",
            "8804                            Comedies, Horror Movies   \n",
            "8805                 Children & Family Movies, Comedies   \n",
            "8806     Dramas, International Movies, Music & Musicals   \n",
            "\n",
            "                                            description  \n",
            "0     As her father nears the end of his life, filmm...  \n",
            "1     After crossing paths at a party, a Cape Town t...  \n",
            "2     To protect his family from a powerful drug lor...  \n",
            "3     Feuds, flirtations and toilet talk go down amo...  \n",
            "4     In a city of coaching centers known to train I...  \n",
            "...                                                 ...  \n",
            "8802  A political cartoonist, a crime reporter and a...  \n",
            "8803  While living alone in a spooky town, a young g...  \n",
            "8804  Looking to survive in a world taken over by zo...  \n",
            "8805  Dragged from civilian life, a former superhero...  \n",
            "8806  A scrappy but poor boy worms his way into a ty...  \n",
            "\n",
            "[8807 rows x 12 columns]\n"
          ]
        }
      ]
    },
    {
      "cell_type": "code",
      "source": [
        "print(df_nst_est2020)"
      ],
      "metadata": {
        "colab": {
          "base_uri": "https://localhost:8080/"
        },
        "id": "VzfOZeGncr6T",
        "outputId": "1ec79eec-6aea-4b28-f100-ee22805f522a"
      },
      "execution_count": 9,
      "outputs": [
        {
          "output_type": "stream",
          "name": "stdout",
          "text": [
            "    SUMLEV REGION DIVISION  STATE                  NAME  CENSUS2010POP  \\\n",
            "0       10      0        0      0         United States      308745538   \n",
            "1       20      1        0      0      Northeast Region       55317240   \n",
            "2       20      2        0      0        Midwest Region       66927001   \n",
            "3       20      3        0      0          South Region      114555744   \n",
            "4       20      4        0      0           West Region       71945553   \n",
            "5       40      3        6      1               Alabama        4779736   \n",
            "6       40      4        9      2                Alaska         710231   \n",
            "7       40      4        8      4               Arizona        6392017   \n",
            "8       40      3        7      5              Arkansas        2915918   \n",
            "9       40      4        9      6            California       37253956   \n",
            "10      40      4        8      8              Colorado        5029196   \n",
            "11      40      1        1      9           Connecticut        3574097   \n",
            "12      40      3        5     10              Delaware         897934   \n",
            "13      40      3        5     11  District of Columbia         601723   \n",
            "14      40      3        5     12               Florida       18801310   \n",
            "15      40      3        5     13               Georgia        9687653   \n",
            "16      40      4        9     15                Hawaii        1360301   \n",
            "17      40      4        8     16                 Idaho        1567582   \n",
            "18      40      2        3     17              Illinois       12830632   \n",
            "19      40      2        3     18               Indiana        6483802   \n",
            "20      40      2        4     19                  Iowa        3046355   \n",
            "21      40      2        4     20                Kansas        2853118   \n",
            "22      40      3        6     21              Kentucky        4339367   \n",
            "23      40      3        7     22             Louisiana        4533372   \n",
            "24      40      1        1     23                 Maine        1328361   \n",
            "25      40      3        5     24              Maryland        5773552   \n",
            "26      40      1        1     25         Massachusetts        6547629   \n",
            "27      40      2        3     26              Michigan        9883640   \n",
            "28      40      2        4     27             Minnesota        5303925   \n",
            "29      40      3        6     28           Mississippi        2967297   \n",
            "30      40      2        4     29              Missouri        5988927   \n",
            "31      40      4        8     30               Montana         989415   \n",
            "32      40      2        4     31              Nebraska        1826341   \n",
            "33      40      4        8     32                Nevada        2700551   \n",
            "34      40      1        1     33         New Hampshire        1316470   \n",
            "35      40      1        2     34            New Jersey        8791894   \n",
            "36      40      4        8     35            New Mexico        2059179   \n",
            "37      40      1        2     36              New York       19378102   \n",
            "38      40      3        5     37        North Carolina        9535483   \n",
            "39      40      2        4     38          North Dakota         672591   \n",
            "40      40      2        3     39                  Ohio       11536504   \n",
            "41      40      3        7     40              Oklahoma        3751351   \n",
            "42      40      4        9     41                Oregon        3831074   \n",
            "43      40      1        2     42          Pennsylvania       12702379   \n",
            "44      40      1        1     44          Rhode Island        1052567   \n",
            "45      40      3        5     45        South Carolina        4625364   \n",
            "46      40      2        4     46          South Dakota         814180   \n",
            "47      40      3        6     47             Tennessee        6346105   \n",
            "48      40      3        7     48                 Texas       25145561   \n",
            "49      40      4        8     49                  Utah        2763885   \n",
            "50      40      1        1     50               Vermont         625741   \n",
            "51      40      3        5     51              Virginia        8001024   \n",
            "52      40      4        9     53            Washington        6724540   \n",
            "53      40      3        5     54         West Virginia        1852994   \n",
            "54      40      2        3     55             Wisconsin        5686986   \n",
            "55      40      4        8     56               Wyoming         563626   \n",
            "56      40      X        X     72           Puerto Rico        3725789   \n",
            "\n",
            "    ESTIMATESBASE2010  POPESTIMATE2010  POPESTIMATE2011  POPESTIMATE2012  \\\n",
            "0           308758105        309327143        311583481        313877662   \n",
            "1            55318414         55380764         55608318         55782661   \n",
            "2            66929737         66975328         67164092         67348275   \n",
            "3           114563042        114869421        116019483        117264196   \n",
            "4            71946912         72101630         72791588         73482530   \n",
            "5             4780118          4785514          4799642          4816632   \n",
            "6              710246           713982           722349           730810   \n",
            "7             6392292          6407342          6473416          6556344   \n",
            "8             2916029          2921998          2941038          2952876   \n",
            "9            37254522         37319550         37636311         37944551   \n",
            "10            5029319          5047539          5121900          5193660   \n",
            "11            3574151          3579173          3588632          3595211   \n",
            "12             897947           899647           907590           915518   \n",
            "13             601767           605282           620290           635737   \n",
            "14           18804589         18846143         19055607         19302016   \n",
            "15            9688737          9712209          9803630          9903580   \n",
            "16            1360304          1364004          1379562          1395199   \n",
            "17            1567658          1570819          1584272          1595910   \n",
            "18           12831572         12840545         12867783         12883029   \n",
            "19            6484050          6490555          6517250          6538989   \n",
            "20            3046877          3050819          3066772          3076844   \n",
            "21            2853120          2858266          2869677          2886024   \n",
            "22            4339330          4348464          4370817          4387865   \n",
            "23            4533500          4544635          4576244          4602067   \n",
            "24            1328354          1327651          1328473          1328094   \n",
            "25            5773787          5788784          5840241          5888375   \n",
            "26            6547788          6566440          6614218          6664269   \n",
            "27            9884112          9877597          9883053          9898289   \n",
            "28            5303933          5310934          5346620          5377500   \n",
            "29            2968129          2970615          2979147          2984599   \n",
            "30            5988941          5996089          6011182          6026027   \n",
            "31             989400           990730           997518          1004168   \n",
            "32            1826311          1829591          1840914          1853691   \n",
            "33            2700683          2702483          2713114          2744670   \n",
            "34            1316457          1316807          1320444          1324677   \n",
            "35            8791959          8799451          8828552          8845671   \n",
            "36            2059199          2064614          2080707          2087715   \n",
            "37           19378117         19399956         19499921         19574362   \n",
            "38            9535762          9574586          9658913          9751810   \n",
            "39             672575           674752           685526           702227   \n",
            "40           11536763         11539449         11545735         11550971   \n",
            "41            3751582          3760014          3788824          3819320   \n",
            "42            3831083          3837614          3872672          3900102   \n",
            "43           12702891         12711406         12747052         12769123   \n",
            "44            1052970          1053994          1053829          1054893   \n",
            "45            4625358          4635846          4672655          4719027   \n",
            "46             814198           816193           823740           833859   \n",
            "47            6346281          6355518          6400298          6455752   \n",
            "48           25146072         25241897         25645504         26084120   \n",
            "49            2763891          2775413          2814797          2854146   \n",
            "50             625727           625886           627197           626361   \n",
            "51            8001046          8024004          8102437          8187456   \n",
            "52            6724540          6743009          6827479          6898599   \n",
            "53            1853008          1854265          1856606          1857446   \n",
            "54            5687285          5690538          5705840          5720825   \n",
            "55             563775           564531           567491           576656   \n",
            "56            3726157          3721525          3678732          3634488   \n",
            "\n",
            "    POPESTIMATE2013  POPESTIMATE2014  POPESTIMATE2015  POPESTIMATE2016  \\\n",
            "0         316059947        318386329        320738994        323071755   \n",
            "1          55912775         56021339         56052790         56063777   \n",
            "2          67576524         67765576         67885682         68018175   \n",
            "3         118397213        119666248        121049223        122419547   \n",
            "4          74173435         74933166         75751299         76570256   \n",
            "5           4831586          4843737          4854803          4866824   \n",
            "6            737626           737075           738430           742575   \n",
            "7           6634690          6732873          6832810          6944767   \n",
            "8           2960459          2968759          2979732          2991815   \n",
            "9          38253768         38586706         38904296         39149186   \n",
            "10          5270774          5352637          5454328          5543844   \n",
            "11          3595792          3595697          3588561          3579830   \n",
            "12           924062           933131           942065           949989   \n",
            "13           651559           663603           677014           687576   \n",
            "14         19551678         19853880         20219111         20627237   \n",
            "15          9975592         10071204         10183353         10308442   \n",
            "16          1408822          1415335          1422999          1428885   \n",
            "17          1612053          1632248          1652495          1684036   \n",
            "18         12895778         12885092         12859585         12821709   \n",
            "19          6570575          6596019          6611442          6637898   \n",
            "20          3093935          3110643          3122541          3133210   \n",
            "21          2894306          2901861          2910717          2912977   \n",
            "22          4406906          4416992          4429126          4440306   \n",
            "23          4626040          4645938          4666998          4681346   \n",
            "24          1328543          1331217          1329098          1332348   \n",
            "25          5925197          5960064          5988528          6007014   \n",
            "26          6715158          6764864          6797484          6827280   \n",
            "27          9914802          9932033          9934483          9954117   \n",
            "28          5414722          5452665          5484002          5525360   \n",
            "29          2989839          2991892          2990231          2990595   \n",
            "30          6042989          6059130          6075411          6091384   \n",
            "31          1014158          1022657          1031495          1042137   \n",
            "32          1865813          1879955          1892059          1906483   \n",
            "33          2776956          2818935          2868531          2919555   \n",
            "34          1327272          1334257          1337480          1343694   \n",
            "35          8857821          8867277          8870312          8873584   \n",
            "36          2092833          2090236          2090071          2092555   \n",
            "37         19626488         19653431         19657321         19636391   \n",
            "38          9846717          9937295         10037218         10161802   \n",
            "39           723149           738736           755537           756114   \n",
            "40         11579692         11606573         11622315         11640060   \n",
            "41          3853891          3879187          3910518          3928143   \n",
            "42          3924110          3965447          4018542          4093271   \n",
            "43         12779538         12792392         12789838         12788468   \n",
            "44          1055560          1056511          1056886          1057816   \n",
            "45          4766469          4826858          4896006          4963031   \n",
            "46           842751           849670           854663           863693   \n",
            "47          6496943          6544617          6595354          6651277   \n",
            "48         26479646         26963092         27468531         27914064   \n",
            "49          2898773          2938327          2983626          3044241   \n",
            "50           626603           625693           625810           624366   \n",
            "51          8255861          8315430          8367303          8417651   \n",
            "52          6966252          7057531          7167287          7299961   \n",
            "53          1854768          1850569          1843332          1832435   \n",
            "54          5738012          5753199          5762927          5775170   \n",
            "55           582620           583159           586389           585243   \n",
            "56          3593077          3534874          3473232          3406672   \n",
            "\n",
            "    POPESTIMATE2017  POPESTIMATE2018  POPESTIMATE2019  POPESTIMATE042020  \\\n",
            "0         325122128        326838199        328329953          329398742   \n",
            "1          56083383         56084543         56002934           55924275   \n",
            "2          68160342         68263019         68340091           68357895   \n",
            "3         123611036        124649156        125686544          126494232   \n",
            "4          77267367         77841481         78300384           78622340   \n",
            "5           4877989          4891628          4907965            4920706   \n",
            "6            740983           736624           733603             732074   \n",
            "7           7048088          7164228          7291843            7393900   \n",
            "8           3003855          3012161          3020985            3029672   \n",
            "9          39337785         39437463         39437610           39418894   \n",
            "10          5617421          5697155          5758486            5798266   \n",
            "11          3575324          3574561          3566022            3561494   \n",
            "12           957942           966985           976668             984899   \n",
            "13           697079           704147           708253             712185   \n",
            "14         20977089         21254926         21492056           21688239   \n",
            "15         10417031         10519389         10628020           10695662   \n",
            "16          1425763          1423102          1415615            1410587   \n",
            "17          1719745          1752074          1789060            1818238   \n",
            "18         12779893         12724685         12667017           12615162   \n",
            "19          6662068          6698481          6731010            6752183   \n",
            "20          3143734          3149900          3159596            3164115   \n",
            "21          2910892          2912748          2912635            2915024   \n",
            "22          4455590          4464273          4472345            4477899   \n",
            "23          4673673          4664450          4658285            4650984   \n",
            "24          1335743          1340123          1345770            1349647   \n",
            "25          6028186          6042153          6054954            6059529   \n",
            "26          6863560          6885720          6894883            6898116   \n",
            "27          9976752          9987286          9984795            9976330   \n",
            "28          5569283          5608762          5640053            5655855   \n",
            "29          2990674          2982879          2978227            2971253   \n",
            "30          6111382          6125986          6140475            6151737   \n",
            "31          1053862          1061818          1070123            1078405   \n",
            "32          1916998          1925512          1932571            1937258   \n",
            "33          2972097          3030725          3090771            3128500   \n",
            "34          1350395          1355064          1360783            1365533   \n",
            "35          8888147          8891730          8891258            8890883   \n",
            "36          2092844          2093754          2099634            2106117   \n",
            "37         19593849         19544098         19463131           19382373   \n",
            "38         10275758         10391358         10501384           10581885   \n",
            "39           756755           760062           763724             765224   \n",
            "40         11665706         11680892         11696507           11699855   \n",
            "41          3933602          3943488          3960676            3977682   \n",
            "42          4147294          4183538          4216116            4237408   \n",
            "43         12794679         12809107         12798883           12794404   \n",
            "44          1056554          1059338          1058158            1058004   \n",
            "45          5027102          5091702          5157702            5205864   \n",
            "46           873732           879386           887127             891688   \n",
            "47          6714748          6778180          6830325            6875939   \n",
            "48         28291024         28624564         28986794           29286467   \n",
            "49          3103540          3155153          3203383            3239542   \n",
            "50           625132           624802           624046             623821   \n",
            "51          8471011          8510920          8556642            8587217   \n",
            "52          7427951          7526793          7614024            7678379   \n",
            "53          1818683          1805953          1795263            1788150   \n",
            "54          5793147          5809319          5824581            5833464   \n",
            "55           579994           579054           580116             582030   \n",
            "56          3325284          3193344          3193553            3167851   \n",
            "\n",
            "    POPESTIMATE2020  \n",
            "0         329484123  \n",
            "1          55849869  \n",
            "2          68316744  \n",
            "3         126662754  \n",
            "4          78654756  \n",
            "5           4921532  \n",
            "6            731158  \n",
            "7           7421401  \n",
            "8           3030522  \n",
            "9          39368078  \n",
            "10          5807719  \n",
            "11          3557006  \n",
            "12           986809  \n",
            "13           712816  \n",
            "14         21733312  \n",
            "15         10710017  \n",
            "16          1407006  \n",
            "17          1826913  \n",
            "18         12587530  \n",
            "19          6754953  \n",
            "20          3163561  \n",
            "21          2913805  \n",
            "22          4477251  \n",
            "23          4645318  \n",
            "24          1350141  \n",
            "25          6055802  \n",
            "26          6893574  \n",
            "27          9966555  \n",
            "28          5657342  \n",
            "29          2966786  \n",
            "30          6151548  \n",
            "31          1080577  \n",
            "32          1937552  \n",
            "33          3138259  \n",
            "34          1366275  \n",
            "35          8882371  \n",
            "36          2106319  \n",
            "37         19336776  \n",
            "38         10600823  \n",
            "39           765309  \n",
            "40         11693217  \n",
            "41          3980783  \n",
            "42          4241507  \n",
            "43         12783254  \n",
            "44          1057125  \n",
            "45          5218040  \n",
            "46           892717  \n",
            "47          6886834  \n",
            "48         29360759  \n",
            "49          3249879  \n",
            "50           623347  \n",
            "51          8590563  \n",
            "52          7693612  \n",
            "53          1784787  \n",
            "54          5832655  \n",
            "55           582328  \n",
            "56          3159343  \n"
          ]
        }
      ]
    },
    {
      "cell_type": "code",
      "source": [
        "print(df_movie_titles)"
      ],
      "metadata": {
        "colab": {
          "base_uri": "https://localhost:8080/"
        },
        "id": "CeZRxnDyboPf",
        "outputId": "cc845330-1417-4e19-f98e-547b76f6d4a9"
      },
      "execution_count": 10,
      "outputs": [
        {
          "output_type": "stream",
          "name": "stdout",
          "text": [
            "      10 things i hate about you  1999  6.90     62847  \\\n",
            "m0                                                       \n",
            "m1    1492: conquest of paradise  1992   6.2   10421.0   \n",
            "m2                    15 minutes  2001   6.1   25854.0   \n",
            "m3         2001: a space odyssey  1968   8.4  163227.0   \n",
            "m4                       48 hrs.  1982   6.9   22289.0   \n",
            "m5             the fifth element  1997   7.5  133756.0   \n",
            "...                          ...   ...   ...       ...   \n",
            "m612                    watchmen  2009   7.8  135229.0   \n",
            "m613                         xxx  2002   5.6   53505.0   \n",
            "m614                       x-men  2000   7.4  122149.0   \n",
            "m615          young frankenstein  1974   8.0   57618.0   \n",
            "m616                   zulu dawn  1979   6.4    1911.0   \n",
            "\n",
            "                                   ['comedy' 'romance']  \n",
            "m0                                                       \n",
            "m1          ['adventure' 'biography' 'drama' 'history']  \n",
            "m2                ['action' 'crime' 'drama' 'thriller']  \n",
            "m3                     ['adventure' 'mystery' 'sci-fi']  \n",
            "m4       ['action' 'comedy' 'crime' 'drama' 'thriller']  \n",
            "m5    ['action' 'adventure' 'romance' 'sci-fi' 'thri...  \n",
            "...                                                 ...  \n",
            "m612  ['action' 'crime' 'fantasy' 'mystery' 'sci-fi'...  \n",
            "m613                     ['action' 'adventure' 'crime']  \n",
            "m614                                ['action' 'sci-fi']  \n",
            "m615                                ['comedy' 'sci-fi']  \n",
            "m616     ['action' 'adventure' 'drama' 'history' 'war']  \n",
            "\n",
            "[616 rows x 5 columns]\n"
          ]
        }
      ]
    },
    {
      "cell_type": "markdown",
      "source": [
        "**Ejercicio 2**\n",
        "\n",
        "Imprime la información del archivo kc_houses_data.csv para conocer la estructura de los datos, ademas imprime los primeros 5 y los últimos 5 para observar la información."
      ],
      "metadata": {
        "id": "rquQkEkLn6F9"
      }
    },
    {
      "cell_type": "code",
      "source": [
        "print(df_kc_house_data)"
      ],
      "metadata": {
        "id": "cZJcpFNvyP2N",
        "colab": {
          "base_uri": "https://localhost:8080/"
        },
        "outputId": "ee68ff9b-210b-487d-dda9-ea3b1437ee6b"
      },
      "execution_count": 11,
      "outputs": [
        {
          "output_type": "stream",
          "name": "stdout",
          "text": [
            "               id             date     price  bedrooms  bathrooms  \\\n",
            "0      7129300520  20141013T000000  221900.0         3       1.00   \n",
            "1      6414100192  20141209T000000  538000.0         3       2.25   \n",
            "2      5631500400  20150225T000000  180000.0         2       1.00   \n",
            "3      2487200875  20141209T000000  604000.0         4       3.00   \n",
            "4      1954400510  20150218T000000  510000.0         3       2.00   \n",
            "...           ...              ...       ...       ...        ...   \n",
            "21608   263000018  20140521T000000  360000.0         3       2.50   \n",
            "21609  6600060120  20150223T000000  400000.0         4       2.50   \n",
            "21610  1523300141  20140623T000000  402101.0         2       0.75   \n",
            "21611   291310100  20150116T000000  400000.0         3       2.50   \n",
            "21612  1523300157  20141015T000000  325000.0         2       0.75   \n",
            "\n",
            "       sqft_living  sqft_lot  floors  waterfront  view  ...  grade  \\\n",
            "0             1180      5650     1.0           0     0  ...      7   \n",
            "1             2570      7242     2.0           0     0  ...      7   \n",
            "2              770     10000     1.0           0     0  ...      6   \n",
            "3             1960      5000     1.0           0     0  ...      7   \n",
            "4             1680      8080     1.0           0     0  ...      8   \n",
            "...            ...       ...     ...         ...   ...  ...    ...   \n",
            "21608         1530      1131     3.0           0     0  ...      8   \n",
            "21609         2310      5813     2.0           0     0  ...      8   \n",
            "21610         1020      1350     2.0           0     0  ...      7   \n",
            "21611         1600      2388     2.0           0     0  ...      8   \n",
            "21612         1020      1076     2.0           0     0  ...      7   \n",
            "\n",
            "       sqft_above  sqft_basement  yr_built  yr_renovated  zipcode      lat  \\\n",
            "0            1180              0      1955             0    98178  47.5112   \n",
            "1            2170            400      1951          1991    98125  47.7210   \n",
            "2             770              0      1933             0    98028  47.7379   \n",
            "3            1050            910      1965             0    98136  47.5208   \n",
            "4            1680              0      1987             0    98074  47.6168   \n",
            "...           ...            ...       ...           ...      ...      ...   \n",
            "21608        1530              0      2009             0    98103  47.6993   \n",
            "21609        2310              0      2014             0    98146  47.5107   \n",
            "21610        1020              0      2009             0    98144  47.5944   \n",
            "21611        1600              0      2004             0    98027  47.5345   \n",
            "21612        1020              0      2008             0    98144  47.5941   \n",
            "\n",
            "          long  sqft_living15  sqft_lot15  \n",
            "0     -122.257           1340        5650  \n",
            "1     -122.319           1690        7639  \n",
            "2     -122.233           2720        8062  \n",
            "3     -122.393           1360        5000  \n",
            "4     -122.045           1800        7503  \n",
            "...        ...            ...         ...  \n",
            "21608 -122.346           1530        1509  \n",
            "21609 -122.362           1830        7200  \n",
            "21610 -122.299           1020        2007  \n",
            "21611 -122.069           1410        1287  \n",
            "21612 -122.299           1020        1357  \n",
            "\n",
            "[21613 rows x 21 columns]\n"
          ]
        }
      ]
    },
    {
      "cell_type": "code",
      "source": [
        "print(pd.concat([df_kc_house_data.iloc[0:5], df_kc_house_data.iloc[-5:-1]]))"
      ],
      "metadata": {
        "colab": {
          "base_uri": "https://localhost:8080/"
        },
        "id": "KBnsK_ntfRx7",
        "outputId": "6de84f20-b613-47f6-b8ac-7847229ee9fd"
      },
      "execution_count": 12,
      "outputs": [
        {
          "output_type": "stream",
          "name": "stdout",
          "text": [
            "               id             date     price  bedrooms  bathrooms  \\\n",
            "0      7129300520  20141013T000000  221900.0         3       1.00   \n",
            "1      6414100192  20141209T000000  538000.0         3       2.25   \n",
            "2      5631500400  20150225T000000  180000.0         2       1.00   \n",
            "3      2487200875  20141209T000000  604000.0         4       3.00   \n",
            "4      1954400510  20150218T000000  510000.0         3       2.00   \n",
            "21608   263000018  20140521T000000  360000.0         3       2.50   \n",
            "21609  6600060120  20150223T000000  400000.0         4       2.50   \n",
            "21610  1523300141  20140623T000000  402101.0         2       0.75   \n",
            "21611   291310100  20150116T000000  400000.0         3       2.50   \n",
            "\n",
            "       sqft_living  sqft_lot  floors  waterfront  view  ...  grade  \\\n",
            "0             1180      5650     1.0           0     0  ...      7   \n",
            "1             2570      7242     2.0           0     0  ...      7   \n",
            "2              770     10000     1.0           0     0  ...      6   \n",
            "3             1960      5000     1.0           0     0  ...      7   \n",
            "4             1680      8080     1.0           0     0  ...      8   \n",
            "21608         1530      1131     3.0           0     0  ...      8   \n",
            "21609         2310      5813     2.0           0     0  ...      8   \n",
            "21610         1020      1350     2.0           0     0  ...      7   \n",
            "21611         1600      2388     2.0           0     0  ...      8   \n",
            "\n",
            "       sqft_above  sqft_basement  yr_built  yr_renovated  zipcode      lat  \\\n",
            "0            1180              0      1955             0    98178  47.5112   \n",
            "1            2170            400      1951          1991    98125  47.7210   \n",
            "2             770              0      1933             0    98028  47.7379   \n",
            "3            1050            910      1965             0    98136  47.5208   \n",
            "4            1680              0      1987             0    98074  47.6168   \n",
            "21608        1530              0      2009             0    98103  47.6993   \n",
            "21609        2310              0      2014             0    98146  47.5107   \n",
            "21610        1020              0      2009             0    98144  47.5944   \n",
            "21611        1600              0      2004             0    98027  47.5345   \n",
            "\n",
            "          long  sqft_living15  sqft_lot15  \n",
            "0     -122.257           1340        5650  \n",
            "1     -122.319           1690        7639  \n",
            "2     -122.233           2720        8062  \n",
            "3     -122.393           1360        5000  \n",
            "4     -122.045           1800        7503  \n",
            "21608 -122.346           1530        1509  \n",
            "21609 -122.362           1830        7200  \n",
            "21610 -122.299           1020        2007  \n",
            "21611 -122.069           1410        1287  \n",
            "\n",
            "[9 rows x 21 columns]\n"
          ]
        }
      ]
    },
    {
      "cell_type": "code",
      "source": [
        "print(df_kc_house_data.tail(5))\n",
        "print(df_kc_house_data.head(5))\n",
        "print(pd.concat([df_kc_house_data.head(5), df_kc_house_data.tail(5)]))"
      ],
      "metadata": {
        "colab": {
          "base_uri": "https://localhost:8080/"
        },
        "id": "TS-rElk0gxe0",
        "outputId": "ca89a729-1e79-49f7-e9e8-32211927cf8d"
      },
      "execution_count": 13,
      "outputs": [
        {
          "output_type": "stream",
          "name": "stdout",
          "text": [
            "               id             date     price  bedrooms  bathrooms  \\\n",
            "21608   263000018  20140521T000000  360000.0         3       2.50   \n",
            "21609  6600060120  20150223T000000  400000.0         4       2.50   \n",
            "21610  1523300141  20140623T000000  402101.0         2       0.75   \n",
            "21611   291310100  20150116T000000  400000.0         3       2.50   \n",
            "21612  1523300157  20141015T000000  325000.0         2       0.75   \n",
            "\n",
            "       sqft_living  sqft_lot  floors  waterfront  view  ...  grade  \\\n",
            "21608         1530      1131     3.0           0     0  ...      8   \n",
            "21609         2310      5813     2.0           0     0  ...      8   \n",
            "21610         1020      1350     2.0           0     0  ...      7   \n",
            "21611         1600      2388     2.0           0     0  ...      8   \n",
            "21612         1020      1076     2.0           0     0  ...      7   \n",
            "\n",
            "       sqft_above  sqft_basement  yr_built  yr_renovated  zipcode      lat  \\\n",
            "21608        1530              0      2009             0    98103  47.6993   \n",
            "21609        2310              0      2014             0    98146  47.5107   \n",
            "21610        1020              0      2009             0    98144  47.5944   \n",
            "21611        1600              0      2004             0    98027  47.5345   \n",
            "21612        1020              0      2008             0    98144  47.5941   \n",
            "\n",
            "          long  sqft_living15  sqft_lot15  \n",
            "21608 -122.346           1530        1509  \n",
            "21609 -122.362           1830        7200  \n",
            "21610 -122.299           1020        2007  \n",
            "21611 -122.069           1410        1287  \n",
            "21612 -122.299           1020        1357  \n",
            "\n",
            "[5 rows x 21 columns]\n",
            "           id             date     price  bedrooms  bathrooms  sqft_living  \\\n",
            "0  7129300520  20141013T000000  221900.0         3       1.00         1180   \n",
            "1  6414100192  20141209T000000  538000.0         3       2.25         2570   \n",
            "2  5631500400  20150225T000000  180000.0         2       1.00          770   \n",
            "3  2487200875  20141209T000000  604000.0         4       3.00         1960   \n",
            "4  1954400510  20150218T000000  510000.0         3       2.00         1680   \n",
            "\n",
            "   sqft_lot  floors  waterfront  view  ...  grade  sqft_above  sqft_basement  \\\n",
            "0      5650     1.0           0     0  ...      7        1180              0   \n",
            "1      7242     2.0           0     0  ...      7        2170            400   \n",
            "2     10000     1.0           0     0  ...      6         770              0   \n",
            "3      5000     1.0           0     0  ...      7        1050            910   \n",
            "4      8080     1.0           0     0  ...      8        1680              0   \n",
            "\n",
            "   yr_built  yr_renovated  zipcode      lat     long  sqft_living15  \\\n",
            "0      1955             0    98178  47.5112 -122.257           1340   \n",
            "1      1951          1991    98125  47.7210 -122.319           1690   \n",
            "2      1933             0    98028  47.7379 -122.233           2720   \n",
            "3      1965             0    98136  47.5208 -122.393           1360   \n",
            "4      1987             0    98074  47.6168 -122.045           1800   \n",
            "\n",
            "   sqft_lot15  \n",
            "0        5650  \n",
            "1        7639  \n",
            "2        8062  \n",
            "3        5000  \n",
            "4        7503  \n",
            "\n",
            "[5 rows x 21 columns]\n",
            "               id             date     price  bedrooms  bathrooms  \\\n",
            "0      7129300520  20141013T000000  221900.0         3       1.00   \n",
            "1      6414100192  20141209T000000  538000.0         3       2.25   \n",
            "2      5631500400  20150225T000000  180000.0         2       1.00   \n",
            "3      2487200875  20141209T000000  604000.0         4       3.00   \n",
            "4      1954400510  20150218T000000  510000.0         3       2.00   \n",
            "21608   263000018  20140521T000000  360000.0         3       2.50   \n",
            "21609  6600060120  20150223T000000  400000.0         4       2.50   \n",
            "21610  1523300141  20140623T000000  402101.0         2       0.75   \n",
            "21611   291310100  20150116T000000  400000.0         3       2.50   \n",
            "21612  1523300157  20141015T000000  325000.0         2       0.75   \n",
            "\n",
            "       sqft_living  sqft_lot  floors  waterfront  view  ...  grade  \\\n",
            "0             1180      5650     1.0           0     0  ...      7   \n",
            "1             2570      7242     2.0           0     0  ...      7   \n",
            "2              770     10000     1.0           0     0  ...      6   \n",
            "3             1960      5000     1.0           0     0  ...      7   \n",
            "4             1680      8080     1.0           0     0  ...      8   \n",
            "21608         1530      1131     3.0           0     0  ...      8   \n",
            "21609         2310      5813     2.0           0     0  ...      8   \n",
            "21610         1020      1350     2.0           0     0  ...      7   \n",
            "21611         1600      2388     2.0           0     0  ...      8   \n",
            "21612         1020      1076     2.0           0     0  ...      7   \n",
            "\n",
            "       sqft_above  sqft_basement  yr_built  yr_renovated  zipcode      lat  \\\n",
            "0            1180              0      1955             0    98178  47.5112   \n",
            "1            2170            400      1951          1991    98125  47.7210   \n",
            "2             770              0      1933             0    98028  47.7379   \n",
            "3            1050            910      1965             0    98136  47.5208   \n",
            "4            1680              0      1987             0    98074  47.6168   \n",
            "21608        1530              0      2009             0    98103  47.6993   \n",
            "21609        2310              0      2014             0    98146  47.5107   \n",
            "21610        1020              0      2009             0    98144  47.5944   \n",
            "21611        1600              0      2004             0    98027  47.5345   \n",
            "21612        1020              0      2008             0    98144  47.5941   \n",
            "\n",
            "          long  sqft_living15  sqft_lot15  \n",
            "0     -122.257           1340        5650  \n",
            "1     -122.319           1690        7639  \n",
            "2     -122.233           2720        8062  \n",
            "3     -122.393           1360        5000  \n",
            "4     -122.045           1800        7503  \n",
            "21608 -122.346           1530        1509  \n",
            "21609 -122.362           1830        7200  \n",
            "21610 -122.299           1020        2007  \n",
            "21611 -122.069           1410        1287  \n",
            "21612 -122.299           1020        1357  \n",
            "\n",
            "[10 rows x 21 columns]\n"
          ]
        }
      ]
    },
    {
      "cell_type": "markdown",
      "source": [
        "**Ejercicio 3**\n",
        "\n",
        "Imprime los nombres de las columnas del archivo titanic.csv"
      ],
      "metadata": {
        "id": "7gHEhTLzn6Dn"
      }
    },
    {
      "cell_type": "code",
      "source": [
        "print(df_titanic.columns)\n"
      ],
      "metadata": {
        "id": "Sc3ey0uHyQdI",
        "colab": {
          "base_uri": "https://localhost:8080/"
        },
        "outputId": "6795dbfe-185a-495e-ff1e-84e5ac46f096"
      },
      "execution_count": 64,
      "outputs": [
        {
          "output_type": "stream",
          "name": "stdout",
          "text": [
            "Index(['pclass', 'survived', 'name', 'sex', 'age', 'sibsp', 'parch', 'ticket',\n",
            "       'fare', 'cabin', 'embarked', 'boat', 'body', 'home.dest'],\n",
            "      dtype='object')\n"
          ]
        }
      ]
    },
    {
      "cell_type": "markdown",
      "source": [
        "**Ejercicio 4**\n",
        "\n",
        "El argumento header=0 dentro de read_csv utiliza la primer columna como encabezados del DataFrame. Utiliza este argumento y el argumento names para cambiar los encabezados del los datos del archivo nst-est2020.csv de mayúsculas a puras minúsculas"
      ],
      "metadata": {
        "id": "OPSfC11sn6BJ"
      }
    },
    {
      "cell_type": "code",
      "source": [
        "df_nst_est2020_columns = pd.read_csv(\n",
        "'/content/drive/MyDrive/CIENCIA DE DATOS/2DO MODULO/Datos/nst-est2020.csv')\n",
        "\n",
        "#df_nst_est2020_columns.columns = [col.lower() for col in df_nst_est2020_columns.columns]\n",
        "\n",
        "columnsmin = [col.lower() for col in df_nst_est2020_columns.columns]\n",
        "\n",
        "df_nst_est2020 = pd.read_csv(\n",
        "'/content/drive/MyDrive/CIENCIA DE DATOS/2DO MODULO/Datos/nst-est2020.csv', names=columnsmin, header = 0)\n",
        "\n",
        "\n",
        "#print(df_nst_est2020_columns)\n",
        "print(df_nst_est2020)\n",
        "\n"
      ],
      "metadata": {
        "id": "_4AGFG6VyQ-L",
        "colab": {
          "base_uri": "https://localhost:8080/"
        },
        "outputId": "acebb4fd-1664-4d60-9c48-db422f4afefc"
      },
      "execution_count": 15,
      "outputs": [
        {
          "output_type": "stream",
          "name": "stdout",
          "text": [
            "    sumlev region division  state                  name  census2010pop  \\\n",
            "0       10      0        0      0         United States      308745538   \n",
            "1       20      1        0      0      Northeast Region       55317240   \n",
            "2       20      2        0      0        Midwest Region       66927001   \n",
            "3       20      3        0      0          South Region      114555744   \n",
            "4       20      4        0      0           West Region       71945553   \n",
            "5       40      3        6      1               Alabama        4779736   \n",
            "6       40      4        9      2                Alaska         710231   \n",
            "7       40      4        8      4               Arizona        6392017   \n",
            "8       40      3        7      5              Arkansas        2915918   \n",
            "9       40      4        9      6            California       37253956   \n",
            "10      40      4        8      8              Colorado        5029196   \n",
            "11      40      1        1      9           Connecticut        3574097   \n",
            "12      40      3        5     10              Delaware         897934   \n",
            "13      40      3        5     11  District of Columbia         601723   \n",
            "14      40      3        5     12               Florida       18801310   \n",
            "15      40      3        5     13               Georgia        9687653   \n",
            "16      40      4        9     15                Hawaii        1360301   \n",
            "17      40      4        8     16                 Idaho        1567582   \n",
            "18      40      2        3     17              Illinois       12830632   \n",
            "19      40      2        3     18               Indiana        6483802   \n",
            "20      40      2        4     19                  Iowa        3046355   \n",
            "21      40      2        4     20                Kansas        2853118   \n",
            "22      40      3        6     21              Kentucky        4339367   \n",
            "23      40      3        7     22             Louisiana        4533372   \n",
            "24      40      1        1     23                 Maine        1328361   \n",
            "25      40      3        5     24              Maryland        5773552   \n",
            "26      40      1        1     25         Massachusetts        6547629   \n",
            "27      40      2        3     26              Michigan        9883640   \n",
            "28      40      2        4     27             Minnesota        5303925   \n",
            "29      40      3        6     28           Mississippi        2967297   \n",
            "30      40      2        4     29              Missouri        5988927   \n",
            "31      40      4        8     30               Montana         989415   \n",
            "32      40      2        4     31              Nebraska        1826341   \n",
            "33      40      4        8     32                Nevada        2700551   \n",
            "34      40      1        1     33         New Hampshire        1316470   \n",
            "35      40      1        2     34            New Jersey        8791894   \n",
            "36      40      4        8     35            New Mexico        2059179   \n",
            "37      40      1        2     36              New York       19378102   \n",
            "38      40      3        5     37        North Carolina        9535483   \n",
            "39      40      2        4     38          North Dakota         672591   \n",
            "40      40      2        3     39                  Ohio       11536504   \n",
            "41      40      3        7     40              Oklahoma        3751351   \n",
            "42      40      4        9     41                Oregon        3831074   \n",
            "43      40      1        2     42          Pennsylvania       12702379   \n",
            "44      40      1        1     44          Rhode Island        1052567   \n",
            "45      40      3        5     45        South Carolina        4625364   \n",
            "46      40      2        4     46          South Dakota         814180   \n",
            "47      40      3        6     47             Tennessee        6346105   \n",
            "48      40      3        7     48                 Texas       25145561   \n",
            "49      40      4        8     49                  Utah        2763885   \n",
            "50      40      1        1     50               Vermont         625741   \n",
            "51      40      3        5     51              Virginia        8001024   \n",
            "52      40      4        9     53            Washington        6724540   \n",
            "53      40      3        5     54         West Virginia        1852994   \n",
            "54      40      2        3     55             Wisconsin        5686986   \n",
            "55      40      4        8     56               Wyoming         563626   \n",
            "56      40      X        X     72           Puerto Rico        3725789   \n",
            "\n",
            "    estimatesbase2010  popestimate2010  popestimate2011  popestimate2012  \\\n",
            "0           308758105        309327143        311583481        313877662   \n",
            "1            55318414         55380764         55608318         55782661   \n",
            "2            66929737         66975328         67164092         67348275   \n",
            "3           114563042        114869421        116019483        117264196   \n",
            "4            71946912         72101630         72791588         73482530   \n",
            "5             4780118          4785514          4799642          4816632   \n",
            "6              710246           713982           722349           730810   \n",
            "7             6392292          6407342          6473416          6556344   \n",
            "8             2916029          2921998          2941038          2952876   \n",
            "9            37254522         37319550         37636311         37944551   \n",
            "10            5029319          5047539          5121900          5193660   \n",
            "11            3574151          3579173          3588632          3595211   \n",
            "12             897947           899647           907590           915518   \n",
            "13             601767           605282           620290           635737   \n",
            "14           18804589         18846143         19055607         19302016   \n",
            "15            9688737          9712209          9803630          9903580   \n",
            "16            1360304          1364004          1379562          1395199   \n",
            "17            1567658          1570819          1584272          1595910   \n",
            "18           12831572         12840545         12867783         12883029   \n",
            "19            6484050          6490555          6517250          6538989   \n",
            "20            3046877          3050819          3066772          3076844   \n",
            "21            2853120          2858266          2869677          2886024   \n",
            "22            4339330          4348464          4370817          4387865   \n",
            "23            4533500          4544635          4576244          4602067   \n",
            "24            1328354          1327651          1328473          1328094   \n",
            "25            5773787          5788784          5840241          5888375   \n",
            "26            6547788          6566440          6614218          6664269   \n",
            "27            9884112          9877597          9883053          9898289   \n",
            "28            5303933          5310934          5346620          5377500   \n",
            "29            2968129          2970615          2979147          2984599   \n",
            "30            5988941          5996089          6011182          6026027   \n",
            "31             989400           990730           997518          1004168   \n",
            "32            1826311          1829591          1840914          1853691   \n",
            "33            2700683          2702483          2713114          2744670   \n",
            "34            1316457          1316807          1320444          1324677   \n",
            "35            8791959          8799451          8828552          8845671   \n",
            "36            2059199          2064614          2080707          2087715   \n",
            "37           19378117         19399956         19499921         19574362   \n",
            "38            9535762          9574586          9658913          9751810   \n",
            "39             672575           674752           685526           702227   \n",
            "40           11536763         11539449         11545735         11550971   \n",
            "41            3751582          3760014          3788824          3819320   \n",
            "42            3831083          3837614          3872672          3900102   \n",
            "43           12702891         12711406         12747052         12769123   \n",
            "44            1052970          1053994          1053829          1054893   \n",
            "45            4625358          4635846          4672655          4719027   \n",
            "46             814198           816193           823740           833859   \n",
            "47            6346281          6355518          6400298          6455752   \n",
            "48           25146072         25241897         25645504         26084120   \n",
            "49            2763891          2775413          2814797          2854146   \n",
            "50             625727           625886           627197           626361   \n",
            "51            8001046          8024004          8102437          8187456   \n",
            "52            6724540          6743009          6827479          6898599   \n",
            "53            1853008          1854265          1856606          1857446   \n",
            "54            5687285          5690538          5705840          5720825   \n",
            "55             563775           564531           567491           576656   \n",
            "56            3726157          3721525          3678732          3634488   \n",
            "\n",
            "    popestimate2013  popestimate2014  popestimate2015  popestimate2016  \\\n",
            "0         316059947        318386329        320738994        323071755   \n",
            "1          55912775         56021339         56052790         56063777   \n",
            "2          67576524         67765576         67885682         68018175   \n",
            "3         118397213        119666248        121049223        122419547   \n",
            "4          74173435         74933166         75751299         76570256   \n",
            "5           4831586          4843737          4854803          4866824   \n",
            "6            737626           737075           738430           742575   \n",
            "7           6634690          6732873          6832810          6944767   \n",
            "8           2960459          2968759          2979732          2991815   \n",
            "9          38253768         38586706         38904296         39149186   \n",
            "10          5270774          5352637          5454328          5543844   \n",
            "11          3595792          3595697          3588561          3579830   \n",
            "12           924062           933131           942065           949989   \n",
            "13           651559           663603           677014           687576   \n",
            "14         19551678         19853880         20219111         20627237   \n",
            "15          9975592         10071204         10183353         10308442   \n",
            "16          1408822          1415335          1422999          1428885   \n",
            "17          1612053          1632248          1652495          1684036   \n",
            "18         12895778         12885092         12859585         12821709   \n",
            "19          6570575          6596019          6611442          6637898   \n",
            "20          3093935          3110643          3122541          3133210   \n",
            "21          2894306          2901861          2910717          2912977   \n",
            "22          4406906          4416992          4429126          4440306   \n",
            "23          4626040          4645938          4666998          4681346   \n",
            "24          1328543          1331217          1329098          1332348   \n",
            "25          5925197          5960064          5988528          6007014   \n",
            "26          6715158          6764864          6797484          6827280   \n",
            "27          9914802          9932033          9934483          9954117   \n",
            "28          5414722          5452665          5484002          5525360   \n",
            "29          2989839          2991892          2990231          2990595   \n",
            "30          6042989          6059130          6075411          6091384   \n",
            "31          1014158          1022657          1031495          1042137   \n",
            "32          1865813          1879955          1892059          1906483   \n",
            "33          2776956          2818935          2868531          2919555   \n",
            "34          1327272          1334257          1337480          1343694   \n",
            "35          8857821          8867277          8870312          8873584   \n",
            "36          2092833          2090236          2090071          2092555   \n",
            "37         19626488         19653431         19657321         19636391   \n",
            "38          9846717          9937295         10037218         10161802   \n",
            "39           723149           738736           755537           756114   \n",
            "40         11579692         11606573         11622315         11640060   \n",
            "41          3853891          3879187          3910518          3928143   \n",
            "42          3924110          3965447          4018542          4093271   \n",
            "43         12779538         12792392         12789838         12788468   \n",
            "44          1055560          1056511          1056886          1057816   \n",
            "45          4766469          4826858          4896006          4963031   \n",
            "46           842751           849670           854663           863693   \n",
            "47          6496943          6544617          6595354          6651277   \n",
            "48         26479646         26963092         27468531         27914064   \n",
            "49          2898773          2938327          2983626          3044241   \n",
            "50           626603           625693           625810           624366   \n",
            "51          8255861          8315430          8367303          8417651   \n",
            "52          6966252          7057531          7167287          7299961   \n",
            "53          1854768          1850569          1843332          1832435   \n",
            "54          5738012          5753199          5762927          5775170   \n",
            "55           582620           583159           586389           585243   \n",
            "56          3593077          3534874          3473232          3406672   \n",
            "\n",
            "    popestimate2017  popestimate2018  popestimate2019  popestimate042020  \\\n",
            "0         325122128        326838199        328329953          329398742   \n",
            "1          56083383         56084543         56002934           55924275   \n",
            "2          68160342         68263019         68340091           68357895   \n",
            "3         123611036        124649156        125686544          126494232   \n",
            "4          77267367         77841481         78300384           78622340   \n",
            "5           4877989          4891628          4907965            4920706   \n",
            "6            740983           736624           733603             732074   \n",
            "7           7048088          7164228          7291843            7393900   \n",
            "8           3003855          3012161          3020985            3029672   \n",
            "9          39337785         39437463         39437610           39418894   \n",
            "10          5617421          5697155          5758486            5798266   \n",
            "11          3575324          3574561          3566022            3561494   \n",
            "12           957942           966985           976668             984899   \n",
            "13           697079           704147           708253             712185   \n",
            "14         20977089         21254926         21492056           21688239   \n",
            "15         10417031         10519389         10628020           10695662   \n",
            "16          1425763          1423102          1415615            1410587   \n",
            "17          1719745          1752074          1789060            1818238   \n",
            "18         12779893         12724685         12667017           12615162   \n",
            "19          6662068          6698481          6731010            6752183   \n",
            "20          3143734          3149900          3159596            3164115   \n",
            "21          2910892          2912748          2912635            2915024   \n",
            "22          4455590          4464273          4472345            4477899   \n",
            "23          4673673          4664450          4658285            4650984   \n",
            "24          1335743          1340123          1345770            1349647   \n",
            "25          6028186          6042153          6054954            6059529   \n",
            "26          6863560          6885720          6894883            6898116   \n",
            "27          9976752          9987286          9984795            9976330   \n",
            "28          5569283          5608762          5640053            5655855   \n",
            "29          2990674          2982879          2978227            2971253   \n",
            "30          6111382          6125986          6140475            6151737   \n",
            "31          1053862          1061818          1070123            1078405   \n",
            "32          1916998          1925512          1932571            1937258   \n",
            "33          2972097          3030725          3090771            3128500   \n",
            "34          1350395          1355064          1360783            1365533   \n",
            "35          8888147          8891730          8891258            8890883   \n",
            "36          2092844          2093754          2099634            2106117   \n",
            "37         19593849         19544098         19463131           19382373   \n",
            "38         10275758         10391358         10501384           10581885   \n",
            "39           756755           760062           763724             765224   \n",
            "40         11665706         11680892         11696507           11699855   \n",
            "41          3933602          3943488          3960676            3977682   \n",
            "42          4147294          4183538          4216116            4237408   \n",
            "43         12794679         12809107         12798883           12794404   \n",
            "44          1056554          1059338          1058158            1058004   \n",
            "45          5027102          5091702          5157702            5205864   \n",
            "46           873732           879386           887127             891688   \n",
            "47          6714748          6778180          6830325            6875939   \n",
            "48         28291024         28624564         28986794           29286467   \n",
            "49          3103540          3155153          3203383            3239542   \n",
            "50           625132           624802           624046             623821   \n",
            "51          8471011          8510920          8556642            8587217   \n",
            "52          7427951          7526793          7614024            7678379   \n",
            "53          1818683          1805953          1795263            1788150   \n",
            "54          5793147          5809319          5824581            5833464   \n",
            "55           579994           579054           580116             582030   \n",
            "56          3325284          3193344          3193553            3167851   \n",
            "\n",
            "    popestimate2020  \n",
            "0         329484123  \n",
            "1          55849869  \n",
            "2          68316744  \n",
            "3         126662754  \n",
            "4          78654756  \n",
            "5           4921532  \n",
            "6            731158  \n",
            "7           7421401  \n",
            "8           3030522  \n",
            "9          39368078  \n",
            "10          5807719  \n",
            "11          3557006  \n",
            "12           986809  \n",
            "13           712816  \n",
            "14         21733312  \n",
            "15         10710017  \n",
            "16          1407006  \n",
            "17          1826913  \n",
            "18         12587530  \n",
            "19          6754953  \n",
            "20          3163561  \n",
            "21          2913805  \n",
            "22          4477251  \n",
            "23          4645318  \n",
            "24          1350141  \n",
            "25          6055802  \n",
            "26          6893574  \n",
            "27          9966555  \n",
            "28          5657342  \n",
            "29          2966786  \n",
            "30          6151548  \n",
            "31          1080577  \n",
            "32          1937552  \n",
            "33          3138259  \n",
            "34          1366275  \n",
            "35          8882371  \n",
            "36          2106319  \n",
            "37         19336776  \n",
            "38         10600823  \n",
            "39           765309  \n",
            "40         11693217  \n",
            "41          3980783  \n",
            "42          4241507  \n",
            "43         12783254  \n",
            "44          1057125  \n",
            "45          5218040  \n",
            "46           892717  \n",
            "47          6886834  \n",
            "48         29360759  \n",
            "49          3249879  \n",
            "50           623347  \n",
            "51          8590563  \n",
            "52          7693612  \n",
            "53          1784787  \n",
            "54          5832655  \n",
            "55           582328  \n",
            "56          3159343  \n"
          ]
        }
      ]
    },
    {
      "cell_type": "markdown",
      "source": [
        "**Ejercicio 5**\n",
        "\n",
        "Con los datos del archivo movie_titles.tsv ponles los siguientes nombres a las columnas ['id', 'title', 'year','imbd_riting','imdb_id', 'description']"
      ],
      "metadata": {
        "id": "9Pzyv9HAn5-j"
      }
    },
    {
      "cell_type": "code",
      "source": [
        "df_movie_titles = pd.read_csv(\n",
        "'/content/drive/MyDrive/CIENCIA DE DATOS/2DO MODULO/Datos/movie_titles.tsv', sep=\"\\t\", header=None)\n",
        "\n",
        "df_movie_titles.columns = ['id', 'title', 'year','imbd_riting','imdb_id', 'description']\n",
        "\n",
        "print(df_movie_titles)"
      ],
      "metadata": {
        "id": "6Lk6KJpzyRiQ",
        "colab": {
          "base_uri": "https://localhost:8080/"
        },
        "outputId": "7a4f7064-27c0-4cc4-aedc-ad55534415f7"
      },
      "execution_count": 16,
      "outputs": [
        {
          "output_type": "stream",
          "name": "stdout",
          "text": [
            "       id                       title  year  imbd_riting   imdb_id  \\\n",
            "0      m0  10 things i hate about you  1999          6.9   62847.0   \n",
            "1      m1  1492: conquest of paradise  1992          6.2   10421.0   \n",
            "2      m2                  15 minutes  2001          6.1   25854.0   \n",
            "3      m3       2001: a space odyssey  1968          8.4  163227.0   \n",
            "4      m4                     48 hrs.  1982          6.9   22289.0   \n",
            "..    ...                         ...   ...          ...       ...   \n",
            "612  m612                    watchmen  2009          7.8  135229.0   \n",
            "613  m613                         xxx  2002          5.6   53505.0   \n",
            "614  m614                       x-men  2000          7.4  122149.0   \n",
            "615  m615          young frankenstein  1974          8.0   57618.0   \n",
            "616  m616                   zulu dawn  1979          6.4    1911.0   \n",
            "\n",
            "                                           description  \n",
            "0                                 ['comedy' 'romance']  \n",
            "1          ['adventure' 'biography' 'drama' 'history']  \n",
            "2                ['action' 'crime' 'drama' 'thriller']  \n",
            "3                     ['adventure' 'mystery' 'sci-fi']  \n",
            "4       ['action' 'comedy' 'crime' 'drama' 'thriller']  \n",
            "..                                                 ...  \n",
            "612  ['action' 'crime' 'fantasy' 'mystery' 'sci-fi'...  \n",
            "613                     ['action' 'adventure' 'crime']  \n",
            "614                                ['action' 'sci-fi']  \n",
            "615                                ['comedy' 'sci-fi']  \n",
            "616     ['action' 'adventure' 'drama' 'history' 'war']  \n",
            "\n",
            "[617 rows x 6 columns]\n"
          ]
        }
      ]
    },
    {
      "cell_type": "markdown",
      "source": [
        "**Ejercicio 6**\n",
        "\n",
        "Realiza una exploracion de los datos mount_everest_deaths.csv y titanic.csv, observa los datos faltantes y realiza una observación de cuales son los datos faltantes en cada caso"
      ],
      "metadata": {
        "id": "rJdmbDb0n574"
      }
    },
    {
      "cell_type": "code",
      "source": [
        "df_titanic = pd.read_csv(\n",
        "'/content/drive/MyDrive/CIENCIA DE DATOS/2DO MODULO/Datos/titanic.csv', na_values=\"?\")"
      ],
      "metadata": {
        "id": "ZQ2HnQbA3dE0"
      },
      "execution_count": 67,
      "outputs": []
    },
    {
      "cell_type": "code",
      "source": [
        "print(df_titanic.info())"
      ],
      "metadata": {
        "colab": {
          "base_uri": "https://localhost:8080/"
        },
        "id": "WBswONfT1w0N",
        "outputId": "0a4a0ea8-72b0-464d-fd5a-cb48f59cffe9"
      },
      "execution_count": 68,
      "outputs": [
        {
          "output_type": "stream",
          "name": "stdout",
          "text": [
            "<class 'pandas.core.frame.DataFrame'>\n",
            "RangeIndex: 1309 entries, 0 to 1308\n",
            "Data columns (total 14 columns):\n",
            " #   Column     Non-Null Count  Dtype  \n",
            "---  ------     --------------  -----  \n",
            " 0   pclass     1309 non-null   int64  \n",
            " 1   survived   1309 non-null   int64  \n",
            " 2   name       1309 non-null   object \n",
            " 3   sex        1309 non-null   object \n",
            " 4   age        1046 non-null   float64\n",
            " 5   sibsp      1309 non-null   int64  \n",
            " 6   parch      1309 non-null   int64  \n",
            " 7   ticket     1309 non-null   object \n",
            " 8   fare       1308 non-null   float64\n",
            " 9   cabin      295 non-null    object \n",
            " 10  embarked   1307 non-null   object \n",
            " 11  boat       486 non-null    object \n",
            " 12  body       121 non-null    float64\n",
            " 13  home.dest  745 non-null    object \n",
            "dtypes: float64(3), int64(4), object(7)\n",
            "memory usage: 143.3+ KB\n",
            "None\n"
          ]
        }
      ]
    },
    {
      "cell_type": "code",
      "source": [
        "print(df_mount_everest_deaths.info())"
      ],
      "metadata": {
        "colab": {
          "base_uri": "https://localhost:8080/"
        },
        "id": "9ONH0cx22tXQ",
        "outputId": "6a7e7a25-ba95-4b62-992e-d84980760d62"
      },
      "execution_count": 46,
      "outputs": [
        {
          "output_type": "stream",
          "name": "stdout",
          "text": [
            "<class 'pandas.core.frame.DataFrame'>\n",
            "RangeIndex: 310 entries, 0 to 309\n",
            "Data columns (total 8 columns):\n",
            " #   Column          Non-Null Count  Dtype  \n",
            "---  ------          --------------  -----  \n",
            " 0   No.             310 non-null    int64  \n",
            " 1   Name            310 non-null    object \n",
            " 2   Date            310 non-null    object \n",
            " 3   Age             160 non-null    float64\n",
            " 4   Expedition      271 non-null    object \n",
            " 5   Nationality     309 non-null    object \n",
            " 6   Cause of death  296 non-null    object \n",
            " 7   Location        291 non-null    object \n",
            "dtypes: float64(1), int64(1), object(6)\n",
            "memory usage: 19.5+ KB\n",
            "None\n"
          ]
        }
      ]
    },
    {
      "cell_type": "code",
      "source": [
        "print(df_mount_everest_deaths.isnull())"
      ],
      "metadata": {
        "colab": {
          "base_uri": "https://localhost:8080/"
        },
        "id": "_j7OmUnz0JeR",
        "outputId": "c45a536f-4dd2-44f3-958c-ff8713d26ea8"
      },
      "execution_count": 31,
      "outputs": [
        {
          "output_type": "stream",
          "name": "stdout",
          "text": [
            "       No.   Name   Date    Age  Expedition  Nationality  Cause of death  \\\n",
            "0    False  False  False   True       False        False           False   \n",
            "1    False  False  False   True       False        False           False   \n",
            "2    False  False  False   True       False        False           False   \n",
            "3    False  False  False   True       False        False           False   \n",
            "4    False  False  False   True       False        False           False   \n",
            "..     ...    ...    ...    ...         ...          ...             ...   \n",
            "305  False  False  False  False       False        False           False   \n",
            "306  False  False  False  False       False        False           False   \n",
            "307  False  False  False  False       False        False           False   \n",
            "308  False  False  False  False       False        False           False   \n",
            "309  False  False  False   True       False        False            True   \n",
            "\n",
            "     Location  \n",
            "0       False  \n",
            "1       False  \n",
            "2       False  \n",
            "3       False  \n",
            "4       False  \n",
            "..        ...  \n",
            "305     False  \n",
            "306     False  \n",
            "307     False  \n",
            "308     False  \n",
            "309     False  \n",
            "\n",
            "[310 rows x 8 columns]\n"
          ]
        }
      ]
    },
    {
      "cell_type": "code",
      "source": [
        "print(df_titanic.isnull().sum())"
      ],
      "metadata": {
        "colab": {
          "base_uri": "https://localhost:8080/"
        },
        "id": "f0DFTSJI3lxa",
        "outputId": "6cd2612d-a1ec-4de5-a984-df23d0b57d22"
      },
      "execution_count": 70,
      "outputs": [
        {
          "output_type": "stream",
          "name": "stdout",
          "text": [
            "pclass          0\n",
            "survived        0\n",
            "name            0\n",
            "sex             0\n",
            "age           263\n",
            "sibsp           0\n",
            "parch           0\n",
            "ticket          0\n",
            "fare            1\n",
            "cabin        1014\n",
            "embarked        2\n",
            "boat          823\n",
            "body         1188\n",
            "home.dest     564\n",
            "dtype: int64\n"
          ]
        }
      ]
    },
    {
      "cell_type": "code",
      "source": [
        "print(df_mount_everest_deaths.isnull().sum())"
      ],
      "metadata": {
        "id": "XTx5WZ6GySJw",
        "colab": {
          "base_uri": "https://localhost:8080/"
        },
        "outputId": "7696a8d8-236f-4f37-8df2-315b7d37f510"
      },
      "execution_count": 35,
      "outputs": [
        {
          "output_type": "stream",
          "name": "stdout",
          "text": [
            "No.                 0\n",
            "Name                0\n",
            "Date                0\n",
            "Age               150\n",
            "Expedition         39\n",
            "Nationality         1\n",
            "Cause of death     14\n",
            "Location           19\n",
            "dtype: int64\n"
          ]
        }
      ]
    },
    {
      "cell_type": "code",
      "source": [
        "percent = df_mount_everest_deaths.isnull().mean() * 100\n",
        "print(percent)"
      ],
      "metadata": {
        "colab": {
          "base_uri": "https://localhost:8080/"
        },
        "id": "gu3CIDCd0UUx",
        "outputId": "8556549b-1183-4b65-99c5-4cdfe3fefeac"
      },
      "execution_count": 38,
      "outputs": [
        {
          "output_type": "stream",
          "name": "stdout",
          "text": [
            "No.                0.000000\n",
            "Name               0.000000\n",
            "Date               0.000000\n",
            "Age               48.387097\n",
            "Expedition        12.580645\n",
            "Nationality        0.322581\n",
            "Cause of death     4.516129\n",
            "Location           6.129032\n",
            "dtype: float64\n"
          ]
        }
      ]
    },
    {
      "cell_type": "code",
      "source": [
        "%matplotlib inline\n",
        "import seaborn as sns\n",
        "import matplotlib.pyplot as plt\n",
        "\n",
        "sns.heatmap(df_mount_everest_deaths.isnull(), cbar=False, cmap=\"viridis\")\n",
        "plt.xlabel('Missing Data')\n",
        "plt.ylabel('Row')\n",
        "plt.grid(True)\n",
        "plt.show"
      ],
      "metadata": {
        "colab": {
          "base_uri": "https://localhost:8080/",
          "height": 717
        },
        "id": "pNLGAmeuxLRk",
        "outputId": "80b250ee-c56d-49d6-b63f-ceb709c85266"
      },
      "execution_count": 39,
      "outputs": [
        {
          "output_type": "execute_result",
          "data": {
            "text/plain": [
              "<function matplotlib.pyplot.show(close=None, block=None)>"
            ],
            "text/html": [
              "<div style=\"max-width:800px; border: 1px solid var(--colab-border-color);\"><style>\n",
              "      pre.function-repr-contents {\n",
              "        overflow-x: auto;\n",
              "        padding: 8px 12px;\n",
              "        max-height: 500px;\n",
              "      }\n",
              "\n",
              "      pre.function-repr-contents.function-repr-contents-collapsed {\n",
              "        cursor: pointer;\n",
              "        max-height: 100px;\n",
              "      }\n",
              "    </style>\n",
              "    <pre style=\"white-space: initial; background:\n",
              "         var(--colab-secondary-surface-color); padding: 8px 12px;\n",
              "         border-bottom: 1px solid var(--colab-border-color);\"><b>matplotlib.pyplot.show</b><br/>def show(*args, **kwargs) -&gt; None</pre><pre class=\"function-repr-contents function-repr-contents-collapsed\" style=\"\"><a class=\"filepath\" style=\"display:none\" href=\"#\">/usr/local/lib/python3.11/dist-packages/matplotlib/pyplot.py</a>Display all open figures.\n",
              "\n",
              "Parameters\n",
              "----------\n",
              "block : bool, optional\n",
              "    Whether to wait for all figures to be closed before returning.\n",
              "\n",
              "    If `True` block and run the GUI main loop until all figure windows\n",
              "    are closed.\n",
              "\n",
              "    If `False` ensure that all figure windows are displayed and return\n",
              "    immediately.  In this case, you are responsible for ensuring\n",
              "    that the event loop is running to have responsive figures.\n",
              "\n",
              "    Defaults to True in non-interactive mode and to False in interactive\n",
              "    mode (see `.pyplot.isinteractive`).\n",
              "\n",
              "See Also\n",
              "--------\n",
              "ion : Enable interactive mode, which shows / updates the figure after\n",
              "      every plotting command, so that calling ``show()`` is not necessary.\n",
              "ioff : Disable interactive mode.\n",
              "savefig : Save the figure to an image file instead of showing it on screen.\n",
              "\n",
              "Notes\n",
              "-----\n",
              "**Saving figures to file and showing a window at the same time**\n",
              "\n",
              "If you want an image file as well as a user interface window, use\n",
              "`.pyplot.savefig` before `.pyplot.show`. At the end of (a blocking)\n",
              "``show()`` the figure is closed and thus unregistered from pyplot. Calling\n",
              "`.pyplot.savefig` afterwards would save a new and thus empty figure. This\n",
              "limitation of command order does not apply if the show is non-blocking or\n",
              "if you keep a reference to the figure and use `.Figure.savefig`.\n",
              "\n",
              "**Auto-show in jupyter notebooks**\n",
              "\n",
              "The jupyter backends (activated via ``%matplotlib inline``,\n",
              "``%matplotlib notebook``, or ``%matplotlib widget``), call ``show()`` at\n",
              "the end of every cell by default. Thus, you usually don&#x27;t have to call it\n",
              "explicitly there.</pre>\n",
              "      <script>\n",
              "      if (google.colab.kernel.accessAllowed && google.colab.files && google.colab.files.view) {\n",
              "        for (const element of document.querySelectorAll('.filepath')) {\n",
              "          element.style.display = 'block'\n",
              "          element.onclick = (event) => {\n",
              "            event.preventDefault();\n",
              "            event.stopPropagation();\n",
              "            google.colab.files.view(element.textContent, 569);\n",
              "          };\n",
              "        }\n",
              "      }\n",
              "      for (const element of document.querySelectorAll('.function-repr-contents')) {\n",
              "        element.onclick = (event) => {\n",
              "          event.preventDefault();\n",
              "          event.stopPropagation();\n",
              "          element.classList.toggle('function-repr-contents-collapsed');\n",
              "        };\n",
              "      }\n",
              "      </script>\n",
              "      </div>"
            ]
          },
          "metadata": {},
          "execution_count": 39
        },
        {
          "output_type": "display_data",
          "data": {
            "text/plain": [
              "<Figure size 640x480 with 1 Axes>"
            ],
            "image/png": "[encoded data removed]"
          },
          "metadata": {}
        }
      ]
    },
    {
      "cell_type": "code",
      "source": [
        "%matplotlib inline\n",
        "import seaborn as sns\n",
        "import matplotlib.pyplot as plt\n",
        "\n",
        "sns.heatmap(df_titanic.isnull(), cbar=False, cmap=\"viridis\")\n",
        "plt.xlabel('Missing Data')\n",
        "plt.ylabel('Row')\n",
        "plt.grid(True)\n",
        "plt.show"
      ],
      "metadata": {
        "colab": {
          "base_uri": "https://localhost:8080/",
          "height": 686
        },
        "id": "b_OOTz_S3tmV",
        "outputId": "951818ef-53e6-4e79-fe7b-d8b0fc2a726d"
      },
      "execution_count": 71,
      "outputs": [
        {
          "output_type": "execute_result",
          "data": {
            "text/plain": [
              "<function matplotlib.pyplot.show(close=None, block=None)>"
            ],
            "text/html": [
              "<div style=\"max-width:800px; border: 1px solid var(--colab-border-color);\"><style>\n",
              "      pre.function-repr-contents {\n",
              "        overflow-x: auto;\n",
              "        padding: 8px 12px;\n",
              "        max-height: 500px;\n",
              "      }\n",
              "\n",
              "      pre.function-repr-contents.function-repr-contents-collapsed {\n",
              "        cursor: pointer;\n",
              "        max-height: 100px;\n",
              "      }\n",
              "    </style>\n",
              "    <pre style=\"white-space: initial; background:\n",
              "         var(--colab-secondary-surface-color); padding: 8px 12px;\n",
              "         border-bottom: 1px solid var(--colab-border-color);\"><b>matplotlib.pyplot.show</b><br/>def show(*args, **kwargs) -&gt; None</pre><pre class=\"function-repr-contents function-repr-contents-collapsed\" style=\"\"><a class=\"filepath\" style=\"display:none\" href=\"#\">/usr/local/lib/python3.11/dist-packages/matplotlib/pyplot.py</a>Display all open figures.\n",
              "\n",
              "Parameters\n",
              "----------\n",
              "block : bool, optional\n",
              "    Whether to wait for all figures to be closed before returning.\n",
              "\n",
              "    If `True` block and run the GUI main loop until all figure windows\n",
              "    are closed.\n",
              "\n",
              "    If `False` ensure that all figure windows are displayed and return\n",
              "    immediately.  In this case, you are responsible for ensuring\n",
              "    that the event loop is running to have responsive figures.\n",
              "\n",
              "    Defaults to True in non-interactive mode and to False in interactive\n",
              "    mode (see `.pyplot.isinteractive`).\n",
              "\n",
              "See Also\n",
              "--------\n",
              "ion : Enable interactive mode, which shows / updates the figure after\n",
              "      every plotting command, so that calling ``show()`` is not necessary.\n",
              "ioff : Disable interactive mode.\n",
              "savefig : Save the figure to an image file instead of showing it on screen.\n",
              "\n",
              "Notes\n",
              "-----\n",
              "**Saving figures to file and showing a window at the same time**\n",
              "\n",
              "If you want an image file as well as a user interface window, use\n",
              "`.pyplot.savefig` before `.pyplot.show`. At the end of (a blocking)\n",
              "``show()`` the figure is closed and thus unregistered from pyplot. Calling\n",
              "`.pyplot.savefig` afterwards would save a new and thus empty figure. This\n",
              "limitation of command order does not apply if the show is non-blocking or\n",
              "if you keep a reference to the figure and use `.Figure.savefig`.\n",
              "\n",
              "**Auto-show in jupyter notebooks**\n",
              "\n",
              "The jupyter backends (activated via ``%matplotlib inline``,\n",
              "``%matplotlib notebook``, or ``%matplotlib widget``), call ``show()`` at\n",
              "the end of every cell by default. Thus, you usually don&#x27;t have to call it\n",
              "explicitly there.</pre>\n",
              "      <script>\n",
              "      if (google.colab.kernel.accessAllowed && google.colab.files && google.colab.files.view) {\n",
              "        for (const element of document.querySelectorAll('.filepath')) {\n",
              "          element.style.display = 'block'\n",
              "          element.onclick = (event) => {\n",
              "            event.preventDefault();\n",
              "            event.stopPropagation();\n",
              "            google.colab.files.view(element.textContent, 569);\n",
              "          };\n",
              "        }\n",
              "      }\n",
              "      for (const element of document.querySelectorAll('.function-repr-contents')) {\n",
              "        element.onclick = (event) => {\n",
              "          event.preventDefault();\n",
              "          event.stopPropagation();\n",
              "          element.classList.toggle('function-repr-contents-collapsed');\n",
              "        };\n",
              "      }\n",
              "      </script>\n",
              "      </div>"
            ]
          },
          "metadata": {},
          "execution_count": 71
        },
        {
          "output_type": "display_data",
          "data": {
            "text/plain": [
              "<Figure size 640x480 with 1 Axes>"
            ],
            "image/png": "[encoded data removed]"
          },
          "metadata": {}
        }
      ]
    },
    {
      "cell_type": "markdown",
      "source": [
        "**Ejercicio 7**\n",
        "\n",
        "Remplaza los valores faltantes del archivo mount_everest_deaths.csv por ceros y elimina los registros que tengan valores faltantes en los datos del archivo titanic.csv"
      ],
      "metadata": {
        "id": "R0GYsCRan55a"
      }
    },
    {
      "cell_type": "code",
      "source": [
        "df_mount_everest_deaths.fillna(0, inplace=True)\n",
        "print(df_mount_everest_deaths.isnull().sum())"
      ],
      "metadata": {
        "id": "wyn83z2QySvf",
        "colab": {
          "base_uri": "https://localhost:8080/"
        },
        "outputId": "25ece74a-5ff4-4a91-d388-9cbe78d6263d"
      },
      "execution_count": 97,
      "outputs": [
        {
          "output_type": "stream",
          "name": "stdout",
          "text": [
            "No.               0\n",
            "Name              0\n",
            "Date              0\n",
            "Age               0\n",
            "Expedition        0\n",
            "Nationality       0\n",
            "Cause of death    0\n",
            "Location          0\n",
            "dtype: int64\n"
          ]
        }
      ]
    },
    {
      "cell_type": "code",
      "source": [
        "df_titanic.fillna(0, inplace=True)\n",
        "\n",
        "print(df_titanic)\n",
        "\n"
      ],
      "metadata": {
        "colab": {
          "base_uri": "https://localhost:8080/"
        },
        "id": "R0i1RECr4LpE",
        "outputId": "e45f3671-cc8e-405b-8350-ac037531f527"
      },
      "execution_count": 78,
      "outputs": [
        {
          "output_type": "stream",
          "name": "stdout",
          "text": [
            "      pclass  survived                                             name  \\\n",
            "0          1         1                    Allen, Miss. Elisabeth Walton   \n",
            "1          1         1                   Allison, Master. Hudson Trevor   \n",
            "2          1         0                     Allison, Miss. Helen Loraine   \n",
            "3          1         0             Allison, Mr. Hudson Joshua Creighton   \n",
            "4          1         0  Allison, Mrs. Hudson J C (Bessie Waldo Daniels)   \n",
            "...      ...       ...                                              ...   \n",
            "1304       3         0                             Zabour, Miss. Hileni   \n",
            "1305       3         0                            Zabour, Miss. Thamine   \n",
            "1306       3         0                        Zakarian, Mr. Mapriededer   \n",
            "1307       3         0                              Zakarian, Mr. Ortin   \n",
            "1308       3         0                               Zimmerman, Mr. Leo   \n",
            "\n",
            "         sex      age  sibsp  parch  ticket      fare    cabin embarked boat  \\\n",
            "0     female  29.0000      0      0   24160  211.3375       B5        S    2   \n",
            "1       male   0.9167      1      2  113781  151.5500  C22 C26        S   11   \n",
            "2     female   2.0000      1      2  113781  151.5500  C22 C26        S    0   \n",
            "3       male  30.0000      1      2  113781  151.5500  C22 C26        S    0   \n",
            "4     female  25.0000      1      2  113781  151.5500  C22 C26        S    0   \n",
            "...      ...      ...    ...    ...     ...       ...      ...      ...  ...   \n",
            "1304  female  14.5000      1      0    2665   14.4542        0        C    0   \n",
            "1305  female   0.0000      1      0    2665   14.4542        0        C    0   \n",
            "1306    male  26.5000      0      0    2656    7.2250        0        C    0   \n",
            "1307    male  27.0000      0      0    2670    7.2250        0        C    0   \n",
            "1308    male  29.0000      0      0  315082    7.8750        0        S    0   \n",
            "\n",
            "       body                        home.dest  \n",
            "0       0.0                     St Louis, MO  \n",
            "1       0.0  Montreal, PQ / Chesterville, ON  \n",
            "2       0.0  Montreal, PQ / Chesterville, ON  \n",
            "3     135.0  Montreal, PQ / Chesterville, ON  \n",
            "4       0.0  Montreal, PQ / Chesterville, ON  \n",
            "...     ...                              ...  \n",
            "1304  328.0                                0  \n",
            "1305    0.0                                0  \n",
            "1306  304.0                                0  \n",
            "1307    0.0                                0  \n",
            "1308    0.0                                0  \n",
            "\n",
            "[1309 rows x 14 columns]\n"
          ]
        }
      ]
    },
    {
      "cell_type": "markdown",
      "source": [
        "**Ejercicio 8**\n",
        "\n",
        "Con los datos del archivo titanic.csv realiza los siguientes filtros y guardalos en archivos csv:\n",
        "* Obtener todos los pasajeros de primera clase (pclass == 1) que sobrevivieron (survived == 1)\n",
        "* Mostrar todos los hombre (sex == 'male') menores de 18 años.\n",
        "* Mostrar los pasajeros que iban acompañados de al menos un familiar, es decir, donde sibsp + parch >= 1\n",
        "* Mostrar los pasajeros cuya tarifa (fare) fue mayor al promedio de todas las tarifas.\n",
        "* Obtener los pasajeros que embarcaron en Cherburgo (embarked == 'C') y pagaron una tarifa mayor a 50."
      ],
      "metadata": {
        "id": "n2y1r7FIn529"
      }
    },
    {
      "cell_type": "code",
      "source": [
        "print(df_titanic)"
      ],
      "metadata": {
        "id": "Z4mmUOvjyTY-",
        "colab": {
          "base_uri": "https://localhost:8080/"
        },
        "outputId": "aaadc021-87a6-479b-d223-2d6b0e00a72f"
      },
      "execution_count": 79,
      "outputs": [
        {
          "output_type": "stream",
          "name": "stdout",
          "text": [
            "      pclass  survived                                             name  \\\n",
            "0          1         1                    Allen, Miss. Elisabeth Walton   \n",
            "1          1         1                   Allison, Master. Hudson Trevor   \n",
            "2          1         0                     Allison, Miss. Helen Loraine   \n",
            "3          1         0             Allison, Mr. Hudson Joshua Creighton   \n",
            "4          1         0  Allison, Mrs. Hudson J C (Bessie Waldo Daniels)   \n",
            "...      ...       ...                                              ...   \n",
            "1304       3         0                             Zabour, Miss. Hileni   \n",
            "1305       3         0                            Zabour, Miss. Thamine   \n",
            "1306       3         0                        Zakarian, Mr. Mapriededer   \n",
            "1307       3         0                              Zakarian, Mr. Ortin   \n",
            "1308       3         0                               Zimmerman, Mr. Leo   \n",
            "\n",
            "         sex      age  sibsp  parch  ticket      fare    cabin embarked boat  \\\n",
            "0     female  29.0000      0      0   24160  211.3375       B5        S    2   \n",
            "1       male   0.9167      1      2  113781  151.5500  C22 C26        S   11   \n",
            "2     female   2.0000      1      2  113781  151.5500  C22 C26        S    0   \n",
            "3       male  30.0000      1      2  113781  151.5500  C22 C26        S    0   \n",
            "4     female  25.0000      1      2  113781  151.5500  C22 C26        S    0   \n",
            "...      ...      ...    ...    ...     ...       ...      ...      ...  ...   \n",
            "1304  female  14.5000      1      0    2665   14.4542        0        C    0   \n",
            "1305  female   0.0000      1      0    2665   14.4542        0        C    0   \n",
            "1306    male  26.5000      0      0    2656    7.2250        0        C    0   \n",
            "1307    male  27.0000      0      0    2670    7.2250        0        C    0   \n",
            "1308    male  29.0000      0      0  315082    7.8750        0        S    0   \n",
            "\n",
            "       body                        home.dest  \n",
            "0       0.0                     St Louis, MO  \n",
            "1       0.0  Montreal, PQ / Chesterville, ON  \n",
            "2       0.0  Montreal, PQ / Chesterville, ON  \n",
            "3     135.0  Montreal, PQ / Chesterville, ON  \n",
            "4       0.0  Montreal, PQ / Chesterville, ON  \n",
            "...     ...                              ...  \n",
            "1304  328.0                                0  \n",
            "1305    0.0                                0  \n",
            "1306  304.0                                0  \n",
            "1307    0.0                                0  \n",
            "1308    0.0                                0  \n",
            "\n",
            "[1309 rows x 14 columns]\n"
          ]
        }
      ]
    },
    {
      "cell_type": "code",
      "source": [
        "print(df_titanic.columns)"
      ],
      "metadata": {
        "colab": {
          "base_uri": "https://localhost:8080/"
        },
        "id": "dEr3Zsby7xtE",
        "outputId": "57a6648b-d768-4faf-c0ca-369b866d4129"
      },
      "execution_count": 86,
      "outputs": [
        {
          "output_type": "stream",
          "name": "stdout",
          "text": [
            "Index(['pclass', 'survived', 'name', 'sex', 'age', 'sibsp', 'parch', 'ticket',\n",
            "       'fare', 'cabin', 'embarked', 'boat', 'body', 'home.dest'],\n",
            "      dtype='object')\n"
          ]
        }
      ]
    },
    {
      "cell_type": "code",
      "source": [
        "#Obtener todos los pasajeros de primera clase (pclass == 1) que sobrevivieron (survived == 1)\n",
        "\n",
        "print(df_titanic.loc[(df_titanic[\"pclass\"] == 1) & (df_titanic[\"survived\"] == 1)])\n"
      ],
      "metadata": {
        "colab": {
          "base_uri": "https://localhost:8080/"
        },
        "id": "IdDKZjRv6aKj",
        "outputId": "52f0bc79-799f-4f0f-fc49-c449b90fd355"
      },
      "execution_count": 81,
      "outputs": [
        {
          "output_type": "stream",
          "name": "stdout",
          "text": [
            "     pclass  survived                                           name     sex  \\\n",
            "0         1         1                  Allen, Miss. Elisabeth Walton  female   \n",
            "1         1         1                 Allison, Master. Hudson Trevor    male   \n",
            "5         1         1                            Anderson, Mr. Harry    male   \n",
            "6         1         1              Andrews, Miss. Kornelia Theodosia  female   \n",
            "8         1         1  Appleton, Mrs. Edward Dale (Charlotte Lamson)  female   \n",
            "..      ...       ...                                            ...     ...   \n",
            "315       1         1                       Willard, Miss. Constance  female   \n",
            "317       1         1                Williams, Mr. Richard Norris II    male   \n",
            "319       1         1                      Wilson, Miss. Helen Alice  female   \n",
            "320       1         1                              Woolner, Mr. Hugh    male   \n",
            "322       1         1                       Young, Miss. Marie Grice  female   \n",
            "\n",
            "         age  sibsp  parch    ticket      fare    cabin embarked  boat  body  \\\n",
            "0    29.0000      0      0     24160  211.3375       B5        S     2   0.0   \n",
            "1     0.9167      1      2    113781  151.5500  C22 C26        S    11   0.0   \n",
            "5    48.0000      0      0     19952   26.5500      E12        S     3   0.0   \n",
            "6    63.0000      1      0     13502   77.9583       D7        S    10   0.0   \n",
            "8    53.0000      2      0     11769   51.4792     C101        S     D   0.0   \n",
            "..       ...    ...    ...       ...       ...      ...      ...   ...   ...   \n",
            "315  21.0000      0      0    113795   26.5500        0        S  8 10   0.0   \n",
            "317  21.0000      0      1  PC 17597   61.3792        0        C     A   0.0   \n",
            "319  31.0000      0      0     16966  134.5000  E39 E41        C     3   0.0   \n",
            "320   0.0000      0      0     19947   35.5000      C52        S     D   0.0   \n",
            "322  36.0000      0      0  PC 17760  135.6333      C32        C     8   0.0   \n",
            "\n",
            "                            home.dest  \n",
            "0                        St Louis, MO  \n",
            "1     Montreal, PQ / Chesterville, ON  \n",
            "5                        New York, NY  \n",
            "6                          Hudson, NY  \n",
            "8                 Bayside, Queens, NY  \n",
            "..                                ...  \n",
            "315                        Duluth, MN  \n",
            "317  Geneva, Switzerland / Radnor, PA  \n",
            "319                                 0  \n",
            "320                   London, England  \n",
            "322     New York, NY / Washington, DC  \n",
            "\n",
            "[200 rows x 14 columns]\n"
          ]
        }
      ]
    },
    {
      "cell_type": "code",
      "source": [
        "#Mostrar todos los hombre (sex == 'male') menores de 18 años.\n",
        "\n",
        "print(df_titanic.loc[(df_titanic[\"sex\"] == \"male\") & (df_titanic[\"age\"] < 18)])\n",
        "\n"
      ],
      "metadata": {
        "colab": {
          "base_uri": "https://localhost:8080/"
        },
        "id": "97WVbQFr7pnF",
        "outputId": "4fe1c262-0e84-444e-86c7-f12b084f9060"
      },
      "execution_count": 87,
      "outputs": [
        {
          "output_type": "stream",
          "name": "stdout",
          "text": [
            "      pclass  survived                                           name   sex  \\\n",
            "1          1         1                 Allison, Master. Hudson Trevor  male   \n",
            "15         1         0                            Baumann, Mr. John D  male   \n",
            "37         1         1  Bradley, Mr. George ('George Arthur Brayton')  male   \n",
            "40         1         0                      Brewe, Dr. Arthur Jackson  male   \n",
            "46         1         0                          Cairns, Mr. Alexander  male   \n",
            "...      ...       ...                                            ...   ...   \n",
            "1292       3         0                             Willey, Mr. Edward  male   \n",
            "1293       3         0              Williams, Mr. Howard Hugh 'Harry'  male   \n",
            "1297       3         0                         Wiseman, Mr. Phillippe  male   \n",
            "1302       3         0                              Yousif, Mr. Wazli  male   \n",
            "1303       3         0                          Yousseff, Mr. Gerious  male   \n",
            "\n",
            "         age  sibsp  parch         ticket      fare    cabin embarked boat  \\\n",
            "1     0.9167      1      2         113781  151.5500  C22 C26        S   11   \n",
            "15    0.0000      0      0       PC 17318   25.9250        0        S    0   \n",
            "37    0.0000      0      0         111427   26.5500        0        S    9   \n",
            "40    0.0000      0      0         112379   39.6000        0        C    0   \n",
            "46    0.0000      0      0         113798   31.0000        0        S    0   \n",
            "...      ...    ...    ...            ...       ...      ...      ...  ...   \n",
            "1292  0.0000      0      0  S.O./P.P. 751    7.5500        0        S    0   \n",
            "1293  0.0000      0      0       A/5 2466    8.0500        0        S    0   \n",
            "1297  0.0000      0      0     A/4. 34244    7.2500        0        S    0   \n",
            "1302  0.0000      0      0           2647    7.2250        0        C    0   \n",
            "1303  0.0000      0      0           2627   14.4583        0        C    0   \n",
            "\n",
            "      body                        home.dest  \n",
            "1      0.0  Montreal, PQ / Chesterville, ON  \n",
            "15     0.0                     New York, NY  \n",
            "37     0.0                  Los Angeles, CA  \n",
            "40     0.0                 Philadelphia, PA  \n",
            "46     0.0                                0  \n",
            "...    ...                              ...  \n",
            "1292   0.0                                0  \n",
            "1293   0.0                                0  \n",
            "1297   0.0                                0  \n",
            "1302   0.0                                0  \n",
            "1303   0.0                                0  \n",
            "\n",
            "[267 rows x 14 columns]\n"
          ]
        }
      ]
    },
    {
      "cell_type": "code",
      "source": [
        "#Mostrar los pasajeros que iban acompañados de al menos un familiar, es decir, donde sibsp + parch >= 1\n",
        "\n",
        "print(df_titanic.loc[(df_titanic[\"sibsp\"] >= 1) | (df_titanic[\"parch\"] >= 1)])\n"
      ],
      "metadata": {
        "colab": {
          "base_uri": "https://localhost:8080/"
        },
        "id": "hFG0N3k_8LbO",
        "outputId": "302f6933-2b39-4c4e-9b42-dc652f110062"
      },
      "execution_count": 96,
      "outputs": [
        {
          "output_type": "stream",
          "name": "stdout",
          "text": [
            "      pclass  survived                                             name  \\\n",
            "1          1         1                   Allison, Master. Hudson Trevor   \n",
            "2          1         0                     Allison, Miss. Helen Loraine   \n",
            "3          1         0             Allison, Mr. Hudson Joshua Creighton   \n",
            "4          1         0  Allison, Mrs. Hudson J C (Bessie Waldo Daniels)   \n",
            "6          1         1                Andrews, Miss. Kornelia Theodosia   \n",
            "...      ...       ...                                              ...   \n",
            "1290       3         1                 Wilkes, Mrs. James (Ellen Needs)   \n",
            "1299       3         0                              Yasbeck, Mr. Antoni   \n",
            "1300       3         1          Yasbeck, Mrs. Antoni (Selini Alexander)   \n",
            "1304       3         0                             Zabour, Miss. Hileni   \n",
            "1305       3         0                            Zabour, Miss. Thamine   \n",
            "\n",
            "         sex      age  sibsp  parch  ticket      fare    cabin embarked boat  \\\n",
            "1       male   0.9167      1      2  113781  151.5500  C22 C26        S   11   \n",
            "2     female   2.0000      1      2  113781  151.5500  C22 C26        S    0   \n",
            "3       male  30.0000      1      2  113781  151.5500  C22 C26        S    0   \n",
            "4     female  25.0000      1      2  113781  151.5500  C22 C26        S    0   \n",
            "6     female  63.0000      1      0   13502   77.9583       D7        S   10   \n",
            "...      ...      ...    ...    ...     ...       ...      ...      ...  ...   \n",
            "1290  female  47.0000      1      0  363272    7.0000        0        S    0   \n",
            "1299    male  27.0000      1      0    2659   14.4542        0        C    C   \n",
            "1300  female  15.0000      1      0    2659   14.4542        0        C    0   \n",
            "1304  female  14.5000      1      0    2665   14.4542        0        C    0   \n",
            "1305  female   0.0000      1      0    2665   14.4542        0        C    0   \n",
            "\n",
            "       body                        home.dest  \n",
            "1       0.0  Montreal, PQ / Chesterville, ON  \n",
            "2       0.0  Montreal, PQ / Chesterville, ON  \n",
            "3     135.0  Montreal, PQ / Chesterville, ON  \n",
            "4       0.0  Montreal, PQ / Chesterville, ON  \n",
            "6       0.0                       Hudson, NY  \n",
            "...     ...                              ...  \n",
            "1290    0.0                                0  \n",
            "1299    0.0                                0  \n",
            "1300    0.0                                0  \n",
            "1304  328.0                                0  \n",
            "1305    0.0                                0  \n",
            "\n",
            "[519 rows x 14 columns]\n"
          ]
        }
      ]
    },
    {
      "cell_type": "code",
      "source": [
        "#Mostrar los pasajeros cuya tarifa (fare) fue mayor al promedio de todas las tarifas.\n",
        "\n",
        "\n",
        "print(df_titanic.loc[(df_titanic[\"fare\"] > df_titanic[\"fare\"].mean())])\n",
        "\n"
      ],
      "metadata": {
        "colab": {
          "base_uri": "https://localhost:8080/"
        },
        "id": "4tI6cl6Q8_2v",
        "outputId": "28f457e6-1be3-427f-8931-eaebc03631d5"
      },
      "execution_count": 93,
      "outputs": [
        {
          "output_type": "stream",
          "name": "stdout",
          "text": [
            "      pclass  survived                                             name  \\\n",
            "0          1         1                    Allen, Miss. Elisabeth Walton   \n",
            "1          1         1                   Allison, Master. Hudson Trevor   \n",
            "2          1         0                     Allison, Miss. Helen Loraine   \n",
            "3          1         0             Allison, Mr. Hudson Joshua Creighton   \n",
            "4          1         0  Allison, Mrs. Hudson J C (Bessie Waldo Daniels)   \n",
            "...      ...       ...                                              ...   \n",
            "1176       3         0                         Sage, Mr. Douglas Bullen   \n",
            "1177       3         0                              Sage, Mr. Frederick   \n",
            "1178       3         0                         Sage, Mr. George John Jr   \n",
            "1179       3         0                            Sage, Mr. John George   \n",
            "1180       3         0                   Sage, Mrs. John (Annie Bullen)   \n",
            "\n",
            "         sex      age  sibsp  parch    ticket      fare    cabin embarked  \\\n",
            "0     female  29.0000      0      0     24160  211.3375       B5        S   \n",
            "1       male   0.9167      1      2    113781  151.5500  C22 C26        S   \n",
            "2     female   2.0000      1      2    113781  151.5500  C22 C26        S   \n",
            "3       male  30.0000      1      2    113781  151.5500  C22 C26        S   \n",
            "4     female  25.0000      1      2    113781  151.5500  C22 C26        S   \n",
            "...      ...      ...    ...    ...       ...       ...      ...      ...   \n",
            "1176    male   0.0000      8      2  CA. 2343   69.5500        0        S   \n",
            "1177    male   0.0000      8      2  CA. 2343   69.5500        0        S   \n",
            "1178    male   0.0000      8      2  CA. 2343   69.5500        0        S   \n",
            "1179    male   0.0000      1      9  CA. 2343   69.5500        0        S   \n",
            "1180  female   0.0000      1      9  CA. 2343   69.5500        0        S   \n",
            "\n",
            "     boat   body                        home.dest  \n",
            "0       2    0.0                     St Louis, MO  \n",
            "1      11    0.0  Montreal, PQ / Chesterville, ON  \n",
            "2       0    0.0  Montreal, PQ / Chesterville, ON  \n",
            "3       0  135.0  Montreal, PQ / Chesterville, ON  \n",
            "4       0    0.0  Montreal, PQ / Chesterville, ON  \n",
            "...   ...    ...                              ...  \n",
            "1176    0    0.0                                0  \n",
            "1177    0    0.0                                0  \n",
            "1178    0    0.0                                0  \n",
            "1179    0    0.0                                0  \n",
            "1180    0    0.0                                0  \n",
            "\n",
            "[304 rows x 14 columns]\n"
          ]
        }
      ]
    },
    {
      "cell_type": "code",
      "source": [
        "#Obtener los pasajeros que embarcaron en Cherburgo (embarked == 'C') y pagaron una tarifa mayor a 50.\n",
        "\n",
        "print(df_titanic.loc[(df_titanic[\"embarked\"] == \"C\") & (df_titanic[\"fare\"] > 50)])\n",
        "\n"
      ],
      "metadata": {
        "colab": {
          "base_uri": "https://localhost:8080/"
        },
        "id": "TGhU7Asc9kpp",
        "outputId": "5b42d477-ce64-439d-f9cb-f04e3dafd0b5"
      },
      "execution_count": 94,
      "outputs": [
        {
          "output_type": "stream",
          "name": "stdout",
          "text": [
            "     pclass  survived                                               name  \\\n",
            "10        1         0                             Astor, Col. John Jacob   \n",
            "11        1         1  Astor, Mrs. John Jacob (Madeleine Talmadge Force)   \n",
            "12        1         1                      Aubart, Mme. Leontine Pauline   \n",
            "16        1         0                           Baxter, Mr. Quigg Edmond   \n",
            "17        1         1    Baxter, Mrs. James (Helene DeLaudeniere Chaput)   \n",
            "..      ...       ...                                                ...   \n",
            "314       1         1       Widener, Mrs. George Dunton (Eleanor Elkins)   \n",
            "316       1         0                        Williams, Mr. Charles Duane   \n",
            "317       1         1                    Williams, Mr. Richard Norris II   \n",
            "319       1         1                          Wilson, Miss. Helen Alice   \n",
            "322       1         1                           Young, Miss. Marie Grice   \n",
            "\n",
            "        sex   age  sibsp  parch    ticket      fare    cabin embarked boat  \\\n",
            "10     male  47.0      1      0  PC 17757  227.5250  C62 C64        C    0   \n",
            "11   female  18.0      1      0  PC 17757  227.5250  C62 C64        C    4   \n",
            "12   female  24.0      0      0  PC 17477   69.3000      B35        C    9   \n",
            "16     male  24.0      0      1  PC 17558  247.5208  B58 B60        C    0   \n",
            "17   female  50.0      0      1  PC 17558  247.5208  B58 B60        C    6   \n",
            "..      ...   ...    ...    ...       ...       ...      ...      ...  ...   \n",
            "314  female  50.0      1      1    113503  211.5000      C80        C    4   \n",
            "316    male  51.0      0      1  PC 17597   61.3792        0        C    0   \n",
            "317    male  21.0      0      1  PC 17597   61.3792        0        C    A   \n",
            "319  female  31.0      0      0     16966  134.5000  E39 E41        C    3   \n",
            "322  female  36.0      0      0  PC 17760  135.6333      C32        C    8   \n",
            "\n",
            "      body                         home.dest  \n",
            "10   124.0                      New York, NY  \n",
            "11     0.0                      New York, NY  \n",
            "12     0.0                     Paris, France  \n",
            "16     0.0                      Montreal, PQ  \n",
            "17     0.0                      Montreal, PQ  \n",
            "..     ...                               ...  \n",
            "314    0.0                   Elkins Park, PA  \n",
            "316    0.0  Geneva, Switzerland / Radnor, PA  \n",
            "317    0.0  Geneva, Switzerland / Radnor, PA  \n",
            "319    0.0                                 0  \n",
            "322    0.0     New York, NY / Washington, DC  \n",
            "\n",
            "[104 rows x 14 columns]\n"
          ]
        }
      ]
    }
  ]
}