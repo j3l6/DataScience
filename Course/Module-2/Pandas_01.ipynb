{
  "nbformat": 4,
  "nbformat_minor": 0,
  "metadata": {
    "colab": {
      "provenance": []
    },
    "kernelspec": {
      "name": "python3",
      "display_name": "Python 3"
    },
    "language_info": {
      "name": "python"
    }
  },
  "cells": [
    {
      "cell_type": "markdown",
      "source": [
        "## Pandas"
      ],
      "metadata": {
        "id": "XVTTnVY7myUq"
      }
    },
    {
      "cell_type": "markdown",
      "source": [
        "Pandas es una biblioteca de Python especializada en el manejo y análisis de datos. Su nombre viene de “panel data”, un término usado en estadística y econometría. Es muy utilizada en ciencia de datos, análisis estadístico, finanzas, aprendizaje automático y otras áreas que requieren trabajar con grandes cantidades de información estructurada.\n",
        "\n",
        "Permite:\n",
        "\n",
        "* Leer y escribir datos desde múltiples fuentes (CSV, Excel, SQL, JSON, etc.).\n",
        "\n",
        "* Limpiar y transformar datos fácilmente.\n",
        "\n",
        "* Filtrar, agrupar, ordenar y resumir información.\n",
        "\n",
        "* Realizar operaciones estadísticas, unir tablas, eliminar duplicados, manejar valores nulos y mucho más.\n",
        "\n"
      ],
      "metadata": {
        "id": "X7rhuc8itysu"
      }
    },
    {
      "cell_type": "markdown",
      "source": [
        "Vamos a cargar las librerias de pandas y de numpy para poder trabajar con sus funciones"
      ],
      "metadata": {
        "id": "tmEriDenzV6y"
      }
    },
    {
      "cell_type": "code",
      "execution_count": null,
      "metadata": {
        "id": "dOttHExqmhwM"
      },
      "outputs": [],
      "source": [
        "import pandas as pd\n",
        "import numpy as np"
      ]
    },
    {
      "cell_type": "code",
      "source": [],
      "metadata": {
        "id": "HO44pacU4ofq"
      },
      "execution_count": null,
      "outputs": []
    },
    {
      "cell_type": "markdown",
      "source": [
        "Para poder trabajar con tablas en Pandas tenemos que transformar nuestros datos en Data Frame (Marco de Datos), que básicamente son las tablas.\n",
        "\n",
        "Para crear un data frame en pandas lo podemos hacer de muchas formas:"
      ],
      "metadata": {
        "id": "6OganieswVly"
      }
    },
    {
      "cell_type": "code",
      "source": [
        "# Diccionarios de listas o arrays\n",
        "data = {\"col\":[1,2], \"col2\":[3,4]}\n",
        "df = pd.DataFrame(data)\n",
        "print(df)\n"
      ],
      "metadata": {
        "id": "10xVIJJgw9sZ",
        "colab": {
          "base_uri": "https://localhost:8080/"
        },
        "outputId": "bf8a87db-dabf-47b1-a6f2-4fc77ba13724"
      },
      "execution_count": null,
      "outputs": [
        {
          "output_type": "stream",
          "name": "stdout",
          "text": [
            "   col  col2\n",
            "0    1     3\n",
            "1    2     4\n"
          ]
        }
      ]
    },
    {
      "cell_type": "code",
      "source": [
        "#Lista de diccionarios\n",
        "data = [{\"col1\":1, \"col2\":3},{\"col1\":2,\"col2\":4}]\n",
        "df =pd.DataFrame(data)\n",
        "print(df)\n"
      ],
      "metadata": {
        "id": "CONvH8JCw9p0",
        "colab": {
          "base_uri": "https://localhost:8080/"
        },
        "outputId": "304041f3-3b6f-4a45-ed76-b8205b2467ae"
      },
      "execution_count": null,
      "outputs": [
        {
          "output_type": "stream",
          "name": "stdout",
          "text": [
            "   col1  col2\n",
            "0     1     3\n",
            "1     2     4\n"
          ]
        }
      ]
    },
    {
      "cell_type": "code",
      "source": [
        "#Listas de listas o tuplas\n",
        "data = [[1,2],[3,4]]\n",
        "df = pd.DataFrame(data, columns=[\"col1\",\"col2\"])\n",
        "print(df)\n"
      ],
      "metadata": {
        "id": "UDvxt8ejw9h9",
        "colab": {
          "base_uri": "https://localhost:8080/"
        },
        "outputId": "f803dcf6-c8ae-4dc2-9731-53776e9afbcc"
      },
      "execution_count": null,
      "outputs": [
        {
          "output_type": "stream",
          "name": "stdout",
          "text": [
            "   col1  col2\n",
            "0     1     2\n",
            "1     3     4\n"
          ]
        }
      ]
    },
    {
      "cell_type": "markdown",
      "source": [
        "Vamos a crear un diccionario en el que los valores son listas y luego lo transformamos en un data frame con pandas"
      ],
      "metadata": {
        "id": "N8CR50r5ypjS"
      }
    },
    {
      "cell_type": "code",
      "source": [
        "# crear un diccionario\n",
        "datos = {\n",
        "    'Nombres': ['Luis', 'Andrea', 'Carlos', 'Fernanda'],\n",
        "    'Calificaciones': [85, 92, 78, 95],\n",
        "    'Deportes': ['Voleibol', 'Atletismo', 'Tenis', 'Natación'],\n",
        "    'Materias': ['Álgebra', 'Física', 'Programación', 'Historia']\n",
        "}"
      ],
      "metadata": {
        "id": "8CV9MnI6r1Qd"
      },
      "execution_count": null,
      "outputs": []
    },
    {
      "cell_type": "code",
      "source": [
        "# Transformarlo a DF\n",
        "df = pd.DataFrame(datos)\n",
        "\n",
        "print(df)\n"
      ],
      "metadata": {
        "id": "j2nxV5Brr1N4",
        "colab": {
          "base_uri": "https://localhost:8080/"
        },
        "outputId": "71a701e2-92d0-4263-ada8-90a265e7b81b"
      },
      "execution_count": null,
      "outputs": [
        {
          "output_type": "stream",
          "name": "stdout",
          "text": [
            "    Nombres  Calificaciones   Deportes      Materias\n",
            "0      Luis              85   Voleibol       Álgebra\n",
            "1    Andrea              92  Atletismo        Física\n",
            "2    Carlos              78      Tenis  Programación\n",
            "3  Fernanda              95   Natación      Historia\n"
          ]
        }
      ]
    },
    {
      "cell_type": "markdown",
      "source": [
        "Datos no validos, datos faltantes en los data frame"
      ],
      "metadata": {
        "id": "r59tGjhw0X0P"
      }
    },
    {
      "cell_type": "code",
      "source": [
        "datos2 = {\n",
        "    'Nombres': ['Diego', 'Luisa', 'Jorge', 'N/A'],\n",
        "    'Calificaciónes': ['95', '88', np.nan, '76'],\n",
        "    'Deportes': ['Escalada', 'Ciclismo', 'N/A', 'Ping pong'],\n",
        "    'Materias': ['Biología', 'Literatura', 'N/A', 'Arte']\n",
        "}\n",
        "\n",
        "df2 = pd.DataFrame(datos2)\n",
        "\n",
        "print(df2)"
      ],
      "metadata": {
        "colab": {
          "base_uri": "https://localhost:8080/"
        },
        "id": "kGkvynh3r1K1",
        "outputId": "90534db5-a436-45f9-fbd2-8ad2f3366d65"
      },
      "execution_count": null,
      "outputs": [
        {
          "output_type": "stream",
          "name": "stdout",
          "text": [
            "  Nombres Calificaciónes   Deportes    Materias\n",
            "0   Diego             95   Escalada    Biología\n",
            "1   Luisa             88   Ciclismo  Literatura\n",
            "2   Jorge            NaN        N/A         N/A\n",
            "3     N/A             76  Ping pong        Arte\n"
          ]
        }
      ]
    },
    {
      "cell_type": "markdown",
      "source": [
        "Podemos Encontrar la informacion y la descripcion de nuestos datos con los metodos info y describe, es muy util cuando tenemos datos muy grandes"
      ],
      "metadata": {
        "id": "3Hx3siUc1ZkK"
      }
    },
    {
      "cell_type": "code",
      "source": [
        "print(df2.info())\n",
        "print(\"\\n\")\n",
        "print(df2.describe())"
      ],
      "metadata": {
        "id": "Ccr0vsUSr1H5",
        "colab": {
          "base_uri": "https://localhost:8080/"
        },
        "outputId": "2c527a72-81bb-49b9-a958-d1df75919179"
      },
      "execution_count": null,
      "outputs": [
        {
          "output_type": "stream",
          "name": "stdout",
          "text": [
            "<class 'pandas.core.frame.DataFrame'>\n",
            "RangeIndex: 4 entries, 0 to 3\n",
            "Data columns (total 4 columns):\n",
            " #   Column          Non-Null Count  Dtype \n",
            "---  ------          --------------  ----- \n",
            " 0   Nombres         4 non-null      object\n",
            " 1   Calificaciónes  3 non-null      object\n",
            " 2   Deportes        4 non-null      object\n",
            " 3   Materias        4 non-null      object\n",
            "dtypes: object(4)\n",
            "memory usage: 260.0+ bytes\n",
            "None\n",
            "\n",
            "\n",
            "       Nombres Calificaciónes  Deportes  Materias\n",
            "count        4              3         4         4\n",
            "unique       4              3         4         4\n",
            "top      Diego             95  Escalada  Biología\n",
            "freq         1              1         1         1\n"
          ]
        }
      ]
    },
    {
      "cell_type": "markdown",
      "source": [
        "Remmplazar valores"
      ],
      "metadata": {
        "id": "nHG0tcqR1ykB"
      }
    },
    {
      "cell_type": "code",
      "source": [
        "nuevo = pd.DataFrame(df2)\n",
        "nuevo = nuevo.replace(np.nan, \"0\")\n",
        "print(nuevo)"
      ],
      "metadata": {
        "id": "Bg300kwfr1DU",
        "colab": {
          "base_uri": "https://localhost:8080/"
        },
        "outputId": "31fa348a-4484-4269-9c4b-9d0b89f04e9b"
      },
      "execution_count": null,
      "outputs": [
        {
          "output_type": "stream",
          "name": "stdout",
          "text": [
            "  Nombres Calificaciónes   Deportes    Materias\n",
            "0   Diego             95   Escalada    Biología\n",
            "1   Luisa             88   Ciclismo  Literatura\n",
            "2   Jorge              0        N/A         N/A\n",
            "3     N/A             76  Ping pong        Arte\n"
          ]
        }
      ]
    },
    {
      "cell_type": "code",
      "source": [
        "#Los describimos\n",
        "print(nuevo.describe())\n",
        "\n",
        "\n"
      ],
      "metadata": {
        "id": "lPZyJbEF2WrK",
        "colab": {
          "base_uri": "https://localhost:8080/"
        },
        "outputId": "0df6c9da-73e9-406f-b606-b81f77aff6bd"
      },
      "execution_count": null,
      "outputs": [
        {
          "output_type": "stream",
          "name": "stdout",
          "text": [
            "       Nombres Calificaciónes  Deportes  Materias\n",
            "count        4              4         4         4\n",
            "unique       4              4         4         4\n",
            "top      Diego             95  Escalada  Biología\n",
            "freq         1              1         1         1\n"
          ]
        }
      ]
    },
    {
      "cell_type": "code",
      "source": [
        "print(nuevo.info())"
      ],
      "metadata": {
        "colab": {
          "base_uri": "https://localhost:8080/"
        },
        "id": "g2Ztg1nORx8c",
        "outputId": "9f194c78-9092-4016-d91e-52e16d8717c6"
      },
      "execution_count": null,
      "outputs": [
        {
          "output_type": "stream",
          "name": "stdout",
          "text": [
            "<class 'pandas.core.frame.DataFrame'>\n",
            "RangeIndex: 4 entries, 0 to 3\n",
            "Data columns (total 4 columns):\n",
            " #   Column          Non-Null Count  Dtype \n",
            "---  ------          --------------  ----- \n",
            " 0   Nombres         4 non-null      object\n",
            " 1   Calificaciónes  4 non-null      object\n",
            " 2   Deportes        4 non-null      object\n",
            " 3   Materias        4 non-null      object\n",
            "dtypes: object(4)\n",
            "memory usage: 260.0+ bytes\n",
            "None\n"
          ]
        }
      ]
    },
    {
      "cell_type": "markdown",
      "source": [
        "Eliminar los registros con valores faltantes"
      ],
      "metadata": {
        "id": "WhPD2dWq3_Dt"
      }
    },
    {
      "cell_type": "code",
      "source": [
        "nuevo2 = pd.DataFrame(df2)\n",
        "nuevo2.dropna(how=\"any\", inplace=True)\n",
        "print(nuevo2)\n",
        "print(\"\\n\")\n",
        "print(df2)"
      ],
      "metadata": {
        "id": "n6tqV3qJr1AJ",
        "colab": {
          "base_uri": "https://localhost:8080/"
        },
        "outputId": "b17a8ff4-daa0-4630-fd4e-700e93bad4c4"
      },
      "execution_count": null,
      "outputs": [
        {
          "output_type": "stream",
          "name": "stdout",
          "text": [
            "  Nombres Calificaciónes   Deportes    Materias\n",
            "0   Diego             95   Escalada    Biología\n",
            "1   Luisa             88   Ciclismo  Literatura\n",
            "3     N/A             76  Ping pong        Arte\n",
            "\n",
            "\n",
            "  Nombres Calificaciónes   Deportes    Materias\n",
            "0   Diego             95   Escalada    Biología\n",
            "1   Luisa             88   Ciclismo  Literatura\n",
            "2   Jorge            NaN        N/A         N/A\n",
            "3     N/A             76  Ping pong        Arte\n"
          ]
        }
      ]
    },
    {
      "cell_type": "markdown",
      "source": [
        "Eliminar regristro buscando por columna"
      ],
      "metadata": {
        "id": "zh1f19xx4Rl8"
      }
    },
    {
      "cell_type": "code",
      "source": [
        "columna = df2[df2[\"Nombres\"] != \"N/A\"]\n",
        "print(columna)\n",
        "print(\"\\n\")\n",
        "print(df2)\n"
      ],
      "metadata": {
        "id": "K7_-3NHgr09l",
        "colab": {
          "base_uri": "https://localhost:8080/"
        },
        "outputId": "9e5e3850-5fba-47ed-cdae-0a4cc2dcc8db"
      },
      "execution_count": null,
      "outputs": [
        {
          "output_type": "stream",
          "name": "stdout",
          "text": [
            "  Nombres Calificaciónes  Deportes    Materias\n",
            "0   Diego             95  Escalada    Biología\n",
            "1   Luisa             88  Ciclismo  Literatura\n",
            "2   Jorge            NaN       N/A         N/A\n",
            "\n",
            "\n",
            "  Nombres Calificaciónes   Deportes    Materias\n",
            "0   Diego             95   Escalada    Biología\n",
            "1   Luisa             88   Ciclismo  Literatura\n",
            "2   Jorge            NaN        N/A         N/A\n",
            "3     N/A             76  Ping pong        Arte\n"
          ]
        }
      ]
    },
    {
      "cell_type": "markdown",
      "source": [
        "Cambiar los valores NAN con el valor 0 (fillna)"
      ],
      "metadata": {
        "id": "Gz-9968N49KL"
      }
    },
    {
      "cell_type": "code",
      "source": [
        "nuevo3 = pd.DataFrame(df2)\n",
        "nuevo3.fillna(0, inplace=True)\n",
        "print(nuevo3)"
      ],
      "metadata": {
        "id": "wem5_i1ktUd-",
        "colab": {
          "base_uri": "https://localhost:8080/"
        },
        "outputId": "b9e2eef8-85ce-4aa2-dadb-7fc602c5c5ec"
      },
      "execution_count": null,
      "outputs": [
        {
          "output_type": "stream",
          "name": "stdout",
          "text": [
            "  Nombres Calificaciónes   Deportes    Materias\n",
            "0   Diego             95   Escalada    Biología\n",
            "1   Luisa             88   Ciclismo  Literatura\n",
            "2   Jorge              0        N/A         N/A\n",
            "3     N/A             76  Ping pong        Arte\n"
          ]
        }
      ]
    },
    {
      "cell_type": "code",
      "source": [
        "print(nuevo3.describe())"
      ],
      "metadata": {
        "id": "KTITmSIhtUbE",
        "colab": {
          "base_uri": "https://localhost:8080/"
        },
        "outputId": "d41ed2a1-922d-42c2-f08e-eec2fe4e53e3"
      },
      "execution_count": null,
      "outputs": [
        {
          "output_type": "stream",
          "name": "stdout",
          "text": [
            "       Nombres Calificaciónes  Deportes  Materias\n",
            "count        4              4         4         4\n",
            "unique       4              4         4         4\n",
            "top      Diego             95  Escalada  Biología\n",
            "freq         1              1         1         1\n"
          ]
        }
      ]
    },
    {
      "cell_type": "markdown",
      "source": [
        "Transformamos en numeros enteros la columna calificaciones, una ves que los datos son numeros, cuando llamamos el metodo describe nos hace las estadisticas básicas"
      ],
      "metadata": {
        "id": "bk72OIJJ5UvQ"
      }
    },
    {
      "cell_type": "code",
      "source": [
        "nuevo2['Calificaciónes'] = nuevo2.Calificaciónes.astype(int)\n",
        "print(nuevo2.describe())"
      ],
      "metadata": {
        "id": "MXkTJnuLtUYP",
        "colab": {
          "base_uri": "https://localhost:8080/"
        },
        "outputId": "7a789aa5-3d16-4e9b-99c4-9fadd020ef5f"
      },
      "execution_count": null,
      "outputs": [
        {
          "output_type": "stream",
          "name": "stdout",
          "text": [
            "       Calificaciónes\n",
            "count        3.000000\n",
            "mean        86.333333\n",
            "std          9.609024\n",
            "min         76.000000\n",
            "25%         82.000000\n",
            "50%         88.000000\n",
            "75%         91.500000\n",
            "max         95.000000\n"
          ]
        }
      ]
    },
    {
      "cell_type": "markdown",
      "source": [
        "## Ejercicio\n",
        "\n",
        "Crea un DataFrame en Pandas que contenga la información de calificaciones de cuatro estudiantes en tres materias: Matemáticas, Historia e Inglés. Asegúrate de que algunas calificaciones estén ausentes (NaN).\n",
        "\n",
        "Luego, realiza las siguientes tareas:\n",
        "\n",
        "* Crea un nuevo DataFrame eliminando todas las filas que contengan valores faltantes.\n",
        "\n",
        "* Crea otro DataFrame en el que todos los valores faltantes sean reemplazados por 0.\n",
        "\n",
        "* Muestra la descripción estadística (.describe()) de ambos DataFrames para comparar los cambios."
      ],
      "metadata": {
        "id": "_j42MptgT2t2"
      }
    },
    {
      "cell_type": "code",
      "source": [
        "califiaciones = {\n",
        "\n",
        "      'Nombres': ['Diego Ruiz', 'Luisa Ortiz', 'Jorge Macias', 'Adolfo Lopez'],\n",
        "       \"Matematicas\" : [5,9,8,7],\n",
        "      \"Historia\" : [7,6,np.nan,7],\n",
        "      \"Inglés\" : [8,np.nan,8,7]\n",
        "\n",
        "}\n",
        "\n",
        "df8 = pd.DataFrame(califiaciones)\n",
        "print(df8)\n",
        "print(\"\\n\")\n",
        "nuevo8 = pd.DataFrame(df8)\n",
        "nuevo8.dropna(how=\"any\", inplace=True)\n",
        "print(nuevo8)\n",
        "print(\"\\n\")\n",
        "nuevo9 = pd.DataFrame(df8)\n",
        "nuevo9.fillna(0, inplace=True)\n",
        "print(nuevo9)\n",
        "print(\"\\n\")\n",
        "print(df8.describe())\n",
        "print(nuevo8.describe())\n",
        "print(nuevo9.describe())"
      ],
      "metadata": {
        "id": "CTLQf6BkV4q1",
        "colab": {
          "base_uri": "https://localhost:8080/"
        },
        "outputId": "c03c55e8-c72c-4814-d844-77636fd2b679"
      },
      "execution_count": null,
      "outputs": [
        {
          "output_type": "stream",
          "name": "stdout",
          "text": [
            "        Nombres  Matematicas  Historia  Inglés\n",
            "0    Diego Ruiz            5       7.0     8.0\n",
            "1   Luisa Ortiz            9       6.0     NaN\n",
            "2  Jorge Macias            8       NaN     8.0\n",
            "3  Adolfo Lopez            7       7.0     7.0\n",
            "\n",
            "\n",
            "        Nombres  Matematicas  Historia  Inglés\n",
            "0    Diego Ruiz            5       7.0     8.0\n",
            "3  Adolfo Lopez            7       7.0     7.0\n",
            "\n",
            "\n",
            "        Nombres  Matematicas  Historia  Inglés\n",
            "0    Diego Ruiz            5       7.0     8.0\n",
            "1   Luisa Ortiz            9       6.0     0.0\n",
            "2  Jorge Macias            8       0.0     8.0\n",
            "3  Adolfo Lopez            7       7.0     7.0\n",
            "\n",
            "\n",
            "       Matematicas  Historia   Inglés\n",
            "count     4.000000  4.000000  4.00000\n",
            "mean      7.250000  5.000000  5.75000\n",
            "std       1.707825  3.366502  3.86221\n",
            "min       5.000000  0.000000  0.00000\n",
            "25%       6.500000  4.500000  5.25000\n",
            "50%       7.500000  6.500000  7.50000\n",
            "75%       8.250000  7.000000  8.00000\n",
            "max       9.000000  7.000000  8.00000\n",
            "       Matematicas  Historia    Inglés\n",
            "count     2.000000       2.0  2.000000\n",
            "mean      6.000000       7.0  7.500000\n",
            "std       1.414214       0.0  0.707107\n",
            "min       5.000000       7.0  7.000000\n",
            "25%       5.500000       7.0  7.250000\n",
            "50%       6.000000       7.0  7.500000\n",
            "75%       6.500000       7.0  7.750000\n",
            "max       7.000000       7.0  8.000000\n",
            "       Matematicas  Historia   Inglés\n",
            "count     4.000000  4.000000  4.00000\n",
            "mean      7.250000  5.000000  5.75000\n",
            "std       1.707825  3.366502  3.86221\n",
            "min       5.000000  0.000000  0.00000\n",
            "25%       6.500000  4.500000  5.25000\n",
            "50%       7.500000  6.500000  7.50000\n",
            "75%       8.250000  7.000000  8.00000\n",
            "max       9.000000  7.000000  8.00000\n"
          ]
        }
      ]
    },
    {
      "cell_type": "markdown",
      "source": [
        "## Ejercicio 2\n",
        "\n",
        "Crea un DataFrame que represente un inventario de una tienda. Debe contener al menos cuatro productos y columnas para el nombre del producto, precio y número de unidades en stock. Incluye algunos valores faltantes (NaN) en las columnas de precio y stock.\n",
        "\n",
        "Luego:\n",
        "\n",
        "* Crea un DataFrame eliminando todas las filas con valores faltantes.\n",
        "\n",
        "* Crea otro DataFrame en el que:\n",
        "\n",
        "* Los valores faltantes en la columna Precio se reemplacen con el promedio de los precios existentes.\n",
        "\n",
        "* Los valores faltantes en la columna Stock se reemplacen con 0.\n",
        "\n",
        "* Muestra la descripción estadística de ambos DataFrames para analizar los cambios."
      ],
      "metadata": {
        "id": "ST9n7dX0V-DW"
      }
    },
    {
      "cell_type": "code",
      "source": [
        "inventario = {\n",
        "\n",
        "      'Nombre Producto': ['Pasta Colgate', 'Desodorante Axe', 'Gel Moco de Gorila', 'Crema Nivea'],\n",
        "       \"Precio\" : [28,np.nan,18,41],\n",
        "      \"Unidades\" : [8,48,4,np.nan]\n",
        "\n",
        "}\n",
        "\n",
        "df10 = pd.DataFrame(inventario)\n",
        "print(df10)\n",
        "print(\"\\n\")\n",
        "nuevo11 = pd.DataFrame(df10)\n",
        "nuevo11.dropna(how=\"any\", inplace=True)\n",
        "print(nuevo11)\n",
        "print(\"\\n\")\n",
        "nuevo12 = pd.DataFrame(df10)\n",
        "nuevo12[\"Precio\"].fillna(nuevo12[\"Precio\"].mean(), inplace=True)\n",
        "nuevo12[\"Unidades\"].fillna(0, inplace=True)\n",
        "print(nuevo12)\n",
        "print(\"\\n\")\n",
        "\n",
        "print(df10.describe())\n",
        "print(\"\\n\")\n",
        "print(nuevo12.describe())\n",
        "print(\"\\n\")\n",
        "#print(nuevo12.describe().loc[\"mean\", \"Precio\"]) acceder al valor mean en la descripcion\n",
        "\n"
      ],
      "metadata": {
        "id": "RYns-6mMWGYA",
        "colab": {
          "base_uri": "https://localhost:8080/"
        },
        "outputId": "6bc47140-7a75-47d8-ff1f-2fff0e491ddd"
      },
      "execution_count": null,
      "outputs": [
        {
          "output_type": "stream",
          "name": "stdout",
          "text": [
            "      Nombre Producto  Precio  Unidades\n",
            "0       Pasta Colgate    28.0       8.0\n",
            "1     Desodorante Axe     NaN      48.0\n",
            "2  Gel Moco de Gorila    18.0       4.0\n",
            "3         Crema Nivea    41.0       NaN\n",
            "\n",
            "\n",
            "      Nombre Producto  Precio  Unidades\n",
            "0       Pasta Colgate    28.0       8.0\n",
            "2  Gel Moco de Gorila    18.0       4.0\n",
            "\n",
            "\n",
            "      Nombre Producto  Precio  Unidades\n",
            "0       Pasta Colgate    28.0       8.0\n",
            "1     Desodorante Axe    29.0      48.0\n",
            "2  Gel Moco de Gorila    18.0       4.0\n",
            "3         Crema Nivea    41.0       0.0\n",
            "\n",
            "\n",
            "          Precio   Unidades\n",
            "count   4.000000   4.000000\n",
            "mean   29.000000  15.000000\n",
            "std     9.416298  22.241103\n",
            "min    18.000000   0.000000\n",
            "25%    25.500000   3.000000\n",
            "50%    28.500000   6.000000\n",
            "75%    32.000000  18.000000\n",
            "max    41.000000  48.000000\n",
            "\n",
            "\n",
            "          Precio   Unidades\n",
            "count   4.000000   4.000000\n",
            "mean   29.000000  15.000000\n",
            "std     9.416298  22.241103\n",
            "min    18.000000   0.000000\n",
            "25%    25.500000   3.000000\n",
            "50%    28.500000   6.000000\n",
            "75%    32.000000  18.000000\n",
            "max    41.000000  48.000000\n",
            "\n",
            "\n",
            "29.0\n"
          ]
        },
        {
          "output_type": "stream",
          "name": "stderr",
          "text": [
            "<ipython-input-92-301342d5dc5f>:17: FutureWarning: A value is trying to be set on a copy of a DataFrame or Series through chained assignment using an inplace method.\n",
            "The behavior will change in pandas 3.0. This inplace method will never work because the intermediate object on which we are setting values always behaves as a copy.\n",
            "\n",
            "For example, when doing 'df[col].method(value, inplace=True)', try using 'df.method({col: value}, inplace=True)' or df[col] = df[col].method(value) instead, to perform the operation inplace on the original object.\n",
            "\n",
            "\n",
            "  nuevo12[\"Precio\"].fillna(nuevo12[\"Precio\"].mean(), inplace=True)\n",
            "<ipython-input-92-301342d5dc5f>:18: FutureWarning: A value is trying to be set on a copy of a DataFrame or Series through chained assignment using an inplace method.\n",
            "The behavior will change in pandas 3.0. This inplace method will never work because the intermediate object on which we are setting values always behaves as a copy.\n",
            "\n",
            "For example, when doing 'df[col].method(value, inplace=True)', try using 'df.method({col: value}, inplace=True)' or df[col] = df[col].method(value) instead, to perform the operation inplace on the original object.\n",
            "\n",
            "\n",
            "  nuevo12[\"Unidades\"].fillna(0, inplace=True)\n"
          ]
        }
      ]
    }
  ]
}
