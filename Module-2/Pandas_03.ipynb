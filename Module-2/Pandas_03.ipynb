{
  "nbformat": 4,
  "nbformat_minor": 0,
  "metadata": {
    "colab": {
      "provenance": []
    },
    "kernelspec": {
      "name": "python3",
      "display_name": "Python 3"
    },
    "language_info": {
      "name": "python"
    }
  },
  "cells": [
    {
      "cell_type": "markdown",
      "source": [
        "## Cargar los datos"
      ],
      "metadata": {
        "id": "5QmkEhSd8iyA"
      }
    },
    {
      "cell_type": "code",
      "execution_count": null,
      "metadata": {
        "id": "DclwubuVwmKh"
      },
      "outputs": [],
      "source": [
        "# Importar las librerias de pandas y numpy\n",
        "\n",
        "import pandas as pd\n",
        "import numpy as np"
      ]
    },
    {
      "cell_type": "code",
      "source": [
        "from google.colab import drive\n",
        "drive.mount('/content/drive')"
      ],
      "metadata": {
        "id": "im87L5cKmTlI",
        "outputId": "06e45408-db99-47b7-d087-af6f16420f2a",
        "colab": {
          "base_uri": "https://localhost:8080/"
        }
      },
      "execution_count": null,
      "outputs": [
        {
          "output_type": "stream",
          "name": "stdout",
          "text": [
            "Mounted at /content/drive\n"
          ]
        }
      ]
    },
    {
      "cell_type": "code",
      "source": [
        "# Cargamos los datos\n",
        "\n",
        "datos = pd.read_csv('/content/drive/MyDrive/CIENCIA DE DATOS/2DO MODULO/1ER SEMANA/ATP.csv')\n",
        "print(datos)"
      ],
      "metadata": {
        "id": "hyrEE-IMzppA",
        "outputId": "04041a28-83d9-4af4-f798-be198bd8a381",
        "colab": {
          "base_uri": "https://localhost:8080/"
        }
      },
      "execution_count": null,
      "outputs": [
        {
          "output_type": "stream",
          "name": "stdout",
          "text": [
            "       ATP        Location                          Tournament        Date  \\\n",
            "0        1        Adelaide  Australian Hardcourt Championships   3/01/2000   \n",
            "1        1        Adelaide  Australian Hardcourt Championships   3/01/2000   \n",
            "2        1        Adelaide  Australian Hardcourt Championships   3/01/2000   \n",
            "3        1        Adelaide  Australian Hardcourt Championships   3/01/2000   \n",
            "4        1        Adelaide  Australian Hardcourt Championships   3/01/2000   \n",
            "...    ...             ...                                 ...         ...   \n",
            "46647   54  St. Petersburg                 St. Petersburg Open  23/09/2016   \n",
            "46648   54  St. Petersburg                 St. Petersburg Open  23/09/2016   \n",
            "46649   54  St. Petersburg                 St. Petersburg Open  24/09/2016   \n",
            "46650   54  St. Petersburg                 St. Petersburg Open  24/09/2016   \n",
            "46651   54  St. Petersburg                 St. Petersburg Open  25/09/2016   \n",
            "\n",
            "              Series    Court Surface          Round  Best of       Winner  \\\n",
            "0      International  Outdoor    Hard      1st Round        3   Dosedel S.   \n",
            "1      International  Outdoor    Hard      1st Round        3   Enqvist T.   \n",
            "2      International  Outdoor    Hard      1st Round        3    Escude N.   \n",
            "3      International  Outdoor    Hard      1st Round        3   Federer R.   \n",
            "4      International  Outdoor    Hard      1st Round        3  Fromberg R.   \n",
            "...              ...      ...     ...            ...      ...          ...   \n",
            "46647         ATP250   Indoor    Hard  Quarterfinals        3    Zverev A.   \n",
            "46648         ATP250   Indoor    Hard  Quarterfinals        3  Wawrinka S.   \n",
            "46649         ATP250   Indoor    Hard     Semifinals        3    Zverev A.   \n",
            "46650         ATP250   Indoor    Hard     Semifinals        3  Wawrinka S.   \n",
            "46651         ATP250   Indoor    Hard      The Final        3    Zverev A.   \n",
            "\n",
            "       ... UBW UBL   LBW   LBL  SJW  SJL  MaxW  MaxL  AvgW  AvgL  \n",
            "0      ... NaN NaN   NaN   NaN  NaN  NaN   NaN   NaN   NaN   NaN  \n",
            "1      ... NaN NaN   NaN   NaN  NaN  NaN   NaN   NaN   NaN   NaN  \n",
            "2      ... NaN NaN   NaN   NaN  NaN  NaN   NaN   NaN   NaN   NaN  \n",
            "3      ... NaN NaN   NaN   NaN  NaN  NaN   NaN   NaN   NaN   NaN  \n",
            "4      ... NaN NaN   NaN   NaN  NaN  NaN   NaN   NaN   NaN   NaN  \n",
            "...    ...  ..  ..   ...   ...  ...  ...   ...   ...   ...   ...  \n",
            "46647  ... NaN NaN  1.57  2.38  NaN  NaN  1.66  2.45  1.60  2.30  \n",
            "46648  ... NaN NaN  1.22  4.33  NaN  NaN  1.24  4.91  1.21  4.34  \n",
            "46649  ... NaN NaN  2.38  1.57  NaN  NaN  3.12  1.57  2.68  1.46  \n",
            "46650  ... NaN NaN  1.33  3.40  NaN  NaN  1.41  3.80  1.31  3.40  \n",
            "46651  ... NaN NaN  3.30  1.33  NaN  NaN  3.58  1.36  3.36  1.31  \n",
            "\n",
            "[46652 rows x 54 columns]\n"
          ]
        },
        {
          "output_type": "stream",
          "name": "stderr",
          "text": [
            "<ipython-input-8-7b36e52a7248>:3: DtypeWarning: Columns (11,12) have mixed types. Specify dtype option on import or set low_memory=False.\n",
            "  datos = pd.read_csv('/content/drive/MyDrive/CIENCIA DE DATOS/2DO MODULO/1ER SEMANA/ATP.csv')\n"
          ]
        }
      ]
    },
    {
      "cell_type": "markdown",
      "source": [
        "## Selección con loc"
      ],
      "metadata": {
        "id": "ut87JDy60VSo"
      }
    },
    {
      "cell_type": "markdown",
      "source": [
        "loc no permite seleccionar filas y columnas por una etiqueta o nombre, no por su posición numérica\n",
        "\n",
        "Entonces vamos a fijar un indice en nuestros datos, en este caso el indice lo vamos a fijar sobre la columna Location de nuestros datos"
      ],
      "metadata": {
        "id": "6sc4DLOm0vtP"
      }
    },
    {
      "cell_type": "code",
      "source": [
        "datos.set_index(\"Location\",inplace=True)"
      ],
      "metadata": {
        "id": "oJs_Na9_8F3p"
      },
      "execution_count": null,
      "outputs": []
    },
    {
      "cell_type": "code",
      "source": [
        "# Si no recordamos que categoria asignamos como indice podemos utilizar\n",
        "datos.index.name\n"
      ],
      "metadata": {
        "id": "vpsaYCGVdBDv",
        "outputId": "947c9ab1-39f3-418a-d7db-f4bb156fc7b6",
        "colab": {
          "base_uri": "https://localhost:8080/",
          "height": 35
        }
      },
      "execution_count": null,
      "outputs": [
        {
          "output_type": "execute_result",
          "data": {
            "text/plain": [
              "'Location'"
            ],
            "application/vnd.google.colaboratory.intrinsic+json": {
              "type": "string"
            }
          },
          "metadata": {},
          "execution_count": 31
        }
      ]
    },
    {
      "cell_type": "code",
      "source": [
        "# Observar los índices que asignamos\n",
        "datos.index.unique()\n"
      ],
      "metadata": {
        "id": "CYRLF39cYTPb",
        "outputId": "eb6a4544-b3be-4c1b-a717-b12c53ee22f4",
        "colab": {
          "base_uri": "https://localhost:8080/"
        }
      },
      "execution_count": null,
      "outputs": [
        {
          "output_type": "execute_result",
          "data": {
            "text/plain": [
              "Index(['Adelaide', 'Chennai', 'Doha', 'Auckland', 'Sydney', 'Melbourne',\n",
              "       'Dubai', 'Marseille', 'San Jose', 'Memphis',\n",
              "       ...\n",
              "       'Oeiras', 'Dusseldorf', 'Rio de Janeiro', 'Shenzhen ', 'Quito',\n",
              "       'Istanbul', 'Geneva', 'Sofia', 'Marrakech', 'Los Cabos'],\n",
              "      dtype='object', name='Location', length=111)"
            ]
          },
          "metadata": {},
          "execution_count": 32
        }
      ]
    },
    {
      "cell_type": "code",
      "source": [
        "# Imprimimos todos los registros que tengan la localizacion Melbourne\n",
        "\n",
        "print(datos.loc[\"Melbourne\"])\n"
      ],
      "metadata": {
        "id": "KfrX5Ttx0xgl",
        "outputId": "895b5673-d1e9-4f4b-ce73-0bf9271dedc8",
        "colab": {
          "base_uri": "https://localhost:8080/"
        }
      },
      "execution_count": null,
      "outputs": [
        {
          "output_type": "stream",
          "name": "stdout",
          "text": [
            "           ATP       Tournament        Date      Series    Court Surface  \\\n",
            "Location                                                                   \n",
            "Melbourne    6  Australian Open  17/01/2000  Grand Slam  Outdoor    Hard   \n",
            "Melbourne    6  Australian Open  17/01/2000  Grand Slam  Outdoor    Hard   \n",
            "Melbourne    6  Australian Open  17/01/2000  Grand Slam  Outdoor    Hard   \n",
            "Melbourne    6  Australian Open  17/01/2000  Grand Slam  Outdoor    Hard   \n",
            "Melbourne    6  Australian Open  17/01/2000  Grand Slam  Outdoor    Hard   \n",
            "...        ...              ...         ...         ...      ...     ...   \n",
            "Melbourne    6  Australian Open  27/01/2016  Grand Slam  Outdoor    Hard   \n",
            "Melbourne    6  Australian Open  27/01/2016  Grand Slam  Outdoor    Hard   \n",
            "Melbourne    6  Australian Open  28/01/2016  Grand Slam  Outdoor    Hard   \n",
            "Melbourne    6  Australian Open  29/01/2016  Grand Slam  Outdoor    Hard   \n",
            "Melbourne    6  Australian Open  31/01/2016  Grand Slam  Outdoor    Hard   \n",
            "\n",
            "                   Round  Best of       Winner           Loser  ... UBW UBL  \\\n",
            "Location                                                        ...           \n",
            "Melbourne      1st Round        5    Agassi A.       Puerta M.  ... NaN NaN   \n",
            "Melbourne      1st Round        5     Alami K.        Manta L.  ... NaN NaN   \n",
            "Melbourne      1st Round        5     Arazi H.       Alonso J.  ... NaN NaN   \n",
            "Melbourne      1st Round        5   Behrend T.     Meligeni F.  ... NaN NaN   \n",
            "Melbourne      1st Round        5  Bjorkman J.  Stoltenberg J.  ... NaN NaN   \n",
            "...                  ...      ...          ...             ...  ...  ..  ..   \n",
            "Melbourne  Quarterfinals        5    Murray A.       Ferrer D.  ... NaN NaN   \n",
            "Melbourne  Quarterfinals        5    Raonic M.      Monfils G.  ... NaN NaN   \n",
            "Melbourne     Semifinals        5  Djokovic N.      Federer R.  ... NaN NaN   \n",
            "Melbourne     Semifinals        5    Murray A.       Raonic M.  ... NaN NaN   \n",
            "Melbourne      The Final        5  Djokovic N.       Murray A.  ... NaN NaN   \n",
            "\n",
            "            LBW   LBL  SJW  SJL  MaxW  MaxL  AvgW  AvgL  \n",
            "Location                                                 \n",
            "Melbourne   NaN   NaN  NaN  NaN   NaN   NaN   NaN   NaN  \n",
            "Melbourne   NaN   NaN  NaN  NaN   NaN   NaN   NaN   NaN  \n",
            "Melbourne   NaN   NaN  NaN  NaN   NaN   NaN   NaN   NaN  \n",
            "Melbourne   NaN   NaN  NaN  NaN   NaN   NaN   NaN   NaN  \n",
            "Melbourne   NaN   NaN  NaN  NaN   NaN   NaN   NaN   NaN  \n",
            "...         ...   ...  ...  ...   ...   ...   ...   ...  \n",
            "Melbourne  1.17  5.00  NaN  NaN  1.23  5.75  1.18  4.92  \n",
            "Melbourne  1.36  3.25  NaN  NaN  1.39  3.50  1.35  3.22  \n",
            "Melbourne  1.30  3.50  NaN  NaN  1.40  3.75  1.32  3.41  \n",
            "Melbourne  1.33  3.40  NaN  NaN  1.41  3.50  1.36  3.19  \n",
            "Melbourne  1.20  5.00  NaN  NaN  1.22  5.50  1.19  4.92  \n",
            "\n",
            "[2159 rows x 53 columns]\n"
          ]
        }
      ]
    },
    {
      "cell_type": "code",
      "source": [
        "#Ahora imprimimos los registros que tengan la localizacion Atlanta y solamente la columna de superficie\n",
        "print(datos.loc[\"Atlanta\",\"Surface\"])"
      ],
      "metadata": {
        "id": "a9SvKiIh64ZD",
        "outputId": "a3af6140-45aa-4eb4-f5cb-5ce238c03ec9",
        "colab": {
          "base_uri": "https://localhost:8080/"
        }
      },
      "execution_count": null,
      "outputs": [
        {
          "output_type": "stream",
          "name": "stdout",
          "text": [
            "Location\n",
            "Atlanta    Clay\n",
            "Atlanta    Clay\n",
            "Atlanta    Clay\n",
            "Atlanta    Clay\n",
            "Atlanta    Clay\n",
            "           ... \n",
            "Atlanta    Hard\n",
            "Atlanta    Hard\n",
            "Atlanta    Hard\n",
            "Atlanta    Hard\n",
            "Atlanta    Hard\n",
            "Name: Surface, Length: 251, dtype: object\n"
          ]
        }
      ]
    },
    {
      "cell_type": "code",
      "source": [
        "#Imprimimos 2 Localizaciones y dos columnas\n",
        "print(datos.loc[[\"Atlanta\",\"Melbourne\"], \"Series\":\"Round\"])"
      ],
      "metadata": {
        "id": "lWWI1T-767b9",
        "outputId": "17074e63-492d-41c0-9b5f-3461376d95d1",
        "colab": {
          "base_uri": "https://localhost:8080/"
        }
      },
      "execution_count": null,
      "outputs": [
        {
          "output_type": "stream",
          "name": "stdout",
          "text": [
            "                  Series    Court Surface          Round\n",
            "Location                                                \n",
            "Atlanta    International  Outdoor    Clay      1st Round\n",
            "Atlanta    International  Outdoor    Clay      1st Round\n",
            "Atlanta    International  Outdoor    Clay      1st Round\n",
            "Atlanta    International  Outdoor    Clay      1st Round\n",
            "Atlanta    International  Outdoor    Clay      1st Round\n",
            "...                  ...      ...     ...            ...\n",
            "Melbourne     Grand Slam  Outdoor    Hard  Quarterfinals\n",
            "Melbourne     Grand Slam  Outdoor    Hard  Quarterfinals\n",
            "Melbourne     Grand Slam  Outdoor    Hard     Semifinals\n",
            "Melbourne     Grand Slam  Outdoor    Hard     Semifinals\n",
            "Melbourne     Grand Slam  Outdoor    Hard      The Final\n",
            "\n",
            "[2410 rows x 4 columns]\n"
          ]
        }
      ]
    },
    {
      "cell_type": "code",
      "source": [
        "#Seleccion con rengo\n"
      ],
      "metadata": {
        "id": "x-pdaIzp64We"
      },
      "execution_count": null,
      "outputs": []
    },
    {
      "cell_type": "code",
      "source": [
        "#Selección solamente las series de Grand Slam\n",
        "print(datos.loc[datos[\"Series\"].str.endswith(\"Slam\")])"
      ],
      "metadata": {
        "id": "YGPCK0nE64Tq",
        "collapsed": true,
        "outputId": "44e085a9-37f4-44c9-edd3-110b5bbc98da",
        "colab": {
          "base_uri": "https://localhost:8080/"
        }
      },
      "execution_count": null,
      "outputs": [
        {
          "output_type": "stream",
          "name": "stdout",
          "text": [
            "           ATP       Tournament        Date      Series    Court Surface  \\\n",
            "Location                                                                   \n",
            "Melbourne    6  Australian Open  17/01/2000  Grand Slam  Outdoor    Hard   \n",
            "Melbourne    6  Australian Open  17/01/2000  Grand Slam  Outdoor    Hard   \n",
            "Melbourne    6  Australian Open  17/01/2000  Grand Slam  Outdoor    Hard   \n",
            "Melbourne    6  Australian Open  17/01/2000  Grand Slam  Outdoor    Hard   \n",
            "Melbourne    6  Australian Open  17/01/2000  Grand Slam  Outdoor    Hard   \n",
            "...        ...              ...         ...         ...      ...     ...   \n",
            "New York    52          US Open   7/09/2016  Grand Slam  Outdoor    Hard   \n",
            "New York    52          US Open   8/09/2016  Grand Slam  Outdoor    Hard   \n",
            "New York    52          US Open   9/09/2016  Grand Slam  Outdoor    Hard   \n",
            "New York    52          US Open   9/09/2016  Grand Slam  Outdoor    Hard   \n",
            "New York    52          US Open  11/09/2016  Grand Slam  Outdoor    Hard   \n",
            "\n",
            "                   Round  Best of        Winner           Loser  ... UBW UBL  \\\n",
            "Location                                                         ...           \n",
            "Melbourne      1st Round        5     Agassi A.       Puerta M.  ... NaN NaN   \n",
            "Melbourne      1st Round        5      Alami K.        Manta L.  ... NaN NaN   \n",
            "Melbourne      1st Round        5      Arazi H.       Alonso J.  ... NaN NaN   \n",
            "Melbourne      1st Round        5    Behrend T.     Meligeni F.  ... NaN NaN   \n",
            "Melbourne      1st Round        5   Bjorkman J.  Stoltenberg J.  ... NaN NaN   \n",
            "...                  ...      ...           ...             ...  ...  ..  ..   \n",
            "New York   Quarterfinals        5  Nishikori K.       Murray A.  ... NaN NaN   \n",
            "New York   Quarterfinals        5   Wawrinka S.  Del Potro J.M.  ... NaN NaN   \n",
            "New York      Semifinals        5   Djokovic N.      Monfils G.  ... NaN NaN   \n",
            "New York      Semifinals        5   Wawrinka S.    Nishikori K.  ... NaN NaN   \n",
            "New York       The Final        5   Wawrinka S.     Djokovic N.  ... NaN NaN   \n",
            "\n",
            "            LBW   LBL  SJW  SJL  MaxW  MaxL  AvgW  AvgL  \n",
            "Location                                                 \n",
            "Melbourne   NaN   NaN  NaN  NaN   NaN   NaN   NaN   NaN  \n",
            "Melbourne   NaN   NaN  NaN  NaN   NaN   NaN   NaN   NaN  \n",
            "Melbourne   NaN   NaN  NaN  NaN   NaN   NaN   NaN   NaN  \n",
            "Melbourne   NaN   NaN  NaN  NaN   NaN   NaN   NaN   NaN  \n",
            "Melbourne   NaN   NaN  NaN  NaN   NaN   NaN   NaN   NaN  \n",
            "...         ...   ...  ...  ...   ...   ...   ...   ...  \n",
            "New York   5.50  1.14  NaN  NaN  6.18  1.17  5.45  1.15  \n",
            "New York   2.38  1.57  NaN  NaN  2.50  1.70  2.34  1.60  \n",
            "New York   1.12  6.00  NaN  NaN  1.18  6.09  1.15  5.57  \n",
            "New York   2.10  1.73  NaN  NaN  2.27  1.78  2.12  1.72  \n",
            "New York   3.40  1.36  NaN  NaN  3.62  1.45  3.28  1.35  \n",
            "\n",
            "[8636 rows x 53 columns]\n"
          ]
        }
      ]
    },
    {
      "cell_type": "markdown",
      "source": [
        "## Exportar Datos a archivos CSV"
      ],
      "metadata": {
        "id": "TfeIUdpi8R0N"
      }
    },
    {
      "cell_type": "code",
      "source": [
        "# Eliminamos el indice que tengan nuestros datos y hacemos una copia de nuestros datos\n",
        "\n",
        "\n",
        "\n",
        "datos.reset_index().to_csv(\"DatosExportadosATP.csv\", header=True, index=False)\n"
      ],
      "metadata": {
        "id": "Dw8LkrSB8Xc8"
      },
      "execution_count": null,
      "outputs": []
    },
    {
      "cell_type": "code",
      "source": [
        "# Descargar el archivo que esta guardado en el entorno temporal del sistema de google colab\n",
        "from google.colab import files\n",
        "files.download(\"DatosExportadosATP.csv\")"
      ],
      "metadata": {
        "id": "LH5BT8hi9HA3",
        "outputId": "59c260a4-2b77-444d-a1e6-7e80ab8a0c54",
        "colab": {
          "base_uri": "https://localhost:8080/",
          "height": 17
        }
      },
      "execution_count": null,
      "outputs": [
        {
          "output_type": "display_data",
          "data": {
            "text/plain": [
              "<IPython.core.display.Javascript object>"
            ],
            "application/javascript": [
              "\n",
              "    async function download(id, filename, size) {\n",
              "      if (!google.colab.kernel.accessAllowed) {\n",
              "        return;\n",
              "      }\n",
              "      const div = document.createElement('div');\n",
              "      const label = document.createElement('label');\n",
              "      label.textContent = `Downloading \"${filename}\": `;\n",
              "      div.appendChild(label);\n",
              "      const progress = document.createElement('progress');\n",
              "      progress.max = size;\n",
              "      div.appendChild(progress);\n",
              "      document.body.appendChild(div);\n",
              "\n",
              "      const buffers = [];\n",
              "      let downloaded = 0;\n",
              "\n",
              "      const channel = await google.colab.kernel.comms.open(id);\n",
              "      // Send a message to notify the kernel that we're ready.\n",
              "      channel.send({})\n",
              "\n",
              "      for await (const message of channel.messages) {\n",
              "        // Send a message to notify the kernel that we're ready.\n",
              "        channel.send({})\n",
              "        if (message.buffers) {\n",
              "          for (const buffer of message.buffers) {\n",
              "            buffers.push(buffer);\n",
              "            downloaded += buffer.byteLength;\n",
              "            progress.value = downloaded;\n",
              "          }\n",
              "        }\n",
              "      }\n",
              "      const blob = new Blob(buffers, {type: 'application/binary'});\n",
              "      const a = document.createElement('a');\n",
              "      a.href = window.URL.createObjectURL(blob);\n",
              "      a.download = filename;\n",
              "      div.appendChild(a);\n",
              "      a.click();\n",
              "      div.remove();\n",
              "    }\n",
              "  "
            ]
          },
          "metadata": {}
        },
        {
          "output_type": "display_data",
          "data": {
            "text/plain": [
              "<IPython.core.display.Javascript object>"
            ],
            "application/javascript": [
              "download(\"download_fc76ab0e-0f6c-4f81-acc4-382e009f4a5f\", \"DatosExportadosATP.csv\", 10409194)"
            ]
          },
          "metadata": {}
        }
      ]
    },
    {
      "cell_type": "markdown",
      "source": [
        "Ahora guardamos los datos donde seleccionamos únicamente los datos que esten localizados en Melbourne"
      ],
      "metadata": {
        "id": "K3ghee7f9cE0"
      }
    },
    {
      "cell_type": "code",
      "source": [],
      "metadata": {
        "id": "pB3kkvXm9G6p"
      },
      "execution_count": null,
      "outputs": []
    },
    {
      "cell_type": "code",
      "source": [],
      "metadata": {
        "id": "6qmAe1cfw28T"
      },
      "execution_count": null,
      "outputs": []
    },
    {
      "cell_type": "markdown",
      "source": [
        "Ejercicio: Guarde los datos donde Series sea igual a Grand Slam"
      ],
      "metadata": {
        "id": "ziQejfNt-m5G"
      }
    },
    {
      "cell_type": "code",
      "source": [
        "nueva = datos.loc[datos[\"Series\"].str.endswith(\"Grand Slam\")]\n"
      ],
      "metadata": {
        "id": "y-nl7YBo9Go9"
      },
      "execution_count": null,
      "outputs": []
    },
    {
      "cell_type": "code",
      "source": [
        "nueva.reset_index().to_csv(\"DatosGrandSlamATP.csv\", header=True, index=False)"
      ],
      "metadata": {
        "id": "d_vNnoq2w6CK"
      },
      "execution_count": null,
      "outputs": []
    },
    {
      "cell_type": "code",
      "source": [
        "from google.colab import files\n",
        "files.download(\"DatosGrandSlamATP.csv\")"
      ],
      "metadata": {
        "id": "shl0jnlkw5xC",
        "outputId": "b872b709-4111-45c1-de82-38c492f2481e",
        "colab": {
          "base_uri": "https://localhost:8080/",
          "height": 17
        }
      },
      "execution_count": null,
      "outputs": [
        {
          "output_type": "display_data",
          "data": {
            "text/plain": [
              "<IPython.core.display.Javascript object>"
            ],
            "application/javascript": [
              "\n",
              "    async function download(id, filename, size) {\n",
              "      if (!google.colab.kernel.accessAllowed) {\n",
              "        return;\n",
              "      }\n",
              "      const div = document.createElement('div');\n",
              "      const label = document.createElement('label');\n",
              "      label.textContent = `Downloading \"${filename}\": `;\n",
              "      div.appendChild(label);\n",
              "      const progress = document.createElement('progress');\n",
              "      progress.max = size;\n",
              "      div.appendChild(progress);\n",
              "      document.body.appendChild(div);\n",
              "\n",
              "      const buffers = [];\n",
              "      let downloaded = 0;\n",
              "\n",
              "      const channel = await google.colab.kernel.comms.open(id);\n",
              "      // Send a message to notify the kernel that we're ready.\n",
              "      channel.send({})\n",
              "\n",
              "      for await (const message of channel.messages) {\n",
              "        // Send a message to notify the kernel that we're ready.\n",
              "        channel.send({})\n",
              "        if (message.buffers) {\n",
              "          for (const buffer of message.buffers) {\n",
              "            buffers.push(buffer);\n",
              "            downloaded += buffer.byteLength;\n",
              "            progress.value = downloaded;\n",
              "          }\n",
              "        }\n",
              "      }\n",
              "      const blob = new Blob(buffers, {type: 'application/binary'});\n",
              "      const a = document.createElement('a');\n",
              "      a.href = window.URL.createObjectURL(blob);\n",
              "      a.download = filename;\n",
              "      div.appendChild(a);\n",
              "      a.click();\n",
              "      div.remove();\n",
              "    }\n",
              "  "
            ]
          },
          "metadata": {}
        },
        {
          "output_type": "display_data",
          "data": {
            "text/plain": [
              "<IPython.core.display.Javascript object>"
            ],
            "application/javascript": [
              "download(\"download_3e6a9059-8a84-45c2-a32d-dd381a1c88bd\", \"DatosGrandSlamATP.csv\", 1932276)"
            ]
          },
          "metadata": {}
        }
      ]
    },
    {
      "cell_type": "markdown",
      "source": [
        "## Busqueda de Datos con condiciones"
      ],
      "metadata": {
        "id": "-eMUBW5E_s5v"
      }
    },
    {
      "cell_type": "code",
      "source": [
        "# Vamos a buscar en datos, sobre la columna Court todos los registros que sean\n",
        "# Outdoor, y nos va a imprimir solo las columnas del tipo de cancha\n",
        "\n",
        "print(datos.loc[datos[\"Court\"] == \"Outdoor\",[\"Surface\"]])"
      ],
      "metadata": {
        "id": "uo5UP6n3_rYX",
        "outputId": "12eacccf-cd50-4eac-f605-e2981a7ff737",
        "colab": {
          "base_uri": "https://localhost:8080/"
        }
      },
      "execution_count": null,
      "outputs": [
        {
          "output_type": "stream",
          "name": "stdout",
          "text": [
            "         Surface\n",
            "Location        \n",
            "Adelaide    Hard\n",
            "Adelaide    Hard\n",
            "Adelaide    Hard\n",
            "Adelaide    Hard\n",
            "Adelaide    Hard\n",
            "...          ...\n",
            "New York    Hard\n",
            "New York    Hard\n",
            "New York    Hard\n",
            "New York    Hard\n",
            "New York    Hard\n",
            "\n",
            "[38350 rows x 1 columns]\n"
          ]
        }
      ]
    },
    {
      "cell_type": "code",
      "source": [
        "# Podemos agregar a la busqueda que nos imprima tambien el ganador del torneo\n",
        "print(datos.loc[datos[\"Court\"] == \"Outdoor\",[\"Surface\", \"Winner\"]])"
      ],
      "metadata": {
        "id": "iDlsypDa__sp",
        "outputId": "c2af8153-43c9-4ca3-f920-e1d0f7db5804",
        "colab": {
          "base_uri": "https://localhost:8080/"
        }
      },
      "execution_count": null,
      "outputs": [
        {
          "output_type": "stream",
          "name": "stdout",
          "text": [
            "         Surface        Winner\n",
            "Location                      \n",
            "Adelaide    Hard    Dosedel S.\n",
            "Adelaide    Hard    Enqvist T.\n",
            "Adelaide    Hard     Escude N.\n",
            "Adelaide    Hard    Federer R.\n",
            "Adelaide    Hard   Fromberg R.\n",
            "...          ...           ...\n",
            "New York    Hard  Nishikori K.\n",
            "New York    Hard   Wawrinka S.\n",
            "New York    Hard   Djokovic N.\n",
            "New York    Hard   Wawrinka S.\n",
            "New York    Hard   Wawrinka S.\n",
            "\n",
            "[38350 rows x 2 columns]\n"
          ]
        }
      ]
    },
    {
      "cell_type": "code",
      "source": [
        "#Vamos a imprimir una busqueda con más de una condicion\n",
        "print(datos.loc[datos[\"Series\"].str.endswith(\"Slam\")\n",
        "    &(datos[\"Surface\"] == \"Clay\")\n",
        "    &(datos[\"Winner\"] == \"Federer R.\")\n",
        "    &(datos[\"Round\"] == \"The Final\")])"
      ],
      "metadata": {
        "id": "O5PFrsSTAB6k",
        "outputId": "ec053c0b-433e-4ce5-be46-74ed916995a0",
        "colab": {
          "base_uri": "https://localhost:8080/"
        }
      },
      "execution_count": null,
      "outputs": [
        {
          "output_type": "stream",
          "name": "stdout",
          "text": [
            "          ATP   Tournament       Date      Series    Court Surface      Round  \\\n",
            "Location                                                                        \n",
            "Paris      31  French Open  7/06/2009  Grand Slam  Outdoor    Clay  The Final   \n",
            "\n",
            "          Best of      Winner         Loser  ...   UBW  UBL    LBW  LBL   SJW  \\\n",
            "Location                                     ...                                \n",
            "Paris           5  Federer R.  Soderling R.  ...  1.26  4.0  1.222  4.0  1.25   \n",
            "\n",
            "          SJL  MaxW  MaxL  AvgW  AvgL  \n",
            "Location                               \n",
            "Paris     4.0   NaN   NaN   NaN   NaN  \n",
            "\n",
            "[1 rows x 53 columns]\n"
          ]
        }
      ]
    },
    {
      "cell_type": "markdown",
      "source": [
        "## Ejercicios"
      ],
      "metadata": {
        "id": "WDQR3F27jEsq"
      }
    },
    {
      "cell_type": "code",
      "source": [
        "import chardet\n",
        "with open('/content/drive/MyDrive/CIENCIA DE DATOS/2DO MODULO/2DA SEMANA/Ejercicio_2.csv', 'rb') as f:\n",
        "    result = chardet.detect(f.read())\n",
        "print(result['encoding'])  # Te dirá cuál es la codificación más probable\n"
      ],
      "metadata": {
        "id": "rpdA_AJ34OVS",
        "outputId": "cdce37e8-74ff-4f5b-d6fd-21894f8a7e32",
        "colab": {
          "base_uri": "https://localhost:8080/"
        }
      },
      "execution_count": null,
      "outputs": [
        {
          "output_type": "stream",
          "name": "stdout",
          "text": [
            "ISO-8859-1\n"
          ]
        }
      ]
    },
    {
      "cell_type": "markdown",
      "source": [
        "Carga el archivo Ejercicio_2.csv y crea un Data Frame con el nombre df"
      ],
      "metadata": {
        "id": "tADrIISrpZFO"
      }
    },
    {
      "cell_type": "code",
      "source": [
        "datos2 = pd.read_csv('/content/drive/MyDrive/CIENCIA DE DATOS/2DO MODULO/2DA SEMANA/Ejercicio_2.csv', encoding='ISO-8859-1')\n",
        "print(datos2)"
      ],
      "metadata": {
        "id": "2avn7DHljHlR",
        "colab": {
          "base_uri": "https://localhost:8080/"
        },
        "outputId": "a9c8e865-1732-4ee7-d3e3-c9fead4fefc0"
      },
      "execution_count": null,
      "outputs": [
        {
          "output_type": "stream",
          "name": "stdout",
          "text": [
            "         ID     Nombre  Edad      Materia  Promedio  Semestre  Aprobado\n",
            "0   STUD001      Elena    27  Computacion      8.33         2  Aprobado\n",
            "1   STUD002      Lucia    22  Matematicas      7.66         5  Rerobado\n",
            "2   STUD003      Pedro    21  Computacion      7.90         7  Rerobado\n",
            "3   STUD004        Ana    18       Fisica      8.49         9  Aprobado\n",
            "4   STUD005      Maria    21  Computacion      7.35         3  Rerobado\n",
            "5   STUD006  Alejandro    23       Fisica      8.70         4  Aprobado\n",
            "6   STUD007     Camila    18      Quimica      7.27         1  Rerobado\n",
            "7   STUD008      Mateo    20      Quimica      9.11         1  Aprobado\n",
            "8   STUD009       Luis    21  Matematicas      9.80         7  Aprobado\n",
            "9   STUD010   Santiago    26      Fisisca      8.65         1  Aprobado\n",
            "10  STUD011   Isabella    19       Fisica      6.05         7  Rerobado\n",
            "11  STUD012     Carlos    21       Fisica      8.49         4  Aprobado\n",
            "12  STUD013     Daniel    21       Fisica      8.69         4  Aprobado\n",
            "13  STUD014    Mariana    21     Biologia      9.89         9  Aprobado\n",
            "14  STUD015      Jorge    25     Biologia      9.51         9  Aprobado\n",
            "15  STUD016   Leonardo    18      Quimica      8.04         9  Aprobado\n",
            "16  STUD017      Sofía    19     Biologia      6.22         3  Rerobado\n",
            "17  STUD018      Paula    27  Matematicas      7.80         4  Rerobado\n",
            "18  STUD019      Lucas    27     Biologia      6.08         3  Rerobado\n",
            "19  STUD020     Renata    18  Computacion      7.77         1  Rerobado\n",
            "20  STUD021    Nicolás    28       Fisica      9.92         9  Aprobado\n",
            "21  STUD022     Regina    22      QUimica      7.44         9  Rerobado\n",
            "22  STUD023   Emiliano    25  Computacion      7.92         4  Rerobado\n",
            "23  STUD024   Fernanda    21     Biologia      8.75         9  Aprobado\n",
            "24  STUD025      Tomás    29  Computacion      9.52         3  Aprobado\n",
            "25  STUD026     Andrea    20  Computacion      9.67         9  Aprobado\n",
            "26  STUD027     Samuel    25  Computacion      6.87         5  Rerobado\n",
            "27  STUD028      David    20     Biologia      8.26         4  Aprobado\n",
            "28  STUD029      Elisa    18  Computacion      9.46         1  Aprobado\n",
            "29  STUD030   Benjamín    18  Computacion      8.04         5  Aprobado\n"
          ]
        }
      ]
    },
    {
      "cell_type": "markdown",
      "source": [
        "Establece el indice para utilizar loc con el campo 'ID'"
      ],
      "metadata": {
        "id": "u6pOcPHvpoRO"
      }
    },
    {
      "cell_type": "code",
      "source": [
        "datos2.set_index(\"ID\",inplace=True)"
      ],
      "metadata": {
        "id": "_guMclx8py21"
      },
      "execution_count": null,
      "outputs": []
    },
    {
      "cell_type": "code",
      "source": [
        "datos2.index.name"
      ],
      "metadata": {
        "colab": {
          "base_uri": "https://localhost:8080/",
          "height": 35
        },
        "id": "CdE0c74xK585",
        "outputId": "ce7e9027-37fd-4b80-cd91-795fc7c6e30a"
      },
      "execution_count": null,
      "outputs": [
        {
          "output_type": "execute_result",
          "data": {
            "text/plain": [
              "'ID'"
            ],
            "application/vnd.google.colaboratory.intrinsic+json": {
              "type": "string"
            }
          },
          "metadata": {},
          "execution_count": 15
        }
      ]
    },
    {
      "cell_type": "code",
      "source": [
        "datos2.index.unique()"
      ],
      "metadata": {
        "colab": {
          "base_uri": "https://localhost:8080/"
        },
        "id": "cLD-HHJtLA8k",
        "outputId": "c108e217-7bf2-4226-c016-13b083b40911"
      },
      "execution_count": null,
      "outputs": [
        {
          "output_type": "execute_result",
          "data": {
            "text/plain": [
              "Index(['STUD001', 'STUD002', 'STUD003', 'STUD004', 'STUD005', 'STUD006',\n",
              "       'STUD007', 'STUD008', 'STUD009', 'STUD010', 'STUD011', 'STUD012',\n",
              "       'STUD013', 'STUD014', 'STUD015', 'STUD016', 'STUD017', 'STUD018',\n",
              "       'STUD019', 'STUD020', 'STUD021', 'STUD022', 'STUD023', 'STUD024',\n",
              "       'STUD025', 'STUD026', 'STUD027', 'STUD028', 'STUD029', 'STUD030'],\n",
              "      dtype='object', name='ID')"
            ]
          },
          "metadata": {},
          "execution_count": 17
        }
      ]
    },
    {
      "cell_type": "markdown",
      "source": [
        "Muestra los estudiantes con ID 'STU005'"
      ],
      "metadata": {
        "id": "rgAVTx5Pp3xA"
      }
    },
    {
      "cell_type": "code",
      "source": [
        "print(datos2.columns)"
      ],
      "metadata": {
        "colab": {
          "base_uri": "https://localhost:8080/"
        },
        "id": "HODi-lpvNfcJ",
        "outputId": "16cb7d15-7c74-4597-96a1-e4d7d4aeb275"
      },
      "execution_count": null,
      "outputs": [
        {
          "output_type": "stream",
          "name": "stdout",
          "text": [
            "Index(['Nombre', 'Edad', 'Materia', 'Promedio', 'Semestre', 'Aprobado'], dtype='object')\n"
          ]
        }
      ]
    },
    {
      "cell_type": "code",
      "source": [
        "print(datos2.loc[\"STUD005\"])"
      ],
      "metadata": {
        "id": "1nFsuYILp9oo",
        "colab": {
          "base_uri": "https://localhost:8080/"
        },
        "outputId": "765fb12e-199d-446f-e219-3c561f4c4696"
      },
      "execution_count": null,
      "outputs": [
        {
          "output_type": "stream",
          "name": "stdout",
          "text": [
            "Nombre            Maria\n",
            "Edad                 21\n",
            "Materia     Computacion\n",
            "Promedio           7.35\n",
            "Semestre              3\n",
            "Aprobado       Rerobado\n",
            "Name: STUD005, dtype: object\n"
          ]
        }
      ]
    },
    {
      "cell_type": "markdown",
      "source": [
        "Muestra los datos de los estudiantes 'STUD003', 'STUD007' y 'STUD010'"
      ],
      "metadata": {
        "id": "EpXKWc_kqCeI"
      }
    },
    {
      "cell_type": "code",
      "source": [
        "print(datos2.loc[[\"STUD001\",\"STUD005\", \"STUD010\"]])"
      ],
      "metadata": {
        "id": "526Gq5E6qagS",
        "colab": {
          "base_uri": "https://localhost:8080/"
        },
        "outputId": "b142956c-40a8-4dfa-e271-9b12010ba4b7"
      },
      "execution_count": null,
      "outputs": [
        {
          "output_type": "stream",
          "name": "stdout",
          "text": [
            "           Nombre  Edad      Materia  Promedio  Semestre  Aprobado\n",
            "ID                                                                \n",
            "STUD001     Elena    27  Computacion      8.33         2  Aprobado\n",
            "STUD005     Maria    21  Computacion      7.35         3  Rerobado\n",
            "STUD010  Santiago    26      Fisisca      8.65         1  Aprobado\n"
          ]
        }
      ]
    },
    {
      "cell_type": "markdown",
      "source": [
        "Muestra los datos desde el estudiante 'STUD010' hasta 'STUD020' (inclusive), pero solo las columnas Nombre, Materia, Aprobado"
      ],
      "metadata": {
        "id": "c7fwLiglqY5-"
      }
    },
    {
      "cell_type": "code",
      "source": [
        "print(datos2.loc[\"STUD001\":\"STUD010\", [\"Nombre\", \"Materia\", \"Aprobado\"]])"
      ],
      "metadata": {
        "colab": {
          "base_uri": "https://localhost:8080/"
        },
        "id": "cIfgV67sMCP2",
        "outputId": "9cd2f2b2-5f3c-4b99-94bb-5a9e3fdeae53"
      },
      "execution_count": null,
      "outputs": [
        {
          "output_type": "stream",
          "name": "stdout",
          "text": [
            "            Nombre      Materia  Aprobado\n",
            "ID                                       \n",
            "STUD001      Elena  Computacion  Aprobado\n",
            "STUD002      Lucia  Matematicas  Rerobado\n",
            "STUD003      Pedro  Computacion  Rerobado\n",
            "STUD004        Ana       Fisica  Aprobado\n",
            "STUD005      Maria  Computacion  Rerobado\n",
            "STUD006  Alejandro       Fisica  Aprobado\n",
            "STUD007     Camila      Quimica  Rerobado\n",
            "STUD008      Mateo      Quimica  Aprobado\n",
            "STUD009       Luis  Matematicas  Aprobado\n",
            "STUD010   Santiago      Fisisca  Aprobado\n"
          ]
        }
      ]
    },
    {
      "cell_type": "markdown",
      "source": [
        "Muestra Nombre, Edad y Promedio de los estudiantes que están en el semestre 6 o mayor y tienen promedio mayor a 8"
      ],
      "metadata": {
        "id": "wz_P35FZqMF3"
      }
    },
    {
      "cell_type": "code",
      "source": [
        "print(datos2.loc[(datos2[\"Semestre\"] >= 6) & (datos2[\"Promedio\"] >= 8), [\"Nombre\",\"Edad\", \"Promedio\"]])"
      ],
      "metadata": {
        "id": "hJNDvO0qqNFT",
        "colab": {
          "base_uri": "https://localhost:8080/"
        },
        "outputId": "0c6e1f4c-a307-46e0-b25a-7e555c2bf7cd"
      },
      "execution_count": null,
      "outputs": [
        {
          "output_type": "stream",
          "name": "stdout",
          "text": [
            "           Nombre  Edad  Promedio\n",
            "ID                               \n",
            "STUD004       Ana    18      8.49\n",
            "STUD009      Luis    21      9.80\n",
            "STUD014   Mariana    21      9.89\n",
            "STUD015     Jorge    25      9.51\n",
            "STUD016  Leonardo    18      8.04\n",
            "STUD021   Nicolás    28      9.92\n",
            "STUD024  Fernanda    21      8.75\n",
            "STUD026    Andrea    20      9.67\n"
          ]
        }
      ]
    },
    {
      "cell_type": "markdown",
      "source": [
        "Muestra los datos de todos los estudiantes cuyo ID termina en número impar (tip: usa una lista por comprensión)."
      ],
      "metadata": {
        "id": "x0FInMeVqQ_m"
      }
    },
    {
      "cell_type": "code",
      "source": [
        "print(datos2.loc[datos2.index[datos2.index.to_series().str.endswith(tuple(str(num) for num in datos2.index if int(num[-1]) % 2 == 0))]])\n"
      ],
      "metadata": {
        "id": "UDCmNBLCqR65",
        "colab": {
          "base_uri": "https://localhost:8080/"
        },
        "outputId": "ee91892a-486d-46d1-f44e-e91a9695e284"
      },
      "execution_count": null,
      "outputs": [
        {
          "output_type": "stream",
          "name": "stdout",
          "text": [
            "            Nombre  Edad      Materia  Promedio  Semestre  Aprobado\n",
            "ID                                                                 \n",
            "STUD002      Lucia    22  Matematicas      7.66         5  Rerobado\n",
            "STUD004        Ana    18       Fisica      8.49         9  Aprobado\n",
            "STUD006  Alejandro    23       Fisica      8.70         4  Aprobado\n",
            "STUD008      Mateo    20      Quimica      9.11         1  Aprobado\n",
            "STUD010   Santiago    26      Fisisca      8.65         1  Aprobado\n",
            "STUD012     Carlos    21       Fisica      8.49         4  Aprobado\n",
            "STUD014    Mariana    21     Biologia      9.89         9  Aprobado\n",
            "STUD016   Leonardo    18      Quimica      8.04         9  Aprobado\n",
            "STUD018      Paula    27  Matematicas      7.80         4  Rerobado\n",
            "STUD020     Renata    18  Computacion      7.77         1  Rerobado\n",
            "STUD022     Regina    22      QUimica      7.44         9  Rerobado\n",
            "STUD024   Fernanda    21     Biologia      8.75         9  Aprobado\n",
            "STUD026     Andrea    20  Computacion      9.67         9  Aprobado\n",
            "STUD028      David    20     Biologia      8.26         4  Aprobado\n",
            "STUD030   Benjamín    18  Computacion      8.04         5  Aprobado\n"
          ]
        }
      ]
    },
    {
      "cell_type": "markdown",
      "source": [
        "Muestra los estudiantes cuya Materia sea \"Física\" y su nombre comience con \"L\", mostrando solo Nombre, Carrera, Promedio."
      ],
      "metadata": {
        "id": "tPZ4lvvIqmvm"
      }
    },
    {
      "cell_type": "code",
      "source": [
        "print(datos2.loc[(datos2[\"Materia\"] == \"Fisica\") & (datos2[\"Nombre\"].str.startswith(\"A\")), [\"Nombre\",\"Materia\", \"Promedio\"]])"
      ],
      "metadata": {
        "id": "w0_XHb7bqjo3",
        "colab": {
          "base_uri": "https://localhost:8080/"
        },
        "outputId": "a0e8d7d2-57b8-4094-eef5-f13d1f2eaad7"
      },
      "execution_count": null,
      "outputs": [
        {
          "output_type": "stream",
          "name": "stdout",
          "text": [
            "            Nombre Materia  Promedio\n",
            "ID                                  \n",
            "STUD004        Ana  Fisica      8.49\n",
            "STUD006  Alejandro  Fisica      8.70\n"
          ]
        }
      ]
    },
    {
      "cell_type": "markdown",
      "source": [
        "Muestra los estudiantes con edad entre 20 y 25, y con promedio mayor a 7.5, mostrando las columnas Nombre, Edad, Promedio."
      ],
      "metadata": {
        "id": "fCZjtKw9q1M2"
      }
    },
    {
      "cell_type": "code",
      "source": [
        "print(datos2.loc[(datos2[\"Edad\"] >= 20) & (datos2[\"Edad\"] <= 25) & (datos2[\"Promedio\"] <= 25 ), [\"Nombre\",\"Edad\", \"Promedio\"]])"
      ],
      "metadata": {
        "id": "qtUzAtFrq147",
        "colab": {
          "base_uri": "https://localhost:8080/"
        },
        "outputId": "9409f744-db0e-49ab-f989-6b67ce76ed4a"
      },
      "execution_count": null,
      "outputs": [
        {
          "output_type": "stream",
          "name": "stdout",
          "text": [
            "            Nombre  Edad  Promedio\n",
            "ID                                \n",
            "STUD002      Lucia    22      7.66\n",
            "STUD003      Pedro    21      7.90\n",
            "STUD005      Maria    21      7.35\n",
            "STUD006  Alejandro    23      8.70\n",
            "STUD008      Mateo    20      9.11\n",
            "STUD009       Luis    21      9.80\n",
            "STUD012     Carlos    21      8.49\n",
            "STUD013     Daniel    21      8.69\n",
            "STUD014    Mariana    21      9.89\n",
            "STUD015      Jorge    25      9.51\n",
            "STUD022     Regina    22      7.44\n",
            "STUD023   Emiliano    25      7.92\n",
            "STUD024   Fernanda    21      8.75\n",
            "STUD026     Andrea    20      9.67\n",
            "STUD027     Samuel    25      6.87\n",
            "STUD028      David    20      8.26\n"
          ]
        }
      ]
    },
    {
      "cell_type": "markdown",
      "source": [
        "Exporta los datos de la última consulta, y guardala en un archivo que se llame Filtro_estudiantres.csv"
      ],
      "metadata": {
        "id": "XxclhY_ArCYD"
      }
    },
    {
      "cell_type": "code",
      "source": [
        "nueva2 = datos2.loc[(datos2[\"Edad\"] >= 20) & (datos2[\"Edad\"] <= 25) & (datos2[\"Promedio\"] <= 25 ), [\"Nombre\",\"Edad\", \"Promedio\"]]\n"
      ],
      "metadata": {
        "id": "18yHt_BCrS_H"
      },
      "execution_count": null,
      "outputs": []
    },
    {
      "cell_type": "code",
      "source": [
        "nueva2.reset_index().to_csv(\"Filtro_estudiantes.csv\", header=True, index=False)"
      ],
      "metadata": {
        "id": "e_6tYA1zfdwG"
      },
      "execution_count": null,
      "outputs": []
    },
    {
      "cell_type": "code",
      "source": [
        "from google.colab import files\n",
        "files.download(\"Filtro_estudiantes.csv\")"
      ],
      "metadata": {
        "colab": {
          "base_uri": "https://localhost:8080/",
          "height": 17
        },
        "id": "4ZQOMEInftYJ",
        "outputId": "438d5761-afc8-472a-bc44-38cd8d9b3d25"
      },
      "execution_count": null,
      "outputs": [
        {
          "output_type": "display_data",
          "data": {
            "text/plain": [
              "<IPython.core.display.Javascript object>"
            ],
            "application/javascript": [
              "\n",
              "    async function download(id, filename, size) {\n",
              "      if (!google.colab.kernel.accessAllowed) {\n",
              "        return;\n",
              "      }\n",
              "      const div = document.createElement('div');\n",
              "      const label = document.createElement('label');\n",
              "      label.textContent = `Downloading \"${filename}\": `;\n",
              "      div.appendChild(label);\n",
              "      const progress = document.createElement('progress');\n",
              "      progress.max = size;\n",
              "      div.appendChild(progress);\n",
              "      document.body.appendChild(div);\n",
              "\n",
              "      const buffers = [];\n",
              "      let downloaded = 0;\n",
              "\n",
              "      const channel = await google.colab.kernel.comms.open(id);\n",
              "      // Send a message to notify the kernel that we're ready.\n",
              "      channel.send({})\n",
              "\n",
              "      for await (const message of channel.messages) {\n",
              "        // Send a message to notify the kernel that we're ready.\n",
              "        channel.send({})\n",
              "        if (message.buffers) {\n",
              "          for (const buffer of message.buffers) {\n",
              "            buffers.push(buffer);\n",
              "            downloaded += buffer.byteLength;\n",
              "            progress.value = downloaded;\n",
              "          }\n",
              "        }\n",
              "      }\n",
              "      const blob = new Blob(buffers, {type: 'application/binary'});\n",
              "      const a = document.createElement('a');\n",
              "      a.href = window.URL.createObjectURL(blob);\n",
              "      a.download = filename;\n",
              "      div.appendChild(a);\n",
              "      a.click();\n",
              "      div.remove();\n",
              "    }\n",
              "  "
            ]
          },
          "metadata": {}
        },
        {
          "output_type": "display_data",
          "data": {
            "text/plain": [
              "<IPython.core.display.Javascript object>"
            ],
            "application/javascript": [
              "download(\"download_61941e31-ba1f-4f3d-b3cb-0678782b7342\", \"Filtro_estudiantes.csv\", 389)"
            ]
          },
          "metadata": {}
        }
      ]
    }
  ]
}