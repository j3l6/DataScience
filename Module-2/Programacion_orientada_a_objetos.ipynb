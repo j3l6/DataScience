{
  "nbformat": 4,
  "nbformat_minor": 0,
  "metadata": {
    "colab": {
      "provenance": []
    },
    "kernelspec": {
      "name": "python3",
      "display_name": "Python 3"
    },
    "language_info": {
      "name": "python"
    }
  },
  "cells": [
    {
      "cell_type": "markdown",
      "source": [
        "## Programación Orientada a objetos\n",
        "\n",
        "La **programación Orientada** a objetos (POO u OOP) es un paradigma de programación en el que los conceptos del mundo real relevantes para nuestro problema se modelan a través de clases y objetos, y en el que nuestro programa consiste en una serie de interacciones entre estos objetos."
      ],
      "metadata": {
        "id": "NJYP5BPnoqN8"
      }
    },
    {
      "cell_type": "markdown",
      "source": [
        "* Una **clase** o **instancia** permite la creacion y el manejo de los datos sea sencillo. En términos más simples, una clase es una plantilla o plano para la creacion de objetos. Esta nos dice cuales deben de ser las caracteristicas y las acciones que deben hacer cada objeto que sea creado a partir de ésta.\n",
        "\n",
        "* Un **objeto** es el elemento fundamental en la programación orientada a objetos, puede representar un objeto real como seria una cuenta bancaria, un cliente o una transaccion o puede representar un elemento abstracto como una ecuación, una fracción o un número complejo. Cada objeto tiene un conjunto de caracteristicas que lo definen asi como un conjunto de acciones que determinan su comportamiento con respecto a otros objetos\n",
        "\n",
        "* Un **atributo** es el valor que almacena internamente el objeto (las caracteristicas de un objeto) y que puede ser datos primitivos o incluso otros objetos. Es importante destacar que a pesar de que cada objeto creado a partir de una clase comparte los mismos atriburtos y acciones que otros objetos, tiene un estado diferente dentro por los valores que tengan en un instante de tiemo determinado.\n",
        "\n",
        "* Un **metodo** es un grupo de instrucciones asociadas al objeto a loas que se les ha dado un nombre espesifico. Cuando un método es invocado se ejecutan las instruccioines del programa. Los métodos de un objeto definen como se comporta y cuáles son las acciones que se pueden realizar sobre él o hacia otro objeto. La principal diferencia entre una funcion utilizada en la programacion procedual y un metodo es que los metodos pueden acceder y modificar a los atributos que contiene el objeto, mientras que una funcion no lo puede hacer.\n",
        "\n",
        "\n",
        "\n"
      ],
      "metadata": {
        "id": "9R3sy8IOisvm"
      }
    },
    {
      "cell_type": "markdown",
      "source": [
        "**Setters y Getters**\n",
        "\n",
        "Cuando trabajamos en POO se necesitan crear metodos para cada uno de los atributos que nos permitan obtenerlos y modificarlos, esto es muy útil posteriormente cuando trabajemos la encapsulación"
      ],
      "metadata": {
        "id": "oD9ZEK-h_an2"
      }
    },
    {
      "cell_type": "markdown",
      "source": [
        "Para crear una clase en Python utilizamos la palabra reservada **class** seguida del nombre de la clase, tomamos en cuental que por convencion, el nombre empieza con una letra mayúscula y a continuación, el cuerpo de la clase.\n",
        "\n"
      ],
      "metadata": {
        "id": "2MW1Ac3ukQRz"
      }
    },
    {
      "cell_type": "code",
      "source": [
        "class Coche:\n",
        "\n",
        "  #Abstraccion de los objetos coches\n",
        "  def __init__(self, gasolina):\n",
        "    self.gasolina = gasolina\n",
        "    print (\"Tenemos\", gasolina, \"litros\")\n",
        "\n",
        "  #Setter\n",
        "  def set_gasolina(self,nuevo):\n",
        "    self.gasolina = nuevo\n",
        "\n",
        "  #Getter\n",
        "  def get_gasolina(self):\n",
        "    return print(f\"el nuevo valor del objeto {self} es {self.gasolina}\")\n",
        "\n",
        "  #Metodo arrancar\n",
        "  def arrancar(self):\n",
        "    if self.gasolina > 0:\n",
        "      print (\"Arranca\")\n",
        "    else:\n",
        "      print (\"No arranca\")\n",
        "\n",
        "  #Metodo conducir\n",
        "  def conducir(self):\n",
        "    if self.gasolina > 0:\n",
        "      self.gasolina -= 1\n",
        "      print (\"Quedan\", self.gasolina, \"litros\")\n",
        "    else:\n",
        "      print (\"No se mueve\")\n",
        "\n",
        "  # Define the __str__ method to control the string representation\n",
        "  def __str__(self):\n",
        "    return \"Coche\""
      ],
      "metadata": {
        "id": "yT0dlv0aut1c"
      },
      "execution_count": null,
      "outputs": []
    },
    {
      "cell_type": "markdown",
      "source": [
        "Para poder crear un objeto con nuestra clase lo podemos hacer como si llamaramos a una función, recordando los atributos que le tenemos que poner a nuestro objeto."
      ],
      "metadata": {
        "id": "Cf5J9uZfyjTs"
      }
    },
    {
      "cell_type": "code",
      "source": [
        "mi_coche = Coche(3)\n",
        "mi_coche.set_gasolina(5)\n",
        "mi_coche.get_gasolina()"
      ],
      "metadata": {
        "id": "exUR21oZzKao",
        "colab": {
          "base_uri": "https://localhost:8080/"
        },
        "outputId": "594ed26b-7424-47af-f4f3-f1252040577f"
      },
      "execution_count": null,
      "outputs": [
        {
          "output_type": "stream",
          "name": "stdout",
          "text": [
            "Tenemos 3 litros\n",
            "el nuevo valor del objeto Coche es 5\n"
          ]
        }
      ]
    },
    {
      "cell_type": "code",
      "source": [
        "mi_coche.arrancar()\n",
        "mi_coche.conducir()\n",
        "mi_coche.conducir()\n",
        "mi_coche.conducir()\n",
        "mi_coche.conducir()"
      ],
      "metadata": {
        "id": "lZ-ilnDk0afl",
        "colab": {
          "base_uri": "https://localhost:8080/"
        },
        "outputId": "e63e0583-9eb1-40f1-c971-4b57df5366c9"
      },
      "execution_count": null,
      "outputs": [
        {
          "output_type": "stream",
          "name": "stdout",
          "text": [
            "Arranca\n",
            "Quedan 4 litros\n",
            "Quedan 3 litros\n",
            "Quedan 2 litros\n",
            "Quedan 1 litros\n"
          ]
        }
      ]
    },
    {
      "cell_type": "markdown",
      "source": [
        "La **herencia** es una tecnica de la POO en la cual, se puede crear una clase nueva a traves de una clase existente, por medio de la declaracion de nuevos metodos y atributos que extienden la funcionalidad de la clase de la que se herede (superclase o clase padre y subclase o clase hija).\n",
        "\n",
        "Los objetos de la nueva clase heredan las propiedades y el comportamiento de todas las clases a alas que pertenecen, es decir, pueden usar las caracteristicas\n",
        "y el comportamiento heredado sin tener que volver a implementar la funcionalidad.\n",
        "\n",
        "En Python existen dos tipos de herencia, la simple y la multiple\n",
        "\n"
      ],
      "metadata": {
        "id": "oGc27wFbsst6"
      }
    },
    {
      "cell_type": "code",
      "source": [
        "class Operacion:\n",
        "  def __init__(self,numero1, numero2):\n",
        "    self.valor1=numero1\n",
        "    self.valor2=numero2\n",
        "\n",
        "  def set_valor1(self,nuevo):\n",
        "    self.valor1 = nuevo\n",
        "  def get_valor1(self):\n",
        "    return self.valor1\n",
        "\n",
        "  def set_valor2(self,nuevo):\n",
        "    self.valor2 = nuevo\n",
        "  def get_valor2(self):\n",
        "    return self.valor2\n",
        "\n",
        "  def imprimir_valor(self, numero):\n",
        "    print(numero)"
      ],
      "metadata": {
        "id": "d17NWJNf-CMc"
      },
      "execution_count": null,
      "outputs": []
    },
    {
      "cell_type": "code",
      "source": [
        "class Suma(Operacion):\n",
        "\n",
        "  \"\"\"Se llama al constructor de la clase padre\n",
        "     para inicializar los números\"\"\"\n",
        "\n",
        "  def __init__(self, numero1, numero2):\n",
        "    super().__init__(numero1, numero2)\n",
        "\n",
        "  \"\"\"Se agrega un núevo metodo a la clase,\n",
        "     (suma) que no esta en la clase padre\"\"\"\n",
        "  def sumar(self):\n",
        "    self.imprimir_valor(self.valor1 + self.valor2)"
      ],
      "metadata": {
        "id": "LnLJ1lQLE6p-"
      },
      "execution_count": null,
      "outputs": []
    },
    {
      "cell_type": "code",
      "source": [
        "suma_1 = Suma(10, 5)\n",
        "print(\"El valor 1 de la suma_1 es:\")\n",
        "suma_1.imprimir_valor(suma_1.get_valor1())\n",
        "\n",
        "print(\"El valor 2 de la suma_1 es:\")\n",
        "suma_1.imprimir_valor(suma_1.get_valor2())\n",
        "\n",
        "print(\"El resultado de la suma es:\")\n",
        "suma_1.sumar()"
      ],
      "metadata": {
        "colab": {
          "base_uri": "https://localhost:8080/"
        },
        "id": "io_dPEuNGk0J",
        "outputId": "5f9e3b30-1c0a-4d03-f78f-49dc79939fef"
      },
      "execution_count": null,
      "outputs": [
        {
          "output_type": "stream",
          "name": "stdout",
          "text": [
            "El valor 1 de la suma_1 es:\n",
            "10\n",
            "El valor 2 de la suma_1 es:\n",
            "5\n",
            "El resultado de la suma es:\n",
            "15\n"
          ]
        }
      ]
    },
    {
      "cell_type": "markdown",
      "source": [
        "**Herencia Múltiple**\n",
        "\n",
        "En Python a diferencia de otros lenguajes como Java o C#, se permite la herencia múltiple, es decir una clase puede heredar de varias clases a la vez\n",
        "\n",
        "Ejemplo:"
      ],
      "metadata": {
        "id": "Aw6qxmF0QAZ7"
      }
    },
    {
      "cell_type": "code",
      "source": [
        "# Clase 1\n",
        "class AnimalTerrestre:\n",
        "    def __init__(self, velocidad_caminar):\n",
        "        self._velocidad_caminar = velocidad_caminar\n",
        "\n",
        "    def caminar(self):\n",
        "        print(f\"El animal camina a {self._velocidad_caminar} km/h.\")\n",
        "\n",
        "    def velocidad_caminar(self):\n",
        "        return self._velocidad_caminar\n",
        "\n",
        "    def velocidad_caminar(self, nueva_velocidad):\n",
        "        if nueva_velocidad >= 0:\n",
        "            self._velocidad_caminar = nueva_velocidad\n",
        "        else:\n",
        "            print(\"La velocidad de caminar no puede ser negativa.\")\n",
        "\n",
        "# Clase 2\n",
        "class AnimalAcuatico:\n",
        "    def __init__(self, velocidad_nadar):\n",
        "        self._velocidad_nadar = velocidad_nadar\n",
        "\n",
        "    def nadar(self):\n",
        "        print(f\"El animal nada a {self._velocidad_nadar} km/h.\")\n",
        "\n",
        "    def velocidad_nadar(self):\n",
        "        return self._velocidad_nadar\n",
        "\n",
        "    def velocidad_nadar(self, nueva_velocidad):\n",
        "        if nueva_velocidad >= 0:\n",
        "            self._velocidad_nadar = nueva_velocidad\n",
        "        else:\n",
        "            print(\"La velocidad de nadar no puede ser negativa.\")\n",
        "\n"
      ],
      "metadata": {
        "id": "KcrgWgu7MO1c"
      },
      "execution_count": null,
      "outputs": []
    },
    {
      "cell_type": "code",
      "source": [
        "# Clase hija con herencia múltiple\n",
        "\n",
        "class Cocodrilo(AnimalTerrestre, AnimalAcuatico):\n",
        "\n",
        "    def __init__(self, velocidad_caminar, velocidad_nadar, longitud):\n",
        "        AnimalTerrestre.__init__(self, velocidad_caminar)\n",
        "        AnimalAcuatico.__init__(self, velocidad_nadar)\n",
        "        self._longitud = longitud\n",
        "\n",
        "    def morder(self):\n",
        "        print(f\"El cocodrilo de {self._longitud} metros muerde con fuerza.\")\n",
        "\n",
        "    def longitud(self):\n",
        "        return self._longitud\n",
        "\n",
        "    def longitud(self, nueva_longitud):\n",
        "        if nueva_longitud > 0:\n",
        "            self._longitud = nueva_longitud\n",
        "        else:\n",
        "            print(\"La longitud debe ser un número positivo.\")"
      ],
      "metadata": {
        "id": "HOvLpUHYMocS"
      },
      "execution_count": null,
      "outputs": []
    },
    {
      "cell_type": "code",
      "source": [
        "coco = Cocodrilo(velocidad_caminar=5, velocidad_nadar=15, longitud=4.5)\n",
        "\n",
        "coco.caminar()\n",
        "coco.nadar()\n",
        "coco.morder()"
      ],
      "metadata": {
        "colab": {
          "base_uri": "https://localhost:8080/"
        },
        "id": "CrcCydONRjgS",
        "outputId": "0d6bfafd-b4d1-41ff-95c6-1cc02b044127"
      },
      "execution_count": null,
      "outputs": [
        {
          "output_type": "stream",
          "name": "stdout",
          "text": [
            "El animal camina a 5 km/h.\n",
            "El animal nada a 15 km/h.\n",
            "El cocodrilo de 4.5 metros muerde con fuerza.\n"
          ]
        }
      ]
    },
    {
      "cell_type": "markdown",
      "source": [
        "El **polimorfismo** Podemos ver al polimorfismo en Python con metodos que estan en la clase padre, pero al heredar estos metodos a diferentes clases hijas, el comportamiento cambia dependiendo de la clase que fueron heredados."
      ],
      "metadata": {
        "id": "MZQISdvm9tkY"
      }
    },
    {
      "cell_type": "code",
      "source": [
        "# Clase base\n",
        "class Pokemon:\n",
        "    def __init__(self, nombre, tipo):\n",
        "        self._nombre = nombre\n",
        "        self._tipo = tipo\n",
        "\n",
        "    # Getter y setter\n",
        "    def nombre(self):\n",
        "        return self._nombre\n",
        "    def nombre(self, nuevo_nombre):\n",
        "        self._nombre = nuevo_nombre\n",
        "\n",
        "    def tipo(self):\n",
        "        return self._tipo\n",
        "    def tipo(self, nuevo_tipo):\n",
        "        self._tipo = nuevo_tipo\n",
        "\n",
        "    # Método atacar\n",
        "    def atacar(self):\n",
        "        print(f\"{self.nombre} ataca con un movimiento genérico.\")"
      ],
      "metadata": {
        "id": "b1HU0X__XXOL"
      },
      "execution_count": null,
      "outputs": []
    },
    {
      "cell_type": "code",
      "source": [
        "# Clase hija: Pikachu\n",
        "class Pikachu(Pokemon):\n",
        "    def __init__(self):\n",
        "        super().__init__(\"Pikachu\", \"Eléctrico\")\n",
        "\n",
        "    def atacar(self):\n",
        "        print(f\"{self.nombre} ataca con ¡Impactrueno!\")\n",
        "\n",
        "\n",
        "\n",
        "# Clase hija: Charizard\n",
        "class Charizard(Pokemon):\n",
        "    def __init__(self):\n",
        "        super().__init__(\"Charizard\", \"Fuego/Volador\")\n",
        "\n",
        "    def atacar(self):\n",
        "        print(f\"{self.nombre} ataca con ¡Lanzallamas!\")"
      ],
      "metadata": {
        "id": "T6hGs6bAXXsx"
      },
      "execution_count": null,
      "outputs": []
    },
    {
      "cell_type": "code",
      "source": [
        "pikachu = Pikachu()\n",
        "charizard = Charizard()"
      ],
      "metadata": {
        "id": "ul9fqfPHXlKg"
      },
      "execution_count": null,
      "outputs": []
    },
    {
      "cell_type": "code",
      "source": [
        "pikachu.atacar()\n",
        "\n",
        "charizard.atacar()"
      ],
      "metadata": {
        "colab": {
          "base_uri": "https://localhost:8080/"
        },
        "id": "ZcHd7b_BXpn3",
        "outputId": "322af656-eeb0-4577-82c5-c9abf68eb365"
      },
      "execution_count": null,
      "outputs": [
        {
          "output_type": "stream",
          "name": "stdout",
          "text": [
            "Pikachu ataca con ¡Impactrueno!\n",
            "Charizard ataca con ¡Lanzallamas!\n"
          ]
        }
      ]
    },
    {
      "cell_type": "markdown",
      "source": [
        "**Encapsular** un objeto quiere decir que puede almacenar información y trabajar con ella de tal manera que los cambios de estado solamente puedan ser realizados por los metodos que pertenecen al objeto y ningun otro objeto o funcion externa puedan hacelo. La principal caracteristica de la encapsulacion es la de abstraer al usuario del objeto de los cambios internos que puedan tener los atributos, asi como protejer la integridad del objeto no permitiendo que nadie pueda alterar el flujo predeterminado en los metodos."
      ],
      "metadata": {
        "id": "4cRYcMnw9wD_"
      }
    },
    {
      "cell_type": "markdown",
      "source": [
        "En Python el acceso a una variable o función viene determinado por su nombre: si el nombre comienza con dos guiones bajos( y no termina con dos guiones bajos) se trata de una variable o funcion privada, en caso cotrario es pública.\n",
        "\n",
        "Los métodos cuyo nombre comienza y termina con dos guiones bajos son métodos especiales que Python llama automáticamente bajo ciertas circunstancias"
      ],
      "metadata": {
        "id": "YF_GfqcCYr0K"
      }
    },
    {
      "cell_type": "code",
      "source": [
        "class Ejemplo:\n",
        "  def publico(self):\n",
        "    print('Publico')\n",
        "\n",
        "  def __privado(self):\n",
        "    print('Privado')\n",
        "\n",
        "ej = Ejemplo()\n",
        "ej.publico()\n"
      ],
      "metadata": {
        "colab": {
          "base_uri": "https://localhost:8080/"
        },
        "id": "wdEn8rpc9tE2",
        "outputId": "931ef412-fefe-4502-af21-47ef9cf4be43"
      },
      "execution_count": null,
      "outputs": [
        {
          "output_type": "stream",
          "name": "stdout",
          "text": [
            "Publico\n"
          ]
        }
      ]
    },
    {
      "cell_type": "code",
      "source": [
        "ej.__privado()"
      ],
      "metadata": {
        "colab": {
          "base_uri": "https://localhost:8080/",
          "height": 141
        },
        "id": "ZDAvyd4jj3vQ",
        "outputId": "eab896bd-ad1b-4120-e651-8188c2269ace"
      },
      "execution_count": null,
      "outputs": [
        {
          "output_type": "error",
          "ename": "AttributeError",
          "evalue": "'Ejemplo' object has no attribute '__privado'",
          "traceback": [
            "\u001b[0;31m---------------------------------------------------------------------------\u001b[0m",
            "\u001b[0;31mAttributeError\u001b[0m                            Traceback (most recent call last)",
            "\u001b[0;32m<ipython-input-51-2303047515>\u001b[0m in \u001b[0;36m<cell line: 0>\u001b[0;34m()\u001b[0m\n\u001b[0;32m----> 1\u001b[0;31m \u001b[0mej\u001b[0m\u001b[0;34m.\u001b[0m\u001b[0m__privado\u001b[0m\u001b[0;34m(\u001b[0m\u001b[0;34m)\u001b[0m\u001b[0;34m\u001b[0m\u001b[0;34m\u001b[0m\u001b[0m\n\u001b[0m",
            "\u001b[0;31mAttributeError\u001b[0m: 'Ejemplo' object has no attribute '__privado'"
          ]
        }
      ]
    },
    {
      "cell_type": "code",
      "source": [
        "ej._Ejemplo__privado()"
      ],
      "metadata": {
        "colab": {
          "base_uri": "https://localhost:8080/"
        },
        "id": "1CPZ-2ydaRKN",
        "outputId": "1e16500b-ffce-4513-ee50-56e2573a5a91"
      },
      "execution_count": null,
      "outputs": [
        {
          "output_type": "stream",
          "name": "stdout",
          "text": [
            "Privado\n"
          ]
        }
      ]
    },
    {
      "cell_type": "code",
      "source": [
        "class Fecha():\n",
        "  def __init__(self):\n",
        "     self.__dia = 1\n",
        "\n",
        "  def get_Dia(self):\n",
        "    return self.__dia\n",
        "\n",
        "  def set_Dia(self,dia):\n",
        "    if dia >0 and dia <31:\n",
        "      self.__dia=dia\n",
        "    else:\n",
        "      print(\"Error\")\n",
        "\n",
        "mi_fecha = Fecha()\n",
        "mi_fecha.set_Dia(33)\n",
        "mi_fecha.get_Dia()\n"
      ],
      "metadata": {
        "colab": {
          "base_uri": "https://localhost:8080/"
        },
        "id": "JMSZsN11aYEH",
        "outputId": "683ed57f-9c4d-42e3-afbe-34a7fc579632"
      },
      "execution_count": null,
      "outputs": [
        {
          "output_type": "stream",
          "name": "stdout",
          "text": [
            "Error\n"
          ]
        },
        {
          "output_type": "execute_result",
          "data": {
            "text/plain": [
              "1"
            ]
          },
          "metadata": {},
          "execution_count": 53
        }
      ]
    },
    {
      "cell_type": "code",
      "source": [
        "mi_fecha.__dia"
      ],
      "metadata": {
        "colab": {
          "base_uri": "https://localhost:8080/",
          "height": 141
        },
        "id": "pEco9bvIbQef",
        "outputId": "d542a6f0-9a1f-4edd-b09b-673ddfb29f36"
      },
      "execution_count": null,
      "outputs": [
        {
          "output_type": "error",
          "ename": "AttributeError",
          "evalue": "'Fecha' object has no attribute '__dia'",
          "traceback": [
            "\u001b[0;31m---------------------------------------------------------------------------\u001b[0m",
            "\u001b[0;31mAttributeError\u001b[0m                            Traceback (most recent call last)",
            "\u001b[0;32m<ipython-input-38-3210939295>\u001b[0m in \u001b[0;36m<cell line: 0>\u001b[0;34m()\u001b[0m\n\u001b[0;32m----> 1\u001b[0;31m \u001b[0mmi_fecha\u001b[0m\u001b[0;34m.\u001b[0m\u001b[0m__dia\u001b[0m\u001b[0;34m\u001b[0m\u001b[0;34m\u001b[0m\u001b[0m\n\u001b[0m",
            "\u001b[0;31mAttributeError\u001b[0m: 'Fecha' object has no attribute '__dia'"
          ]
        }
      ]
    },
    {
      "cell_type": "markdown",
      "source": [
        "## Ejercicios 1"
      ],
      "metadata": {
        "id": "bJ7ejZTib0KP"
      }
    },
    {
      "cell_type": "markdown",
      "source": [
        "1 Crea una clase llamada persona. Sus atributos son: nombre, edad y CURP. Construye los siguientes métodos para la clase:\n",
        "\n",
        "* Un contador, donde los datos pueden estar vacíos.\n",
        "* Los setters y getters para cada uno de los atributos.\n",
        "* mostrar(): Muestra los datos de la persona.\n",
        "* El metodo esMayorDeEdad(): Devuelve un valor lógico indicando si es mayor de esda"
      ],
      "metadata": {
        "id": "ZYC7nn8ZcBAk"
      }
    },
    {
      "cell_type": "code",
      "source": [
        "class Persona:\n",
        "\n",
        "  def __init__(self, nombre=\"\", , CURP):\n",
        "    self.nombre = nombre\n",
        "    self.edad = edad\n",
        "    self.CURP = CURP\n",
        "\n",
        "  #setter\n",
        "  def set_nombre(self,nombre):\n",
        "    self.nombre = nombre\n",
        "  def set_edad(self,edad):\n",
        "    self.edad = edad\n",
        "  def set_CURP(self,CURP):\n",
        "    self.CURP = CURP\n",
        "\n",
        "  #Getter\n",
        "  def get_nombre(self):\n",
        "    return print(f\"el nuevo nombre del objeto {self} es {self.nombre}\")\n",
        "  def get_edad(self):\n",
        "    return print(f\"La nueva edad del objeto {self} es {self.edad}\")\n",
        "  def get_CURP(self):\n",
        "    return print(f\"El nuevo CURP del objeto {self} es {self.CURP}\")\n",
        "\n",
        "\n",
        "  def contador(self):\n",
        "    print(f\"Nombre: {self.nombre}, edad: {self.edad} CURP: {self.CURP}\")\n",
        "\n",
        "  def mostrar(self):\n",
        "    print(f\"Nombre: {self.nombre}, edad: {self.edad} CURP: {self.CURP}\")\n",
        "\n",
        "\n",
        "  def esMayorDeEdad(self):\n",
        "\n",
        "    if self.edad < 18:\n",
        "      print(f\"Nombre: {self.nombre}, edad: {self.edad} con CURP: {self.CURP} es menor de edad\")\n",
        "    else:\n",
        "      print(f\"Nombre: {self.nombre}, edad: {self.edad} con CURP: {self.CURP} es mayor de edad\")\n",
        "\n",
        "\n",
        "\n",
        "\n",
        "# Define the __str__ method to control the string representation\n",
        "  def __str__(self):\n",
        "    return \"Persona\"\n",
        "\n"
      ],
      "metadata": {
        "id": "FKIwaQKvb2Mh"
      },
      "execution_count": null,
      "outputs": []
    },
    {
      "cell_type": "code",
      "source": [
        "nueva_persona = Persona(\"Rosario\", 56, \"HYSTW676776USD\")\n",
        "\n",
        "print(nueva_persona.mostrar())\n",
        "print(nueva_persona.esMayorDeEdad())\n",
        "\n",
        "nueva_persona.set_nombre(\"Ivonne\")\n",
        "nueva_persona.set_edad(17)\n",
        "nueva_persona.set_CURP(\"ITGBSHK6767H\")\n",
        "\n",
        "nueva_persona.get_nombre()\n",
        "nueva_persona.get_edad()\n",
        "nueva_persona.get_CURP()\n",
        "\n",
        "\n",
        "print(nueva_persona.mostrar())\n",
        "print(nueva_persona.esMayorDeEdad())"
      ],
      "metadata": {
        "colab": {
          "base_uri": "https://localhost:8080/"
        },
        "id": "VY9-BE6RB_Ni",
        "outputId": "619aae80-15d5-497c-e0c8-0e08320eed4d"
      },
      "execution_count": null,
      "outputs": [
        {
          "output_type": "stream",
          "name": "stdout",
          "text": [
            "Nombre: Rosario, edad: 56 CURP: HYSTW676776USD\n",
            "None\n",
            "Nombre: Rosario, edad: 56 con CURP: HYSTW676776USD es mayor de edad\n",
            "None\n",
            "el nuevo nombre del objeto Persona es Ivonne\n",
            "La nueva edad del objeto Persona es 17\n",
            "El nuevo CURP del objeto Persona es ITGBSHK6767H\n",
            "Nombre: Ivonne, edad: 17 CURP: ITGBSHK6767H\n",
            "None\n",
            "Nombre: Ivonne, edad: 17 con CURP: ITGBSHK6767H es menor de edad\n",
            "None\n"
          ]
        }
      ]
    },
    {
      "cell_type": "markdown",
      "source": [
        "2 Crea una clase llamada cuenta que tendrá os siguietnes atributos: titular (que es una persona) y cantidad (puede tener decimales). El titular será obligatorio y la cantidad opcional. Construye los siguientes métodos para la clase:\n",
        "\n",
        "* Un constructor, donde los datos pueden estar vacíos.\n",
        "* Los setters y gretters para cada uno de los atributos. El atributo no se puede modificar directamente, sólo ingresando o retirando dinero.\n",
        "* mostrar(): Muestra los datos de la cuenta\n",
        "* ingresar(cantidad): ingresa una cantidad a la cuenta, si la cantidad introducida es negativa, no se hará nada\n",
        "* retirar(cantidad): se retira una cantidad a la cuenta. La cuenta puede estar en números rojos."
      ],
      "metadata": {
        "id": "FFbD9m-Tdhwz"
      }
    },
    {
      "cell_type": "code",
      "source": [],
      "metadata": {
        "id": "qjWuhNL1daQx"
      },
      "execution_count": null,
      "outputs": []
    },
    {
      "cell_type": "markdown",
      "source": [
        "3 Vamos a definir ahora una \"Cuenta joven\", para ello vamos a crear una nueva clase Cuenta Joven que deriva de la anterior. Cuando se crea esta nueva clase, ademas del titular y la cantidad se debe guardar una bonificación que estará exresada en tanto por ciento. Construye los siguientes métodos para la clase:\n",
        "\n",
        "* Un constructor.\n",
        "* Los setters y getters para el nuevo atríbuto.\n",
        "* En esta ocasion los titulares de este tipo de cuenta tienen que ser mayor de edad, por lo tanto hay que crear un método es Titular Válido() que devuele verdadero si el titular es mayor de esdad pero menor de 25 años y falso en caso contrario.\n",
        "* Además mostrar() debe devolver el mensaje de \"Cuenta Joven\" y la bonificación de la cuenta.\n",
        "* Piensa los métodos heredados de la clase madre que hay que reescribir."
      ],
      "metadata": {
        "id": "sQU1NqgieyP6"
      }
    },
    {
      "cell_type": "code",
      "source": [],
      "metadata": {
        "id": "ca-JyVPYgMHp"
      },
      "execution_count": null,
      "outputs": []
    },
    {
      "cell_type": "markdown",
      "source": [
        "## Ejercicios 2"
      ],
      "metadata": {
        "id": "Z23mXZzhgS5m"
      }
    },
    {
      "cell_type": "markdown",
      "source": [
        "1 Escriba una clase que calcule la conversión de temperatura entre grados Fahenheit, Centígados y Kelvin."
      ],
      "metadata": {
        "id": "Od80ToS8hJO-"
      }
    },
    {
      "cell_type": "code",
      "source": [],
      "metadata": {
        "id": "W0QsdyBMgWfq"
      },
      "execution_count": null,
      "outputs": []
    },
    {
      "cell_type": "markdown",
      "source": [
        "2 Escriba una clase que implemente las operaciones básicas entre fracciones(suma, resta y multiplicación)"
      ],
      "metadata": {
        "id": "jmE9wcwUiUIZ"
      }
    },
    {
      "cell_type": "code",
      "source": [],
      "metadata": {
        "id": "DQYwAA0fiflV"
      },
      "execution_count": null,
      "outputs": []
    },
    {
      "cell_type": "markdown",
      "source": [
        "Escriba una clase con el nombre Baraja. Debe usar un mazp de 52 cartas y dar manos de 5 cartas a tras jugadores. Decidir cuál es el ganador de la partida."
      ],
      "metadata": {
        "id": "DcI3rKIwif7P"
      }
    },
    {
      "cell_type": "code",
      "source": [],
      "metadata": {
        "id": "eEZNB0hyiwIK"
      },
      "execution_count": null,
      "outputs": []
    },
    {
      "cell_type": "markdown",
      "source": [
        "When you use super().__init__(numero1, numero2) in the child class (Suma), the numero1 and numero2 values are being passed from the child class to the parent class.\n",
        "\n",
        "Here's the flow:\n",
        "\n",
        "You create an instance of the child class: suma_1 = Suma(10, 5)\n",
        "Python calls the __init__ method of the Suma class: Suma.__init__(suma_1, 10, 5) (the object itself is implicitly passed as self).\n",
        "Inside Suma.__init__, the line super().__init__(numero1, numero2) is executed.\n",
        "super() identifies the parent class (Operacion).\n",
        "super().__init__ calls the __init__ method of the parent class (Operacion).\n",
        "The values of numero1 and numero2 (which are 10 and 5 from the initial call) are passed as arguments to Operacion.__init__.\n",
        "Inside Operacion.__init__, these values are used to set self.valor1 = numero1 and self.valor2 = numero2.\n",
        "So, the arguments originate in the call to the child class's constructor and are then passed up to the parent class's constructor using super()."
      ],
      "metadata": {
        "id": "KKJO1gRq7pWQ"
      }
    },
    {
      "cell_type": "code",
      "source": [],
      "metadata": {
        "id": "qm-1EK9q7pH2"
      },
      "execution_count": null,
      "outputs": []
    },
    {
      "cell_type": "code",
      "metadata": {
        "id": "6a786c07"
      },
      "source": [
        "class Parent:\n",
        "    def __init__(self, value):\n",
        "        self.value = value\n",
        "\n",
        "    def parent_method(self):\n",
        "        print(f\"This is a method from the Parent class with value: {self.value}\")\n",
        "\n",
        "class Child(Parent):\n",
        "    def __init__(self, value, extra_value):\n",
        "        super().__init__(value) # Initialize parent part\n",
        "        self.extra_value = extra_value # Add child-specific attribute\n",
        "\n",
        "    def child_method(self):\n",
        "        print(f\"This is a method from the Child class with extra value: {self.extra_value}\")\n",
        "\n",
        "# Create an instance of the Child class\n",
        "child_obj = Child(10, 20)\n",
        "\n",
        "# You can call parent_method on the child object (inheritance)\n",
        "child_obj.parent_method()\n",
        "\n",
        "# You can call child_method on the child object (defined in child)\n",
        "child_obj.child_method()\n",
        "\n",
        "print(\"-\" * 20)\n",
        "\n",
        "# Create an instance of the Parent class\n",
        "parent_obj = Parent(5)\n",
        "\n",
        "# You can call parent_method on the parent object\n",
        "parent_obj.parent_method()\n",
        "\n",
        "# *** This is what you cannot do ***\n",
        "# Try to call child_method on the parent object\n",
        "try:\n",
        "    parent_obj.child_method()\n",
        "except AttributeError as e:\n",
        "    print(f\"Error trying to call child_method on a Parent object: {e}\")"
      ],
      "execution_count": null,
      "outputs": []
    }
  ]
}