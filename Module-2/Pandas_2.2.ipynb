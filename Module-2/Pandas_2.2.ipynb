{
  "nbformat": 4,
  "nbformat_minor": 0,
  "metadata": {
    "colab": {
      "provenance": []
    },
    "kernelspec": {
      "name": "python3",
      "display_name": "Python 3"
    },
    "language_info": {
      "name": "python"
    }
  },
  "cells": [
    {
      "cell_type": "markdown",
      "source": [
        "## Cargar los datos"
      ],
      "metadata": {
        "id": "enm2-g5cCQIx"
      }
    },
    {
      "cell_type": "code",
      "execution_count": null,
      "metadata": {
        "id": "jJHq8DsFES7a"
      },
      "outputs": [],
      "source": [
        "# Importar las librerias de pandas y numpy\n",
        "\n",
        "import pandas as pd\n",
        "import numpy as np"
      ]
    },
    {
      "cell_type": "markdown",
      "source": [
        "Abrir datos desde nuestro Drive"
      ],
      "metadata": {
        "id": "tjuWEkTZH_lZ"
      }
    },
    {
      "cell_type": "code",
      "source": [
        "# datos = pd.read_csv('ruta')\n",
        "\n",
        "datos = pd.read_csv('/content/drive/MyDrive/PILARES/Computación/Ciencia de Datos/ATP.csv')\n",
        "print(datos.info())"
      ],
      "metadata": {
        "id": "LAXljfG4Et_F",
        "colab": {
          "base_uri": "https://localhost:8080/"
        },
        "outputId": "b5aa16aa-1e9e-45bf-f47d-61464da04c95",
        "collapsed": true
      },
      "execution_count": null,
      "outputs": [
        {
          "output_type": "stream",
          "name": "stdout",
          "text": [
            "<class 'pandas.core.frame.DataFrame'>\n",
            "RangeIndex: 46652 entries, 0 to 46651\n",
            "Data columns (total 54 columns):\n",
            " #   Column      Non-Null Count  Dtype  \n",
            "---  ------      --------------  -----  \n",
            " 0   ATP         46652 non-null  int64  \n",
            " 1   Location    46652 non-null  object \n",
            " 2   Tournament  46652 non-null  object \n",
            " 3   Date        46652 non-null  object \n",
            " 4   Series      46652 non-null  object \n",
            " 5   Court       46652 non-null  object \n",
            " 6   Surface     46652 non-null  object \n",
            " 7   Round       46652 non-null  object \n",
            " 8   Best of     46652 non-null  int64  \n",
            " 9   Winner      46652 non-null  object \n",
            " 10  Loser       46652 non-null  object \n",
            " 11  WRank       46637 non-null  object \n",
            " 12  LRank       46581 non-null  object \n",
            " 13  W1          46423 non-null  float64\n",
            " 14  L1          46423 non-null  float64\n",
            " 15  W2          45962 non-null  float64\n",
            " 16  L2          45963 non-null  float64\n",
            " 17  W3          21365 non-null  float64\n",
            " 18  L3          21365 non-null  float64\n",
            " 19  W4          4226 non-null   float64\n",
            " 20  L4          4226 non-null   float64\n",
            " 21  W5          1617 non-null   float64\n",
            " 22  L5          1617 non-null   float64\n",
            " 23  Wsets       46462 non-null  float64\n",
            " 24  Lsets       46462 non-null  float64\n",
            " 25  Comment     46652 non-null  object \n",
            " 26  CBW         17507 non-null  float64\n",
            " 27  CBL         17507 non-null  float64\n",
            " 28  GBW         5055 non-null   float64\n",
            " 29  GBL         5055 non-null   float64\n",
            " 30  IWW         13358 non-null  float64\n",
            " 31  IWL         13358 non-null  float64\n",
            " 32  SBW         5424 non-null   float64\n",
            " 33  SBL         5424 non-null   float64\n",
            " 34  B365W       38019 non-null  float64\n",
            " 35  B365L       38042 non-null  float64\n",
            " 36  B&WW        1097 non-null   float64\n",
            " 37  B&WL        1097 non-null   float64\n",
            " 38  EXW         33799 non-null  float64\n",
            " 39  EXL         33804 non-null  float64\n",
            " 40  PSW         31729 non-null  float64\n",
            " 41  PSL         31729 non-null  float64\n",
            " 42  WPts        30448 non-null  float64\n",
            " 43  LPts        30396 non-null  float64\n",
            " 44  UBW         10672 non-null  float64\n",
            " 45  UBL         10672 non-null  float64\n",
            " 46  LBW         23230 non-null  float64\n",
            " 47  LBL         23239 non-null  float64\n",
            " 48  SJW         15572 non-null  float64\n",
            " 49  SJL         15579 non-null  float64\n",
            " 50  MaxW        17104 non-null  float64\n",
            " 51  MaxL        17104 non-null  float64\n",
            " 52  AvgW        17104 non-null  float64\n",
            " 53  AvgL        17104 non-null  float64\n",
            "dtypes: float64(40), int64(2), object(12)\n",
            "memory usage: 19.2+ MB\n",
            "None\n"
          ]
        },
        {
          "output_type": "stream",
          "name": "stderr",
          "text": [
            "<ipython-input-7-386ede6b6a26>:3: DtypeWarning: Columns (11,12) have mixed types. Specify dtype option on import or set low_memory=False.\n",
            "  datos = pd.read_csv('/content/drive/MyDrive/PILARES/Computación/Ciencia de Datos/ATP.csv')\n"
          ]
        }
      ]
    },
    {
      "cell_type": "markdown",
      "source": [
        "## Primeros Análisis"
      ],
      "metadata": {
        "id": "zoGEfT0SCltN"
      }
    },
    {
      "cell_type": "markdown",
      "source": [
        "Observar los primeros registros de nuestros datos"
      ],
      "metadata": {
        "id": "gb_-2EURIJI5"
      }
    },
    {
      "cell_type": "code",
      "source": [
        "print(datos.head())"
      ],
      "metadata": {
        "id": "45PhXaaPFoZq",
        "colab": {
          "base_uri": "https://localhost:8080/"
        },
        "outputId": "aff1c6ba-f84e-4b38-a22e-9af9c659e605",
        "collapsed": true
      },
      "execution_count": null,
      "outputs": [
        {
          "output_type": "stream",
          "name": "stdout",
          "text": [
            "   ATP  Location                          Tournament       Date  \\\n",
            "0    1  Adelaide  Australian Hardcourt Championships  3/01/2000   \n",
            "1    1  Adelaide  Australian Hardcourt Championships  3/01/2000   \n",
            "2    1  Adelaide  Australian Hardcourt Championships  3/01/2000   \n",
            "3    1  Adelaide  Australian Hardcourt Championships  3/01/2000   \n",
            "4    1  Adelaide  Australian Hardcourt Championships  3/01/2000   \n",
            "\n",
            "          Series    Court Surface      Round  Best of       Winner  ... UBW  \\\n",
            "0  International  Outdoor    Hard  1st Round        3   Dosedel S.  ... NaN   \n",
            "1  International  Outdoor    Hard  1st Round        3   Enqvist T.  ... NaN   \n",
            "2  International  Outdoor    Hard  1st Round        3    Escude N.  ... NaN   \n",
            "3  International  Outdoor    Hard  1st Round        3   Federer R.  ... NaN   \n",
            "4  International  Outdoor    Hard  1st Round        3  Fromberg R.  ... NaN   \n",
            "\n",
            "  UBL LBW  LBL  SJW  SJL  MaxW  MaxL  AvgW  AvgL  \n",
            "0 NaN NaN  NaN  NaN  NaN   NaN   NaN   NaN   NaN  \n",
            "1 NaN NaN  NaN  NaN  NaN   NaN   NaN   NaN   NaN  \n",
            "2 NaN NaN  NaN  NaN  NaN   NaN   NaN   NaN   NaN  \n",
            "3 NaN NaN  NaN  NaN  NaN   NaN   NaN   NaN   NaN  \n",
            "4 NaN NaN  NaN  NaN  NaN   NaN   NaN   NaN   NaN  \n",
            "\n",
            "[5 rows x 54 columns]\n"
          ]
        }
      ]
    },
    {
      "cell_type": "markdown",
      "source": [
        "Convertir nuestros datos a un data frame"
      ],
      "metadata": {
        "id": "uF0QdUlWIR4n"
      }
    },
    {
      "cell_type": "code",
      "source": [
        "nuevo = pd.DataFrame(datos)"
      ],
      "metadata": {
        "id": "O0wPgdU6FxWf"
      },
      "execution_count": null,
      "outputs": []
    },
    {
      "cell_type": "code",
      "source": [
        "print(nuevo.info())"
      ],
      "metadata": {
        "id": "kC4WML8hF5et",
        "colab": {
          "base_uri": "https://localhost:8080/"
        },
        "outputId": "b927b3ea-01a1-4e0b-c1d1-fa5aa221ae3f",
        "collapsed": true
      },
      "execution_count": null,
      "outputs": [
        {
          "output_type": "stream",
          "name": "stdout",
          "text": [
            "<class 'pandas.core.frame.DataFrame'>\n",
            "RangeIndex: 46652 entries, 0 to 46651\n",
            "Data columns (total 54 columns):\n",
            " #   Column      Non-Null Count  Dtype  \n",
            "---  ------      --------------  -----  \n",
            " 0   ATP         46652 non-null  int64  \n",
            " 1   Location    46652 non-null  object \n",
            " 2   Tournament  46652 non-null  object \n",
            " 3   Date        46652 non-null  object \n",
            " 4   Series      46652 non-null  object \n",
            " 5   Court       46652 non-null  object \n",
            " 6   Surface     46652 non-null  object \n",
            " 7   Round       46652 non-null  object \n",
            " 8   Best of     46652 non-null  int64  \n",
            " 9   Winner      46652 non-null  object \n",
            " 10  Loser       46652 non-null  object \n",
            " 11  WRank       46637 non-null  object \n",
            " 12  LRank       46581 non-null  object \n",
            " 13  W1          46423 non-null  float64\n",
            " 14  L1          46423 non-null  float64\n",
            " 15  W2          45962 non-null  float64\n",
            " 16  L2          45963 non-null  float64\n",
            " 17  W3          21365 non-null  float64\n",
            " 18  L3          21365 non-null  float64\n",
            " 19  W4          4226 non-null   float64\n",
            " 20  L4          4226 non-null   float64\n",
            " 21  W5          1617 non-null   float64\n",
            " 22  L5          1617 non-null   float64\n",
            " 23  Wsets       46462 non-null  float64\n",
            " 24  Lsets       46462 non-null  float64\n",
            " 25  Comment     46652 non-null  object \n",
            " 26  CBW         17507 non-null  float64\n",
            " 27  CBL         17507 non-null  float64\n",
            " 28  GBW         5055 non-null   float64\n",
            " 29  GBL         5055 non-null   float64\n",
            " 30  IWW         13358 non-null  float64\n",
            " 31  IWL         13358 non-null  float64\n",
            " 32  SBW         5424 non-null   float64\n",
            " 33  SBL         5424 non-null   float64\n",
            " 34  B365W       38019 non-null  float64\n",
            " 35  B365L       38042 non-null  float64\n",
            " 36  B&WW        1097 non-null   float64\n",
            " 37  B&WL        1097 non-null   float64\n",
            " 38  EXW         33799 non-null  float64\n",
            " 39  EXL         33804 non-null  float64\n",
            " 40  PSW         31729 non-null  float64\n",
            " 41  PSL         31729 non-null  float64\n",
            " 42  WPts        30448 non-null  float64\n",
            " 43  LPts        30396 non-null  float64\n",
            " 44  UBW         10672 non-null  float64\n",
            " 45  UBL         10672 non-null  float64\n",
            " 46  LBW         23230 non-null  float64\n",
            " 47  LBL         23239 non-null  float64\n",
            " 48  SJW         15572 non-null  float64\n",
            " 49  SJL         15579 non-null  float64\n",
            " 50  MaxW        17104 non-null  float64\n",
            " 51  MaxL        17104 non-null  float64\n",
            " 52  AvgW        17104 non-null  float64\n",
            " 53  AvgL        17104 non-null  float64\n",
            "dtypes: float64(40), int64(2), object(12)\n",
            "memory usage: 19.2+ MB\n",
            "None\n"
          ]
        }
      ]
    },
    {
      "cell_type": "markdown",
      "source": [
        "Remplazamos los datos faltantes con ceros"
      ],
      "metadata": {
        "id": "Bc3Rm_j6IdcW"
      }
    },
    {
      "cell_type": "code",
      "source": [
        "# Remplazar los datos faltantes\n",
        "nuevo = nuevo.replace(np.nan, \"0\")"
      ],
      "metadata": {
        "id": "dDiLLrJSF8vs"
      },
      "execution_count": null,
      "outputs": []
    },
    {
      "cell_type": "code",
      "source": [
        "# Nos muestra la informacion de nuestro Data Frame\n",
        "print(nuevo.info())"
      ],
      "metadata": {
        "id": "vhk600nOGIZJ",
        "colab": {
          "base_uri": "https://localhost:8080/"
        },
        "outputId": "528a9304-a9db-4ed1-dcd2-c472bc9fec36",
        "collapsed": true
      },
      "execution_count": null,
      "outputs": [
        {
          "output_type": "stream",
          "name": "stdout",
          "text": [
            "<class 'pandas.core.frame.DataFrame'>\n",
            "RangeIndex: 46652 entries, 0 to 46651\n",
            "Data columns (total 54 columns):\n",
            " #   Column      Non-Null Count  Dtype \n",
            "---  ------      --------------  ----- \n",
            " 0   ATP         46652 non-null  int64 \n",
            " 1   Location    46652 non-null  object\n",
            " 2   Tournament  46652 non-null  object\n",
            " 3   Date        46652 non-null  object\n",
            " 4   Series      46652 non-null  object\n",
            " 5   Court       46652 non-null  object\n",
            " 6   Surface     46652 non-null  object\n",
            " 7   Round       46652 non-null  object\n",
            " 8   Best of     46652 non-null  int64 \n",
            " 9   Winner      46652 non-null  object\n",
            " 10  Loser       46652 non-null  object\n",
            " 11  WRank       46652 non-null  object\n",
            " 12  LRank       46652 non-null  object\n",
            " 13  W1          46652 non-null  object\n",
            " 14  L1          46652 non-null  object\n",
            " 15  W2          46652 non-null  object\n",
            " 16  L2          46652 non-null  object\n",
            " 17  W3          46652 non-null  object\n",
            " 18  L3          46652 non-null  object\n",
            " 19  W4          46652 non-null  object\n",
            " 20  L4          46652 non-null  object\n",
            " 21  W5          46652 non-null  object\n",
            " 22  L5          46652 non-null  object\n",
            " 23  Wsets       46652 non-null  object\n",
            " 24  Lsets       46652 non-null  object\n",
            " 25  Comment     46652 non-null  object\n",
            " 26  CBW         46652 non-null  object\n",
            " 27  CBL         46652 non-null  object\n",
            " 28  GBW         46652 non-null  object\n",
            " 29  GBL         46652 non-null  object\n",
            " 30  IWW         46652 non-null  object\n",
            " 31  IWL         46652 non-null  object\n",
            " 32  SBW         46652 non-null  object\n",
            " 33  SBL         46652 non-null  object\n",
            " 34  B365W       46652 non-null  object\n",
            " 35  B365L       46652 non-null  object\n",
            " 36  B&WW        46652 non-null  object\n",
            " 37  B&WL        46652 non-null  object\n",
            " 38  EXW         46652 non-null  object\n",
            " 39  EXL         46652 non-null  object\n",
            " 40  PSW         46652 non-null  object\n",
            " 41  PSL         46652 non-null  object\n",
            " 42  WPts        46652 non-null  object\n",
            " 43  LPts        46652 non-null  object\n",
            " 44  UBW         46652 non-null  object\n",
            " 45  UBL         46652 non-null  object\n",
            " 46  LBW         46652 non-null  object\n",
            " 47  LBL         46652 non-null  object\n",
            " 48  SJW         46652 non-null  object\n",
            " 49  SJL         46652 non-null  object\n",
            " 50  MaxW        46652 non-null  object\n",
            " 51  MaxL        46652 non-null  object\n",
            " 52  AvgW        46652 non-null  object\n",
            " 53  AvgL        46652 non-null  object\n",
            "dtypes: int64(2), object(52)\n",
            "memory usage: 19.2+ MB\n",
            "None\n"
          ]
        }
      ]
    },
    {
      "cell_type": "code",
      "source": [
        "#Describe el Data Frame, si se tienen columnas de valores numericos nos muestra las estadísticas básicas\n",
        "\n",
        "print(nuevo.describe())"
      ],
      "metadata": {
        "id": "60katWCJGPVU",
        "colab": {
          "base_uri": "https://localhost:8080/"
        },
        "outputId": "7c992576-30e3-4efe-a3c0-77d1d820316b"
      },
      "execution_count": null,
      "outputs": [
        {
          "output_type": "stream",
          "name": "stdout",
          "text": [
            "                ATP       Best of\n",
            "count  46652.000000  46652.000000\n",
            "mean      32.931000      3.373746\n",
            "std       17.953268      0.780315\n",
            "min        1.000000     -1.000000\n",
            "25%       19.000000      3.000000\n",
            "50%       33.000000      3.000000\n",
            "75%       49.000000      3.000000\n",
            "max       69.000000      5.000000\n"
          ]
        }
      ]
    },
    {
      "cell_type": "code",
      "source": [
        "print(nuevo.describe(include=[np.number]))"
      ],
      "metadata": {
        "id": "1LsNOkfIGnm2",
        "colab": {
          "base_uri": "https://localhost:8080/"
        },
        "outputId": "2710f7a6-ac29-450d-bda3-ef325680b6aa"
      },
      "execution_count": null,
      "outputs": [
        {
          "output_type": "stream",
          "name": "stdout",
          "text": [
            "                ATP       Best of\n",
            "count  46652.000000  46652.000000\n",
            "mean      32.931000      3.373746\n",
            "std       17.953268      0.780315\n",
            "min        1.000000     -1.000000\n",
            "25%       19.000000      3.000000\n",
            "50%       33.000000      3.000000\n",
            "75%       49.000000      3.000000\n",
            "max       69.000000      5.000000\n"
          ]
        }
      ]
    },
    {
      "cell_type": "code",
      "source": [
        "# Remplazamos los valores N/A y NR por cero\n",
        "\n",
        "nuevo = nuevo.replace(\"N/A\",\"0\")\n",
        "nuevo = nuevo.replace(\"NR\", \"0\")"
      ],
      "metadata": {
        "id": "O22tymVCG14m"
      },
      "execution_count": null,
      "outputs": []
    },
    {
      "cell_type": "code",
      "source": [
        "print(nuevo.describe())"
      ],
      "metadata": {
        "id": "KKQAobvuG28G",
        "colab": {
          "base_uri": "https://localhost:8080/"
        },
        "outputId": "ee9e2cb3-a0bf-40db-d1f0-62d667e5db35",
        "collapsed": true
      },
      "execution_count": null,
      "outputs": [
        {
          "output_type": "stream",
          "name": "stdout",
          "text": [
            "                ATP       Best of\n",
            "count  46652.000000  46652.000000\n",
            "mean      32.931000      3.373746\n",
            "std       17.953268      0.780315\n",
            "min        1.000000     -1.000000\n",
            "25%       19.000000      3.000000\n",
            "50%       33.000000      3.000000\n",
            "75%       49.000000      3.000000\n",
            "max       69.000000      5.000000\n"
          ]
        }
      ]
    },
    {
      "cell_type": "markdown",
      "source": [
        "Imprimir los encabezados del DF"
      ],
      "metadata": {
        "id": "4HPHVkazQu4-"
      }
    },
    {
      "cell_type": "code",
      "source": [
        "# Imprimir los encabezados del Data Frame\n",
        "print(list(nuevo))"
      ],
      "metadata": {
        "colab": {
          "base_uri": "https://localhost:8080/"
        },
        "id": "8p-_IDFeHa_o",
        "outputId": "2e2ba9ec-a3c5-4fc0-a9af-0e98f9001edc",
        "collapsed": true
      },
      "execution_count": null,
      "outputs": [
        {
          "output_type": "stream",
          "name": "stdout",
          "text": [
            "['ATP', 'Location', 'Tournament', 'Date', 'Series', 'Court', 'Surface', 'Round', 'Best of', 'Winner', 'Loser', 'WRank', 'LRank', 'W1', 'L1', 'W2', 'L2', 'W3', 'L3', 'W4', 'L4', 'W5', 'L5', 'Wsets', 'Lsets', 'Comment', 'CBW', 'CBL', 'GBW', 'GBL', 'IWW', 'IWL', 'SBW', 'SBL', 'B365W', 'B365L', 'B&WW', 'B&WL', 'EXW', 'EXL', 'PSW', 'PSL', 'WPts', 'LPts', 'UBW', 'UBL', 'LBW', 'LBL', 'SJW', 'SJL', 'MaxW', 'MaxL', 'AvgW', 'AvgL']\n"
          ]
        }
      ]
    },
    {
      "cell_type": "markdown",
      "source": [
        "Convertir los datos de los sets y el ranking a datos numéricos"
      ],
      "metadata": {
        "id": "-U9MM3sRQ0ih"
      }
    },
    {
      "cell_type": "code",
      "source": [
        "#Con el metodo .astype podemos cambiar el tipo de dato\n",
        "\n",
        "nuevo['Wsets']= nuevo.Wsets.astype(float)\n",
        "nuevo['WRank']= nuevo.WRank.astype(float)"
      ],
      "metadata": {
        "id": "5b-db0VkHcQ9"
      },
      "execution_count": null,
      "outputs": []
    },
    {
      "cell_type": "code",
      "source": [
        "print(nuevo.describe())"
      ],
      "metadata": {
        "id": "KyVXKbqJHfch",
        "colab": {
          "base_uri": "https://localhost:8080/"
        },
        "outputId": "3941ac22-d579-4ef4-e726-c23cac70f93c",
        "collapsed": true
      },
      "execution_count": null,
      "outputs": [
        {
          "output_type": "stream",
          "name": "stdout",
          "text": [
            "                ATP       Best of         WRank         Wsets\n",
            "count  46652.000000  46652.000000  46652.000000  46652.000000\n",
            "mean      32.931000      3.373746     59.035926      2.133092\n",
            "std       17.953268      0.780315     73.296447      0.481388\n",
            "min        1.000000     -1.000000      0.000000      0.000000\n",
            "25%       19.000000      3.000000     17.000000      2.000000\n",
            "50%       33.000000      3.000000     41.000000      2.000000\n",
            "75%       49.000000      3.000000     77.000000      2.000000\n",
            "max       69.000000      5.000000   1890.000000      3.000000\n"
          ]
        }
      ]
    },
    {
      "cell_type": "markdown",
      "source": [
        "Si tomamos los datos originales, y aplicamos el metodo dropna como en cada registro existe por lo menos un valor faltante, todo el DF se elimina."
      ],
      "metadata": {
        "id": "OxEMiidSQ965"
      }
    },
    {
      "cell_type": "code",
      "source": [
        "datos.dropna(how='any', inplace=True)\n",
        "print(datos.head())"
      ],
      "metadata": {
        "id": "WkY2kYvaHs4-",
        "colab": {
          "base_uri": "https://localhost:8080/"
        },
        "outputId": "88c28f8f-ef0e-4734-b57f-84ef29eedd37",
        "collapsed": true
      },
      "execution_count": null,
      "outputs": [
        {
          "output_type": "stream",
          "name": "stdout",
          "text": [
            "Empty DataFrame\n",
            "Columns: [ATP, Location, Tournament, Date, Series, Court, Surface, Round, Best of, Winner, Loser, WRank, LRank, W1, L1, W2, L2, W3, L3, W4, L4, W5, L5, Wsets, Lsets, Comment, CBW, CBL, GBW, GBL, IWW, IWL, SBW, SBL, B365W, B365L, B&WW, B&WL, EXW, EXL, PSW, PSL, WPts, LPts, UBW, UBL, LBW, LBL, SJW, SJL, MaxW, MaxL, AvgW, AvgL]\n",
            "Index: []\n",
            "\n",
            "[0 rows x 54 columns]\n"
          ]
        }
      ]
    },
    {
      "cell_type": "markdown",
      "source": [
        "Volvemos a cargar los datos"
      ],
      "metadata": {
        "id": "YFgo7HbES1E-"
      }
    },
    {
      "cell_type": "code",
      "source": [
        "# datos = pd.read_csv('ruta')\n",
        "datos = pd.read_csv('/content/drive/MyDrive/PILARES/Computación/Ciencia de Datos/ATP.csv')"
      ],
      "metadata": {
        "id": "5d6rv7VKS0fB",
        "colab": {
          "base_uri": "https://localhost:8080/"
        },
        "outputId": "ed4cc24e-b645-4b1f-c8d7-d5d7b1b90586",
        "collapsed": true
      },
      "execution_count": null,
      "outputs": [
        {
          "output_type": "stream",
          "name": "stderr",
          "text": [
            "<ipython-input-21-4d6edf4e4be4>:2: DtypeWarning: Columns (11,12) have mixed types. Specify dtype option on import or set low_memory=False.\n",
            "  datos = pd.read_csv('/content/drive/MyDrive/PILARES/Computación/Ciencia de Datos/ATP.csv')\n"
          ]
        }
      ]
    },
    {
      "cell_type": "markdown",
      "source": [
        "## Acceder a informacion mediante iloc (índices numéricos)"
      ],
      "metadata": {
        "id": "vmybpNAcThRT"
      }
    },
    {
      "cell_type": "markdown",
      "source": [
        "Vamos a Seleccionar renglones de nuestros datos"
      ],
      "metadata": {
        "id": "F6jCXqUZTDHn"
      }
    },
    {
      "cell_type": "code",
      "source": [
        "#Seleccionar los primeros 5 renglones\n",
        "print(datos.iloc[0:5])"
      ],
      "metadata": {
        "id": "E-VZnCDRTCkX",
        "colab": {
          "base_uri": "https://localhost:8080/"
        },
        "outputId": "3497f624-2d82-41c6-be42-52d1c8667ae6",
        "collapsed": true
      },
      "execution_count": null,
      "outputs": [
        {
          "output_type": "stream",
          "name": "stdout",
          "text": [
            "   ATP  Location                          Tournament       Date  \\\n",
            "0    1  Adelaide  Australian Hardcourt Championships  3/01/2000   \n",
            "1    1  Adelaide  Australian Hardcourt Championships  3/01/2000   \n",
            "2    1  Adelaide  Australian Hardcourt Championships  3/01/2000   \n",
            "3    1  Adelaide  Australian Hardcourt Championships  3/01/2000   \n",
            "4    1  Adelaide  Australian Hardcourt Championships  3/01/2000   \n",
            "\n",
            "          Series    Court Surface      Round  Best of       Winner  ... UBW  \\\n",
            "0  International  Outdoor    Hard  1st Round        3   Dosedel S.  ... NaN   \n",
            "1  International  Outdoor    Hard  1st Round        3   Enqvist T.  ... NaN   \n",
            "2  International  Outdoor    Hard  1st Round        3    Escude N.  ... NaN   \n",
            "3  International  Outdoor    Hard  1st Round        3   Federer R.  ... NaN   \n",
            "4  International  Outdoor    Hard  1st Round        3  Fromberg R.  ... NaN   \n",
            "\n",
            "  UBL LBW  LBL  SJW  SJL  MaxW  MaxL  AvgW  AvgL  \n",
            "0 NaN NaN  NaN  NaN  NaN   NaN   NaN   NaN   NaN  \n",
            "1 NaN NaN  NaN  NaN  NaN   NaN   NaN   NaN   NaN  \n",
            "2 NaN NaN  NaN  NaN  NaN   NaN   NaN   NaN   NaN  \n",
            "3 NaN NaN  NaN  NaN  NaN   NaN   NaN   NaN   NaN  \n",
            "4 NaN NaN  NaN  NaN  NaN   NaN   NaN   NaN   NaN  \n",
            "\n",
            "[5 rows x 54 columns]\n"
          ]
        }
      ]
    },
    {
      "cell_type": "code",
      "source": [
        "# Acceder a renglones salteados\n",
        "print(datos.iloc[[0,3,6,24],])"
      ],
      "metadata": {
        "id": "s95-hxktTS4E",
        "colab": {
          "base_uri": "https://localhost:8080/"
        },
        "outputId": "2eabad8e-8373-4898-d578-1f28d97ba4fd",
        "collapsed": true
      },
      "execution_count": null,
      "outputs": [
        {
          "output_type": "stream",
          "name": "stdout",
          "text": [
            "    ATP  Location                          Tournament       Date  \\\n",
            "0     1  Adelaide  Australian Hardcourt Championships  3/01/2000   \n",
            "3     1  Adelaide  Australian Hardcourt Championships  3/01/2000   \n",
            "6     1  Adelaide  Australian Hardcourt Championships  3/01/2000   \n",
            "24    1  Adelaide  Australian Hardcourt Championships  3/01/2000   \n",
            "\n",
            "           Series    Court Surface          Round  Best of       Winner  ...  \\\n",
            "0   International  Outdoor    Hard      1st Round        3   Dosedel S.  ...   \n",
            "3   International  Outdoor    Hard      1st Round        3   Federer R.  ...   \n",
            "6   International  Outdoor    Hard      1st Round        3  Grosjean S.  ...   \n",
            "24  International  Outdoor    Hard  Quarterfinals        3   Enqvist T.  ...   \n",
            "\n",
            "   UBW UBL LBW  LBL  SJW  SJL  MaxW  MaxL  AvgW  AvgL  \n",
            "0  NaN NaN NaN  NaN  NaN  NaN   NaN   NaN   NaN   NaN  \n",
            "3  NaN NaN NaN  NaN  NaN  NaN   NaN   NaN   NaN   NaN  \n",
            "6  NaN NaN NaN  NaN  NaN  NaN   NaN   NaN   NaN   NaN  \n",
            "24 NaN NaN NaN  NaN  NaN  NaN   NaN   NaN   NaN   NaN  \n",
            "\n",
            "[4 rows x 54 columns]\n"
          ]
        }
      ]
    },
    {
      "cell_type": "code",
      "source": [
        "# Acceder a columnas\n",
        "print(datos.iloc[:,0:2])"
      ],
      "metadata": {
        "id": "l9VBeL0-T3lc",
        "colab": {
          "base_uri": "https://localhost:8080/"
        },
        "outputId": "f89d0cce-611d-4187-f7d8-7f462f4ef3e4"
      },
      "execution_count": null,
      "outputs": [
        {
          "output_type": "stream",
          "name": "stdout",
          "text": [
            "       ATP        Location\n",
            "0        1        Adelaide\n",
            "1        1        Adelaide\n",
            "2        1        Adelaide\n",
            "3        1        Adelaide\n",
            "4        1        Adelaide\n",
            "...    ...             ...\n",
            "46647   54  St. Petersburg\n",
            "46648   54  St. Petersburg\n",
            "46649   54  St. Petersburg\n",
            "46650   54  St. Petersburg\n",
            "46651   54  St. Petersburg\n",
            "\n",
            "[46652 rows x 2 columns]\n"
          ]
        }
      ]
    },
    {
      "cell_type": "code",
      "source": [
        "# Seleccionar diferentes columnas y filas\n",
        "print(datos.iloc[[0,3,6,24],[0,5,6]])"
      ],
      "metadata": {
        "id": "xXvDdDq5T-AG",
        "colab": {
          "base_uri": "https://localhost:8080/"
        },
        "collapsed": true,
        "outputId": "e03a9d6c-2770-43eb-bcb5-1f9136fb1c45"
      },
      "execution_count": null,
      "outputs": [
        {
          "output_type": "stream",
          "name": "stdout",
          "text": [
            "    ATP    Court Surface\n",
            "0     1  Outdoor    Hard\n",
            "3     1  Outdoor    Hard\n",
            "6     1  Outdoor    Hard\n",
            "24    1  Outdoor    Hard\n"
          ]
        }
      ]
    },
    {
      "cell_type": "code",
      "source": [
        "# Seleccionar rangos de registros y columnas\n",
        "print(datos.iloc[0:5,5:8])"
      ],
      "metadata": {
        "id": "KDsYDZ6kT_Wc",
        "colab": {
          "base_uri": "https://localhost:8080/"
        },
        "collapsed": true,
        "outputId": "f511d330-7dec-4e01-991f-e4a4719ae425"
      },
      "execution_count": null,
      "outputs": [
        {
          "output_type": "stream",
          "name": "stdout",
          "text": [
            "     Court Surface      Round\n",
            "0  Outdoor    Hard  1st Round\n",
            "1  Outdoor    Hard  1st Round\n",
            "2  Outdoor    Hard  1st Round\n",
            "3  Outdoor    Hard  1st Round\n",
            "4  Outdoor    Hard  1st Round\n"
          ]
        }
      ]
    },
    {
      "cell_type": "markdown",
      "source": [
        "## Ejercicios"
      ],
      "metadata": {
        "id": "dStzdyLnJH3j"
      }
    },
    {
      "cell_type": "markdown",
      "source": [
        "Carga los datos del archivo Ejercicio_1.csv o crea el siguiente Data Frame"
      ],
      "metadata": {
        "id": "C7P-z2nwLwa4"
      }
    },
    {
      "cell_type": "markdown",
      "source": [
        "![df.png](data:image/png;base64,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)"
      ],
      "metadata": {
        "id": "I8KgzXakNPnC"
      }
    },
    {
      "cell_type": "markdown",
      "source": [
        "Muestra las primeras 3 filas del DataFrame"
      ],
      "metadata": {
        "id": "JfZ12at_Pu2g"
      }
    },
    {
      "cell_type": "code",
      "source": [
        "import pandas as pd\n",
        "import numpy as np"
      ],
      "metadata": {
        "id": "7XVzfi5mJx3a"
      },
      "execution_count": null,
      "outputs": []
    },
    {
      "cell_type": "code",
      "source": [
        "from google.colab import drive\n",
        "drive.mount('/content/drive')\n"
      ],
      "metadata": {
        "colab": {
          "base_uri": "https://localhost:8080/"
        },
        "id": "ZSsGje0nJxtm",
        "outputId": "ff9c3f81-d639-47da-f7f5-eae1c8228460"
      },
      "execution_count": null,
      "outputs": [
        {
          "output_type": "stream",
          "name": "stdout",
          "text": [
            "Drive already mounted at /content/drive; to attempt to forcibly remount, call drive.mount(\"/content/drive\", force_remount=True).\n"
          ]
        }
      ]
    },
    {
      "cell_type": "code",
      "source": [
        "datos = pd.read_csv(\"/content/drive/MyDrive/CIENCIA DE DATOS/2DO MODULO/2DA SEMANA/Ejercicio_1.csv\")\n"
      ],
      "metadata": {
        "id": "0yzHJ8iQJxEr"
      },
      "execution_count": null,
      "outputs": []
    },
    {
      "cell_type": "code",
      "source": [
        "df = pd.DataFrame(datos)\n",
        "print(df)"
      ],
      "metadata": {
        "id": "2KFEYDaIJLw9",
        "colab": {
          "base_uri": "https://localhost:8080/"
        },
        "outputId": "3b222a07-b18f-4450-83fe-08753801ed65"
      },
      "execution_count": null,
      "outputs": [
        {
          "output_type": "stream",
          "name": "stdout",
          "text": [
            "   Nombre  Edad      Carrera  Promedio Aprobado\n",
            "0     Ana    23  Matemáticas       8.7       si\n",
            "1    Luis    25      Fisisca       9.1       si\n",
            "2  Carlos    22     Medicina       NaN       si\n",
            "3   Maria    24     Historia       7.5       no\n",
            "4   Elena  n/ a      Química       8.2       si\n",
            "5   Pedro    23     Biología       6.9       no\n",
            "6   Jorge    21      Derecho       7.8       si\n"
          ]
        }
      ]
    },
    {
      "cell_type": "markdown",
      "source": [
        "¿Cómo se puede saber que tipo de dato tiene cada columna y cuántos valores nulos hay?"
      ],
      "metadata": {
        "id": "lmPV-NL7P0fz"
      }
    },
    {
      "cell_type": "code",
      "source": [
        "print(datos.info())"
      ],
      "metadata": {
        "id": "9BEwO8exQGyN",
        "colab": {
          "base_uri": "https://localhost:8080/"
        },
        "outputId": "ef1833f0-e5ee-411d-edba-a6792e54138b"
      },
      "execution_count": null,
      "outputs": [
        {
          "output_type": "stream",
          "name": "stdout",
          "text": [
            "<class 'pandas.core.frame.DataFrame'>\n",
            "RangeIndex: 7 entries, 0 to 6\n",
            "Data columns (total 5 columns):\n",
            " #   Column    Non-Null Count  Dtype  \n",
            "---  ------    --------------  -----  \n",
            " 0   Nombre    7 non-null      object \n",
            " 1   Edad      7 non-null      object \n",
            " 2   Carrera   7 non-null      object \n",
            " 3   Promedio  6 non-null      float64\n",
            " 4   Aprobado  7 non-null      object \n",
            "dtypes: float64(1), object(4)\n",
            "memory usage: 412.0+ bytes\n",
            "None\n"
          ]
        }
      ]
    },
    {
      "cell_type": "markdown",
      "source": [
        "Remplaza 'Si' por True y 'No' por False en la columna 'Aprobado'"
      ],
      "metadata": {
        "id": "N9xoPbk8QKcW"
      }
    },
    {
      "cell_type": "code",
      "source": [
        "pd.set_option('future.no_silent_downcasting', True)\n",
        "df[\"Aprobado\"] = df[\"Aprobado\"].replace({\"si\":True, \"no\":False})\n",
        "print(df)"
      ],
      "metadata": {
        "id": "aZETYoyIQY6i",
        "colab": {
          "base_uri": "https://localhost:8080/"
        },
        "outputId": "f8e4750f-a56f-4970-ac5f-e7f06497b1ff"
      },
      "execution_count": null,
      "outputs": [
        {
          "output_type": "stream",
          "name": "stdout",
          "text": [
            "   Nombre  Edad      Carrera  Promedio Aprobado\n",
            "0     Ana    23  Matemáticas       8.7     True\n",
            "1    Luis    25      Fisisca       9.1     True\n",
            "2  Carlos    22     Medicina       NaN     True\n",
            "3   Maria    24     Historia       7.5    False\n",
            "4   Elena  n/ a      Química       8.2     True\n",
            "5   Pedro    23     Biología       6.9    False\n",
            "6   Jorge    21      Derecho       7.8     True\n"
          ]
        }
      ]
    },
    {
      "cell_type": "markdown",
      "source": [
        "Muestra las estadísticas básicas del Data Frame para las columnas númericas."
      ],
      "metadata": {
        "id": "U6PycDjGQayM"
      }
    },
    {
      "cell_type": "code",
      "source": [
        "print(df.describe())"
      ],
      "metadata": {
        "id": "HeB2PfHzRG6i",
        "colab": {
          "base_uri": "https://localhost:8080/"
        },
        "outputId": "20fba18b-5bc3-451a-bca6-bd7e8dd1665b"
      },
      "execution_count": null,
      "outputs": [
        {
          "output_type": "stream",
          "name": "stdout",
          "text": [
            "       Promedio\n",
            "count  6.000000\n",
            "mean   8.033333\n",
            "std    0.804156\n",
            "min    6.900000\n",
            "25%    7.575000\n",
            "50%    8.000000\n",
            "75%    8.575000\n",
            "max    9.100000\n"
          ]
        }
      ]
    },
    {
      "cell_type": "markdown",
      "source": [
        "Convierte la columna 'Edad' a tipo numerico (int)"
      ],
      "metadata": {
        "id": "mZshPRvsRHiJ"
      }
    },
    {
      "cell_type": "code",
      "source": [
        "df[\"Edad\"]= pd.to_numeric(df[\"Edad\"], errors=\"coerce\").fillna(0).astype(int)\n",
        "print(df.info())"
      ],
      "metadata": {
        "id": "t6vwdKUkRQvh",
        "colab": {
          "base_uri": "https://localhost:8080/"
        },
        "outputId": "2e6d5d3a-b3dc-4d76-dd8b-c955bd7c378f"
      },
      "execution_count": null,
      "outputs": [
        {
          "output_type": "stream",
          "name": "stdout",
          "text": [
            "<class 'pandas.core.frame.DataFrame'>\n",
            "RangeIndex: 7 entries, 0 to 6\n",
            "Data columns (total 5 columns):\n",
            " #   Column    Non-Null Count  Dtype  \n",
            "---  ------    --------------  -----  \n",
            " 0   Nombre    7 non-null      object \n",
            " 1   Edad      7 non-null      int64  \n",
            " 2   Carrera   7 non-null      object \n",
            " 3   Promedio  6 non-null      float64\n",
            " 4   Aprobado  7 non-null      object \n",
            "dtypes: float64(1), int64(1), object(3)\n",
            "memory usage: 412.0+ bytes\n",
            "None\n"
          ]
        }
      ]
    },
    {
      "cell_type": "markdown",
      "source": [
        "Elimina todas las filas que tengan algún valor nulo"
      ],
      "metadata": {
        "id": "ubqOJQ88RUyJ"
      }
    },
    {
      "cell_type": "code",
      "source": [
        "df.dropna(inplace=True)\n",
        "df.reset_index(drop=True, inplace=True)\n",
        "print(df)\n"
      ],
      "metadata": {
        "id": "UAykYM9HRcWY",
        "colab": {
          "base_uri": "https://localhost:8080/"
        },
        "outputId": "a70ab063-1b6a-4303-9c5a-eb0efb7c481b"
      },
      "execution_count": null,
      "outputs": [
        {
          "output_type": "stream",
          "name": "stdout",
          "text": [
            "  Nombre  Edad      Carrera  Promedio Aprobado\n",
            "0    Ana    23  Matemáticas       8.7     True\n",
            "1   Luis    25      Fisisca       9.1     True\n",
            "2  Maria    24     Historia       7.5    False\n",
            "3  Elena     0      Química       8.2     True\n",
            "4  Pedro    23     Biología       6.9    False\n",
            "5  Jorge    21      Derecho       7.8     True\n"
          ]
        }
      ]
    },
    {
      "cell_type": "markdown",
      "source": [
        "Muestra la información completa de la tercera fila"
      ],
      "metadata": {
        "id": "QdZeCCPbRdIi"
      }
    },
    {
      "cell_type": "code",
      "source": [
        "print(datos.iloc[3])"
      ],
      "metadata": {
        "id": "7Cx9fKtoRkwU",
        "colab": {
          "base_uri": "https://localhost:8080/"
        },
        "outputId": "f5f81759-7e2d-4e86-ebb6-5c92ce3f1ddf"
      },
      "execution_count": null,
      "outputs": [
        {
          "output_type": "stream",
          "name": "stdout",
          "text": [
            "Nombre         Maria\n",
            "Edad              24\n",
            "Carrera     Historia\n",
            "Promedio         7.5\n",
            "Aprobado          no\n",
            "Name: 3, dtype: object\n"
          ]
        }
      ]
    },
    {
      "cell_type": "markdown",
      "source": [
        "Muestra las primeras 4 filas y solo las columnas 'Nombre' y 'Edad'"
      ],
      "metadata": {
        "id": "PzYM4X57Ses3"
      }
    },
    {
      "cell_type": "code",
      "source": [
        "print(df.iloc[0:4])"
      ],
      "metadata": {
        "id": "ZKE5W6AZSlyw",
        "colab": {
          "base_uri": "https://localhost:8080/"
        },
        "outputId": "768e8df9-c331-4f8b-fa85-abf16c5d12d3"
      },
      "execution_count": null,
      "outputs": [
        {
          "output_type": "stream",
          "name": "stdout",
          "text": [
            "  Nombre  Edad      Carrera  Promedio Aprobado\n",
            "0    Ana    23  Matemáticas       8.7     True\n",
            "1   Luis    25      Fisisca       9.1     True\n",
            "2  Maria    24     Historia       7.5    False\n",
            "3  Elena     0      Química       8.2     True\n"
          ]
        }
      ]
    },
    {
      "cell_type": "markdown",
      "source": [
        "Muestra las filas 2 a 5 y solo la columna 'Promedio'"
      ],
      "metadata": {
        "id": "g1i4QlyKSoLs"
      }
    },
    {
      "cell_type": "code",
      "source": [
        "print(df.iloc[2:6,3])"
      ],
      "metadata": {
        "id": "a1yr2CfbStc3",
        "colab": {
          "base_uri": "https://localhost:8080/"
        },
        "outputId": "8f9df0c2-037e-4e57-91c8-235f97643689"
      },
      "execution_count": null,
      "outputs": [
        {
          "output_type": "stream",
          "name": "stdout",
          "text": [
            "2    7.5\n",
            "3    8.2\n",
            "4    6.9\n",
            "5    7.8\n",
            "Name: Promedio, dtype: float64\n"
          ]
        }
      ]
    },
    {
      "cell_type": "markdown",
      "source": [
        "Muestra las filas pares (índices 0,2,4,6) y las columnas 'Edad' y 'Promedio'"
      ],
      "metadata": {
        "id": "sxFEptPrSung"
      }
    },
    {
      "cell_type": "code",
      "source": [
        "import requests\n",
        "url = \"https://task-app-backend-rg4t.onrender.com/tasks\"\n",
        "response = requests.get(url)\n",
        "\n",
        "if response.status_code == 200:\n",
        "  data = response.json()\n",
        "  print(data)\n",
        "\n",
        "else:\n",
        "  print(\"Error en las solicitud:\", response.status_code)\n"
      ],
      "metadata": {
        "colab": {
          "base_uri": "https://localhost:8080/"
        },
        "id": "bvH3ics-Yar-",
        "outputId": "ae4fc018-f08b-41cb-c4b0-123cf8817693"
      },
      "execution_count": null,
      "outputs": [
        {
          "output_type": "stream",
          "name": "stdout",
          "text": [
            "[{'_id': '68214e3be2f55b5974ac7181', 'title': 'Steve Jr', 'completed': False}, {'_id': '68214e8de2f55b5974ac7182', 'title': 'Canela vomitona', 'completed': False}, {'_id': '68214ef781a5e134d6f92fa8', 'completed': 'false', 'title': 'Torta de jamon'}, {'_id': '682b832e151ec80e8cc59f35', 'title': 'A pancho le gustan los nachos', 'completed': 'false'}, {'_id': '682b836e151ec80e8cc59f36', 'title': 'Torta de huevo', 'completed': False}, {'_id': '6832076ad8bac4601c3ba753', 'title': 'Ciencia de datos 24.05.2025', 'completed': False}, {'_id': '68320e5ad8bac4601c3ba755', 'title': 'Esta es un POST googleColab', 'completed': False}]\n"
          ]
        }
      ]
    },
    {
      "cell_type": "code",
      "source": [
        "import requests\n",
        "url = \"https://task-app-backend-rg4t.onrender.com/tasks/68320942d8bac4601c3ba754\"\n",
        "response = requests.delete(url)\n",
        "\n",
        "if response.status_code == 200:\n",
        "  data = response.json()\n",
        "  print(data)\n",
        "\n",
        "else:\n",
        "  print(\"Error en las solicitud:\", response.status_code)"
      ],
      "metadata": {
        "colab": {
          "base_uri": "https://localhost:8080/"
        },
        "id": "VkQRtN77Yagg",
        "outputId": "c961ae05-c85c-461a-ca38-26bdec1f8a5a"
      },
      "execution_count": null,
      "outputs": [
        {
          "output_type": "stream",
          "name": "stdout",
          "text": [
            "{'status': 'deleted'}\n"
          ]
        }
      ]
    },
    {
      "cell_type": "code",
      "source": [
        "import requests\n",
        "url = \"https://task-app-backend-rg4t.onrender.com/tasks\"\n",
        "\n",
        "insertdata = {\"title\":\"Esta es un segundo POST googleColab\"}\n",
        "\n",
        "response = requests.post(url, json=insertdata)\n",
        "\n",
        "if response.status_code == 200:\n",
        "  print(response.text)\n",
        "\n",
        "else:\n",
        "  print(\"Error en las solicitud:\", response.status_code)"
      ],
      "metadata": {
        "colab": {
          "base_uri": "https://localhost:8080/"
        },
        "id": "7f-WiWhVgIEY",
        "outputId": "51b699d7-abf1-49a1-dfab-efbb7308977e"
      },
      "execution_count": null,
      "outputs": [
        {
          "output_type": "stream",
          "name": "stdout",
          "text": [
            "{\"id\":\"68320fccd8bac4601c3ba759\"}\n"
          ]
        }
      ]
    },
    {
      "cell_type": "code",
      "source": [
        "print(df.iloc[::2,[1,3]])"
      ],
      "metadata": {
        "id": "prnseK_WS_C2",
        "colab": {
          "base_uri": "https://localhost:8080/"
        },
        "outputId": "1a7491c5-3741-48ae-d744-2d905c241af8"
      },
      "execution_count": null,
      "outputs": [
        {
          "output_type": "stream",
          "name": "stdout",
          "text": [
            "   Edad  Promedio\n",
            "0    23       8.7\n",
            "2    24       7.5\n",
            "4    23       6.9\n"
          ]
        }
      ]
    }
  ]
}